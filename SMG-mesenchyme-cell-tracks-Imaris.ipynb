{
 "cells": [
  {
   "cell_type": "code",
   "execution_count": 1,
   "metadata": {},
   "outputs": [
    {
     "name": "stdout",
     "output_type": "stream",
     "text": [
      "mkdir: ../jupyter_figures: File exists\n"
     ]
    }
   ],
   "source": [
    "import sys, os, glob\n",
    "import numpy as np\n",
    "import pandas as pd\n",
    "import matplotlib\n",
    "import matplotlib.pyplot as plt\n",
    "import seaborn as sns\n",
    "# from scipy.interpolate import interp1d\n",
    "from scipy.stats import percentileofscore\n",
    "from sw_utilities import tukeyTest\n",
    "\n",
    "%matplotlib inline\n",
    "font = {'family' : 'Arial',\n",
    "        'size'   : 7}\n",
    "matplotlib.rc('font', **font)\n",
    "plt.rcParams['svg.fonttype'] = 'none'\n",
    "\n",
    "# make a folder to store figures if not already there\n",
    "!mkdir ../jupyter_figures"
   ]
  },
  {
   "cell_type": "code",
   "execution_count": 2,
   "metadata": {},
   "outputs": [
    {
     "data": {
      "text/html": [
       "<div>\n",
       "<style scoped>\n",
       "    .dataframe tbody tr th:only-of-type {\n",
       "        vertical-align: middle;\n",
       "    }\n",
       "\n",
       "    .dataframe tbody tr th {\n",
       "        vertical-align: top;\n",
       "    }\n",
       "\n",
       "    .dataframe thead th {\n",
       "        text-align: right;\n",
       "    }\n",
       "</style>\n",
       "<table border=\"1\" class=\"dataframe\">\n",
       "  <thead>\n",
       "    <tr style=\"text-align: right;\">\n",
       "      <th></th>\n",
       "      <th>Track_Speed_Mean</th>\n",
       "      <th>Unit</th>\n",
       "      <th>Category</th>\n",
       "      <th>ID</th>\n",
       "      <th>Unnamed: 4</th>\n",
       "      <th>experiment_group</th>\n",
       "      <th>group_id</th>\n",
       "    </tr>\n",
       "  </thead>\n",
       "  <tbody>\n",
       "    <tr>\n",
       "      <th>0</th>\n",
       "      <td>10.6759</td>\n",
       "      <td>um/h</td>\n",
       "      <td>Track</td>\n",
       "      <td>1000000000</td>\n",
       "      <td>NaN</td>\n",
       "      <td>control</td>\n",
       "      <td>control_SMG1</td>\n",
       "    </tr>\n",
       "    <tr>\n",
       "      <th>1</th>\n",
       "      <td>10.2957</td>\n",
       "      <td>um/h</td>\n",
       "      <td>Track</td>\n",
       "      <td>1000000016</td>\n",
       "      <td>NaN</td>\n",
       "      <td>control</td>\n",
       "      <td>control_SMG1</td>\n",
       "    </tr>\n",
       "    <tr>\n",
       "      <th>2</th>\n",
       "      <td>13.4984</td>\n",
       "      <td>um/h</td>\n",
       "      <td>Track</td>\n",
       "      <td>1000000017</td>\n",
       "      <td>NaN</td>\n",
       "      <td>control</td>\n",
       "      <td>control_SMG1</td>\n",
       "    </tr>\n",
       "    <tr>\n",
       "      <th>3</th>\n",
       "      <td>12.2534</td>\n",
       "      <td>um/h</td>\n",
       "      <td>Track</td>\n",
       "      <td>1000000018</td>\n",
       "      <td>NaN</td>\n",
       "      <td>control</td>\n",
       "      <td>control_SMG1</td>\n",
       "    </tr>\n",
       "    <tr>\n",
       "      <th>4</th>\n",
       "      <td>14.3365</td>\n",
       "      <td>um/h</td>\n",
       "      <td>Track</td>\n",
       "      <td>1000000024</td>\n",
       "      <td>NaN</td>\n",
       "      <td>control</td>\n",
       "      <td>control_SMG1</td>\n",
       "    </tr>\n",
       "  </tbody>\n",
       "</table>\n",
       "</div>"
      ],
      "text/plain": [
       "   Track_Speed_Mean  Unit Category          ID  Unnamed: 4 experiment_group  \\\n",
       "0           10.6759  um/h    Track  1000000000         NaN          control   \n",
       "1           10.2957  um/h    Track  1000000016         NaN          control   \n",
       "2           13.4984  um/h    Track  1000000017         NaN          control   \n",
       "3           12.2534  um/h    Track  1000000018         NaN          control   \n",
       "4           14.3365  um/h    Track  1000000024         NaN          control   \n",
       "\n",
       "       group_id  \n",
       "0  control_SMG1  \n",
       "1  control_SMG1  \n",
       "2  control_SMG1  \n",
       "3  control_SMG1  \n",
       "4  control_SMG1  "
      ]
     },
     "execution_count": 2,
     "metadata": {},
     "output_type": "execute_result"
    }
   ],
   "source": [
    "# read in control mesenchyme tracking data\n",
    "\n",
    "# SMG1\n",
    "track_file = '../data/imaris-overall-tracking-data/Mesenchyme-tracks/control-mesenchyme-Imaris-tracking-stats/180218-all-combined-denoised-bc-all-t1-150_Statistics/180218-all-combined-denoised-bc-all-t1-150_Track_Speed_Mean.csv'\n",
    "df = pd.read_csv(track_file, skiprows=3)\n",
    "df.rename(columns={'Track Speed Mean':'Track_Speed_Mean'}, inplace=True)\n",
    "\n",
    "# annotate experimenal group\n",
    "df['experiment_group'] = ['control']*len(df)\n",
    "df['group_id'] = ['control_SMG1']*len(df)\n",
    "\n",
    "df1 = df\n",
    "\n",
    "# SMG2\n",
    "track_file = '../data/imaris-overall-tracking-data/Mesenchyme-tracks/control-mesenchyme-Imaris-tracking-stats/190227-mtmghisg-2photon-e13-combined-bc-all-with-tracking-and-selection_Statistics/190227-mtmghisg-2photon-e13-combined-bc-all-with-tracking-and-selection_Track_Speed_Mean.csv'\n",
    "df = pd.read_csv(track_file, skiprows=3)\n",
    "df.rename(columns={'Track Speed Mean':'Track_Speed_Mean'}, inplace=True)\n",
    "\n",
    "# annotate experimenal group\n",
    "df['experiment_group'] = ['control']*len(df)\n",
    "df['group_id'] = ['control_SMG2']*len(df)\n",
    "\n",
    "df2 = df\n",
    "\n",
    "# SMG3\n",
    "track_file = '../data/imaris-overall-tracking-data/Mesenchyme-tracks/control-mesenchyme-Imaris-tracking-stats/4_K14Rhet-HisG-1-1-denoised_Statistics/4_K14Rhet-HisG-1-1-denoised_Track_Speed_Mean.csv'\n",
    "df = pd.read_csv(track_file, skiprows=3)\n",
    "df.rename(columns={'Track Speed Mean':'Track_Speed_Mean'}, inplace=True)\n",
    "\n",
    "# annotate experimenal group\n",
    "df['experiment_group'] = ['control']*len(df)\n",
    "df['group_id'] = ['control_SMG3']*len(df)\n",
    "\n",
    "df3 = df\n",
    "\n",
    "\n",
    "df_control = pd.concat([df1, df2, df3])\n",
    "df_control.head()\n"
   ]
  },
  {
   "cell_type": "code",
   "execution_count": 3,
   "metadata": {},
   "outputs": [
    {
     "data": {
      "text/html": [
       "<div>\n",
       "<style scoped>\n",
       "    .dataframe tbody tr th:only-of-type {\n",
       "        vertical-align: middle;\n",
       "    }\n",
       "\n",
       "    .dataframe tbody tr th {\n",
       "        vertical-align: top;\n",
       "    }\n",
       "\n",
       "    .dataframe thead th {\n",
       "        text-align: right;\n",
       "    }\n",
       "</style>\n",
       "<table border=\"1\" class=\"dataframe\">\n",
       "  <thead>\n",
       "    <tr style=\"text-align: right;\">\n",
       "      <th></th>\n",
       "      <th>Track_Speed_Mean</th>\n",
       "      <th>Unit</th>\n",
       "      <th>Category</th>\n",
       "      <th>ID</th>\n",
       "      <th>Unnamed: 4</th>\n",
       "      <th>experiment_group</th>\n",
       "      <th>group_id</th>\n",
       "    </tr>\n",
       "  </thead>\n",
       "  <tbody>\n",
       "    <tr>\n",
       "      <th>0</th>\n",
       "      <td>14.33820</td>\n",
       "      <td>um/h</td>\n",
       "      <td>Track</td>\n",
       "      <td>1000000003</td>\n",
       "      <td>NaN</td>\n",
       "      <td>collagenase</td>\n",
       "      <td>collagenase_SMG1</td>\n",
       "    </tr>\n",
       "    <tr>\n",
       "      <th>1</th>\n",
       "      <td>15.27630</td>\n",
       "      <td>um/h</td>\n",
       "      <td>Track</td>\n",
       "      <td>1000000004</td>\n",
       "      <td>NaN</td>\n",
       "      <td>collagenase</td>\n",
       "      <td>collagenase_SMG1</td>\n",
       "    </tr>\n",
       "    <tr>\n",
       "      <th>2</th>\n",
       "      <td>24.02030</td>\n",
       "      <td>um/h</td>\n",
       "      <td>Track</td>\n",
       "      <td>1000000005</td>\n",
       "      <td>NaN</td>\n",
       "      <td>collagenase</td>\n",
       "      <td>collagenase_SMG1</td>\n",
       "    </tr>\n",
       "    <tr>\n",
       "      <th>3</th>\n",
       "      <td>9.28651</td>\n",
       "      <td>um/h</td>\n",
       "      <td>Track</td>\n",
       "      <td>1000000006</td>\n",
       "      <td>NaN</td>\n",
       "      <td>collagenase</td>\n",
       "      <td>collagenase_SMG1</td>\n",
       "    </tr>\n",
       "    <tr>\n",
       "      <th>4</th>\n",
       "      <td>15.37580</td>\n",
       "      <td>um/h</td>\n",
       "      <td>Track</td>\n",
       "      <td>1000000008</td>\n",
       "      <td>NaN</td>\n",
       "      <td>collagenase</td>\n",
       "      <td>collagenase_SMG1</td>\n",
       "    </tr>\n",
       "  </tbody>\n",
       "</table>\n",
       "</div>"
      ],
      "text/plain": [
       "   Track_Speed_Mean  Unit Category          ID  Unnamed: 4 experiment_group  \\\n",
       "0          14.33820  um/h    Track  1000000003         NaN      collagenase   \n",
       "1          15.27630  um/h    Track  1000000004         NaN      collagenase   \n",
       "2          24.02030  um/h    Track  1000000005         NaN      collagenase   \n",
       "3           9.28651  um/h    Track  1000000006         NaN      collagenase   \n",
       "4          15.37580  um/h    Track  1000000008         NaN      collagenase   \n",
       "\n",
       "           group_id  \n",
       "0  collagenase_SMG1  \n",
       "1  collagenase_SMG1  \n",
       "2  collagenase_SMG1  \n",
       "3  collagenase_SMG1  \n",
       "4  collagenase_SMG1  "
      ]
     },
     "execution_count": 3,
     "metadata": {},
     "output_type": "execute_result"
    }
   ],
   "source": [
    "# read in collagenase mesenchyme tracking data\n",
    "\n",
    "# SMG1\n",
    "track_file = '../data/imaris-overall-tracking-data/Mesenchyme-tracks/collagenase-mesenchyme-Imaris-tracking-stats/1_SMG1-1_Statistics/1_SMG1-1_Track_Speed_Mean.csv'\n",
    "df = pd.read_csv(track_file, skiprows=3)\n",
    "df.rename(columns={'Track Speed Mean':'Track_Speed_Mean'}, inplace=True)\n",
    "\n",
    "# annotate experimenal group\n",
    "df['experiment_group'] = ['collagenase']*len(df)\n",
    "df['group_id'] = ['collagenase_SMG1']*len(df)\n",
    "\n",
    "df4 = df\n",
    "\n",
    "# SMG2\n",
    "track_file = '../data/imaris-overall-tracking-data/Mesenchyme-tracks/collagenase-mesenchyme-Imaris-tracking-stats/3_SMG2-1_Statistics/3_SMG2-1_Track_Speed_Mean.csv'\n",
    "df = pd.read_csv(track_file, skiprows=3)\n",
    "df.rename(columns={'Track Speed Mean':'Track_Speed_Mean'}, inplace=True)\n",
    "\n",
    "# annotate experimenal group\n",
    "df['experiment_group'] = ['collagenase']*len(df)\n",
    "df['group_id'] = ['collagenase_SMG2']*len(df)\n",
    "\n",
    "df5 = df\n",
    "\n",
    "# SMG3\n",
    "track_file = '../data/imaris-overall-tracking-data/Mesenchyme-tracks/collagenase-mesenchyme-Imaris-tracking-stats/7_SMG3-1_Statistics/7_SMG3-1_Track_Speed_Mean.csv'\n",
    "df = pd.read_csv(track_file, skiprows=3)\n",
    "df.rename(columns={'Track Speed Mean':'Track_Speed_Mean'}, inplace=True)\n",
    "\n",
    "# annotate experimenal group\n",
    "df['experiment_group'] = ['collagenase']*len(df)\n",
    "df['group_id'] = ['collagenase_SMG3']*len(df)\n",
    "\n",
    "df6 = df\n",
    "\n",
    "\n",
    "df_collagenase = pd.concat([df4, df5, df6])\n",
    "df_collagenase.head()\n"
   ]
  },
  {
   "cell_type": "code",
   "execution_count": 4,
   "metadata": {},
   "outputs": [],
   "source": [
    "# # SMG2 last 2 h -- epithelium relatively stable, but mesenchyme speed still higher\n",
    "# track_file = '../data/imaris-overall-tracking-data/Mesenchyme-tracks/collagenase-mesenchyme-Imaris-tracking-stats/last-2h-3_SMG2-1_Statistics/3_SMG2-1_Track_Speed_Mean.csv'\n",
    "# df = pd.read_csv(track_file, skiprows=3)\n",
    "# df.rename(columns={'Track Speed Mean':'Track_Speed_Mean'}, inplace=True)\n",
    "\n",
    "# # annotate experimenal group\n",
    "# df['experiment_group'] = ['collagenase']*len(df)\n",
    "# df['group_id'] = ['collagenase_SMG2_last2h']*len(df)\n",
    "\n",
    "# df7 = df\n",
    "\n",
    "# # SMG1 10-14 h -- epithelium relatively stable, but mesenchyme speed still higher\n",
    "# track_file = '../data/imaris-overall-tracking-data/Mesenchyme-tracks/collagenase-mesenchyme-Imaris-tracking-stats/10-14h/1_SMG1-1_Track_Speed_Mean.csv'\n",
    "# df = pd.read_csv(track_file, skiprows=3)\n",
    "# df.rename(columns={'Track Speed Mean':'Track_Speed_Mean'}, inplace=True)\n",
    "\n",
    "# # annotate experimenal group\n",
    "# df['experiment_group'] = ['collagenase']*len(df)\n",
    "# df['group_id'] = ['collagenase_SMG1_10-14h']*len(df)\n",
    "\n",
    "# df8 = df"
   ]
  },
  {
   "cell_type": "code",
   "execution_count": 5,
   "metadata": {},
   "outputs": [
    {
     "name": "stdout",
     "output_type": "stream",
     "text": [
      "[2035, 3138, 705, 1578, 2652, 1909]\n",
      "[12.588794093366076, 12.303216634799227, 12.62687195744682, 15.635469708491788, 13.769293638763196, 15.156333410162375]\n"
     ]
    }
   ],
   "source": [
    "df_list = [df1, df2, df3, df4, df5, df6]\n",
    "groups = ['control']*3 + ['collagenase']*3\n",
    "\n",
    "# combine all data\n",
    "df = pd.concat(df_list)\n",
    "\n",
    "# check n for each gland\n",
    "print([len(i) for i in df_list])\n",
    "\n",
    "# mean track speed for each gland\n",
    "mes_speed_means = [i.Track_Speed_Mean.mean() for i in df_list]\n",
    "print(mes_speed_means)"
   ]
  },
  {
   "cell_type": "code",
   "execution_count": 6,
   "metadata": {},
   "outputs": [
    {
     "data": {
      "text/plain": [
       "<AxesSubplot:xlabel='group_id', ylabel='Track_Speed_Mean'>"
      ]
     },
     "execution_count": 6,
     "metadata": {},
     "output_type": "execute_result"
    },
    {
     "data": {
      "image/png": "[encoded data removed]",
      "text/plain": [
       "<Figure size 432x288 with 1 Axes>"
      ]
     },
     "metadata": {
      "needs_background": "light"
     },
     "output_type": "display_data"
    }
   ],
   "source": [
    "sns.violinplot(data=df, x='group_id', y='Track_Speed_Mean', cut=0)"
   ]
  },
  {
   "cell_type": "code",
   "execution_count": 7,
   "metadata": {},
   "outputs": [
    {
     "name": "stdout",
     "output_type": "stream",
     "text": [
      "Summary of test:\n",
      "           Multiple Comparison of Means - Tukey HSD, FWER=0.05           \n",
      "========================================================================\n",
      "     group1           group2      meandiff p-adj   lower   upper  reject\n",
      "------------------------------------------------------------------------\n",
      "collagenase_SMG1 collagenase_SMG2  -1.8662  0.001 -2.2613 -1.4711   True\n",
      "collagenase_SMG1 collagenase_SMG3  -0.4791 0.0157 -0.9019 -0.0563   True\n",
      "collagenase_SMG1     control_SMG1  -3.0467  0.001 -3.4635 -2.6298   True\n",
      "collagenase_SMG1     control_SMG2  -3.3323  0.001 -3.7158 -2.9487   True\n",
      "collagenase_SMG1     control_SMG3  -3.0086  0.001 -3.5716 -2.4456   True\n",
      "collagenase_SMG2 collagenase_SMG3    1.387  0.001   1.014    1.76   True\n",
      "collagenase_SMG2     control_SMG1  -1.1805  0.001 -1.5467 -0.8143   True\n",
      "collagenase_SMG2     control_SMG2  -1.4661  0.001 -1.7939 -1.1383   True\n",
      "collagenase_SMG2     control_SMG3  -1.1424  0.001  -1.669 -0.6158   True\n",
      "collagenase_SMG3     control_SMG1  -2.5675  0.001 -2.9635 -2.1716   True\n",
      "collagenase_SMG3     control_SMG2  -2.8531  0.001 -3.2138 -2.4924   True\n",
      "collagenase_SMG3     control_SMG3  -2.5295  0.001 -3.0771 -1.9818   True\n",
      "    control_SMG1     control_SMG2  -0.2856 0.1934 -0.6393  0.0681  False\n",
      "    control_SMG1     control_SMG3   0.0381    0.9  -0.505  0.5812  False\n",
      "    control_SMG2     control_SMG3   0.3237  0.479 -0.1943  0.8416  False\n",
      "------------------------------------------------------------------------\n",
      "p values of all pair-wise tests:\n",
      " [0.001      0.01571615 0.001      0.001      0.001      0.001\n",
      " 0.001      0.001      0.001      0.001      0.001      0.001\n",
      " 0.19338152 0.9        0.47902967]\n"
     ]
    },
    {
     "data": {
      "text/plain": [
       "<statsmodels.sandbox.stats.multicomp.TukeyHSDResults at 0x7fcdd8ebc190>"
      ]
     },
     "execution_count": 7,
     "metadata": {},
     "output_type": "execute_result"
    }
   ],
   "source": [
    "tukeyTest(df.Track_Speed_Mean, df.group_id)"
   ]
  },
  {
   "cell_type": "code",
   "execution_count": 13,
   "metadata": {},
   "outputs": [
    {
     "data": {
      "image/png": "[encoded data removed]",
      "text/plain": [
       "<Figure size 150x240 with 1 Axes>"
      ]
     },
     "metadata": {
      "needs_background": "light"
     },
     "output_type": "display_data"
    }
   ],
   "source": [
    "output_prefix = 'SMG-mesenchyme-mean-track-speed-collagenase-violin'\n",
    "output_file_name = '../jupyter_figures/' + output_prefix + '.svg'\n",
    "\n",
    "fig = plt.figure(figsize=(0.5, 0.8), dpi=300)\n",
    "ax = fig.add_axes([0.1, 0.1, 0.8, 0.8])\n",
    "\n",
    "xCol, yCol = 'experiment_group', 'Track_Speed_Mean'\n",
    "sns.violinplot(x=xCol, y=yCol, data=df,\n",
    "               inner='quartile',\n",
    "               scale= 'count',\n",
    "               cut=0, linewidth=.8)\n",
    "\n",
    "# Remove excessive clipping\n",
    "for o in fig.findobj():\n",
    "    o.set_clip_on(False)\n",
    "for o in ax.findobj():\n",
    "    o.set_clip_on(False)\n",
    "\n",
    "# rotate x tick labels if necessary\n",
    "x_labels = [\"Control\", \"Collagenase\"]\n",
    "# x_labels = ax.get_xticklabels()\n",
    "ax.set_xticklabels(labels=x_labels, rotation=60, ha=\"right\")\n",
    "    \n",
    "plt.xlabel(None)\n",
    "# plt.ylabel('Mean track\\nspeed (µm/h)')\n",
    "plt.ylabel('Mean mesenchyme\\ntrack speed (µm/h)')\n",
    "plt.yticks([0, 20, 40])\n",
    "\n",
    "plt.savefig(output_file_name)\n"
   ]
  },
  {
   "cell_type": "code",
   "execution_count": 9,
   "metadata": {},
   "outputs": [
    {
     "name": "stdout",
     "output_type": "stream",
     "text": [
      "Mean of all control mesenchyme: 12.440904135760427\n",
      "Total number of all control mesenchyme tracks: 5878\n",
      "Mean of all collagenase mesenchyme: 14.680302721941716\n",
      "Total number of all collagenase mesenchyme tracks: 6139\n"
     ]
    }
   ],
   "source": [
    "mean_control = df_control.Track_Speed_Mean.mean()\n",
    "print(\"Mean of all control mesenchyme:\", mean_control)\n",
    "print(\"Total number of all control mesenchyme tracks:\", len(df_control))\n",
    "\n",
    "mean_collagenase = df_collagenase.Track_Speed_Mean.mean()\n",
    "print(\"Mean of all collagenase mesenchyme:\", mean_collagenase)\n",
    "print(\"Total number of all collagenase mesenchyme tracks:\", len(df_collagenase))"
   ]
  },
  {
   "cell_type": "code",
   "execution_count": 10,
   "metadata": {},
   "outputs": [],
   "source": [
    "percent_change = (mean_collagenase - mean_control) / mean_control * 100"
   ]
  },
  {
   "cell_type": "code",
   "execution_count": 11,
   "metadata": {},
   "outputs": [
    {
     "name": "stdout",
     "output_type": "stream",
     "text": [
      "18.00028809597777\n"
     ]
    }
   ],
   "source": [
    "print(percent_change)"
   ]
  }
 ],
 "metadata": {
  "kernelspec": {
   "display_name": "Python 3",
   "language": "python",
   "name": "python3"
  },
  "language_info": {
   "codemirror_mode": {
    "name": "ipython",
    "version": 3
   },
   "file_extension": ".py",
   "mimetype": "text/x-python",
   "name": "python",
   "nbconvert_exporter": "python",
   "pygments_lexer": "ipython3",
   "version": "3.7.10"
  }
 },
 "nbformat": 4,
 "nbformat_minor": 4
}
