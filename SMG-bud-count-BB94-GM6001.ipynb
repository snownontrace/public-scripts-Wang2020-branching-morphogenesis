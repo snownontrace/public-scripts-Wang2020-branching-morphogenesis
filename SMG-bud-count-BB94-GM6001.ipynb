{
 "cells": [
  {
   "cell_type": "code",
   "execution_count": 1,
   "metadata": {},
   "outputs": [
    {
     "name": "stdout",
     "output_type": "stream",
     "text": [
      "mkdir: ../jupyter_figures: File exists\n"
     ]
    }
   ],
   "source": [
    "import sys, os, glob, warnings, logging\n",
    "import numpy as np\n",
    "import pandas as pd\n",
    "import matplotlib\n",
    "import matplotlib.pyplot as plt\n",
    "import seaborn as sns\n",
    "from scipy import stats\n",
    "from sw_plotting import change_bar_width, plotCountBar\n",
    "from sw_utilities import tukeyTest\n",
    "\n",
    "# logging.basicConfig(stream=sys.stdout, format='%(asctime)s - %(levelname)s - %(message)s', level=logging.DEBUG)\n",
    "logging.basicConfig(stream=sys.stdout, format='%(asctime)s - %(levelname)s - %(message)s', level=logging.INFO)\n",
    "\n",
    "# ignore warnings\n",
    "warnings.filterwarnings('ignore')\n",
    "\n",
    "# plotting configuration\n",
    "font = {'family' : 'Arial',\n",
    "        'size'   : 7}\n",
    "matplotlib.rc('font', **font)\n",
    "plt.rcParams['svg.fonttype'] = 'none'\n",
    "\n",
    "# Make a folder if it is not already there to store exported figures\n",
    "!mkdir ../jupyter_figures"
   ]
  },
  {
   "cell_type": "code",
   "execution_count": 2,
   "metadata": {},
   "outputs": [
    {
     "data": {
      "text/html": [
       "<div>\n",
       "<style scoped>\n",
       "    .dataframe tbody tr th:only-of-type {\n",
       "        vertical-align: middle;\n",
       "    }\n",
       "\n",
       "    .dataframe tbody tr th {\n",
       "        vertical-align: top;\n",
       "    }\n",
       "\n",
       "    .dataframe thead th {\n",
       "        text-align: right;\n",
       "    }\n",
       "</style>\n",
       "<table border=\"1\" class=\"dataframe\">\n",
       "  <thead>\n",
       "    <tr style=\"text-align: right;\">\n",
       "      <th></th>\n",
       "      <th>file_name</th>\n",
       "      <th>bud_count</th>\n",
       "      <th>time</th>\n",
       "      <th>groups</th>\n",
       "      <th>group_id</th>\n",
       "    </tr>\n",
       "  </thead>\n",
       "  <tbody>\n",
       "    <tr>\n",
       "      <th>0</th>\n",
       "      <td>20210125-mouse1-BB94-0uM-001_8bit.tif</td>\n",
       "      <td>4</td>\n",
       "      <td>day0</td>\n",
       "      <td>control</td>\n",
       "      <td>control_day0</td>\n",
       "    </tr>\n",
       "    <tr>\n",
       "      <th>1</th>\n",
       "      <td>20210125-mouse1-BB94-0uM-002_8bit.tif</td>\n",
       "      <td>4</td>\n",
       "      <td>day0</td>\n",
       "      <td>control</td>\n",
       "      <td>control_day0</td>\n",
       "    </tr>\n",
       "    <tr>\n",
       "      <th>2</th>\n",
       "      <td>20210125-mouse1-BB94-0uM-003_8bit.tif</td>\n",
       "      <td>3</td>\n",
       "      <td>day0</td>\n",
       "      <td>control</td>\n",
       "      <td>control_day0</td>\n",
       "    </tr>\n",
       "    <tr>\n",
       "      <th>3</th>\n",
       "      <td>20210125-mouse1-BB94-0uM-004_8bit.tif</td>\n",
       "      <td>2</td>\n",
       "      <td>day0</td>\n",
       "      <td>control</td>\n",
       "      <td>control_day0</td>\n",
       "    </tr>\n",
       "    <tr>\n",
       "      <th>4</th>\n",
       "      <td>20210125-mouse1-BB94-0uM-005_8bit.tif</td>\n",
       "      <td>4</td>\n",
       "      <td>day0</td>\n",
       "      <td>control</td>\n",
       "      <td>control_day0</td>\n",
       "    </tr>\n",
       "  </tbody>\n",
       "</table>\n",
       "</div>"
      ],
      "text/plain": [
       "                               file_name  bud_count  time   groups  \\\n",
       "0  20210125-mouse1-BB94-0uM-001_8bit.tif          4  day0  control   \n",
       "1  20210125-mouse1-BB94-0uM-002_8bit.tif          4  day0  control   \n",
       "2  20210125-mouse1-BB94-0uM-003_8bit.tif          3  day0  control   \n",
       "3  20210125-mouse1-BB94-0uM-004_8bit.tif          2  day0  control   \n",
       "4  20210125-mouse1-BB94-0uM-005_8bit.tif          4  day0  control   \n",
       "\n",
       "       group_id  \n",
       "0  control_day0  \n",
       "1  control_day0  \n",
       "2  control_day0  \n",
       "3  control_day0  \n",
       "4  control_day0  "
      ]
     },
     "execution_count": 2,
     "metadata": {},
     "output_type": "execute_result"
    }
   ],
   "source": [
    "# Bud count data for control, BB-94 or GM-6001 treated glands\n",
    "\n",
    "# day 0\n",
    "df = pd.read_csv('../data/SMG-bud-count-BB94-GM6001/20210125-BB94-GM6001-E12p5-or-E13-0d-output-824389-budCount.txt')\n",
    "df.columns = ['file_name', 'bud_count']\n",
    "df['time'] = ['day0'] * len(df)\n",
    "df['groups'] = ['control']*5 + ['BB-94']*5 + ['control']*5 + ['GM-6001']*5\n",
    "df['group_id'] = [df.groups.tolist()[i] + '_' + df.time.tolist()[i] for i in range(len(df))]\n",
    "df0 = df\n",
    "\n",
    "df = pd.read_csv('../data/SMG-bud-count-BB94-GM6001/20210126-BB94-GM6001-E12p5-or-E13-1d-output-387588-budCount.txt')\n",
    "df.columns = ['file_name', 'bud_count']\n",
    "df['time'] = ['day1'] * len(df)\n",
    "df['groups'] = ['control']*5 + ['BB-94']*5 + ['control']*5 + ['GM-6001']*5\n",
    "df['group_id'] = [df.groups.tolist()[i] + '_' + df.time.tolist()[i] for i in range(len(df))]\n",
    "df1 = df\n",
    "\n",
    "df = pd.read_csv('../data/SMG-bud-count-BB94-GM6001/20210127-BB94-GM6001-E12p5-or-E13-2d-output-129975-budCount.txt')\n",
    "df.columns = ['file_name', 'bud_count']\n",
    "df['time'] = ['day2'] * len(df)\n",
    "df['groups'] = ['control']*5 + ['BB-94']*5 + ['control']*5 + ['GM-6001']*5\n",
    "df['group_id'] = [df.groups.tolist()[i] + '_' + df.time.tolist()[i] for i in range(len(df))]\n",
    "df2 = df\n",
    "\n",
    "df = pd.concat([df0, df1, df2])\n",
    "df.head()"
   ]
  },
  {
   "cell_type": "code",
   "execution_count": 3,
   "metadata": {},
   "outputs": [
    {
     "data": {
      "text/plain": [
       "<AxesSubplot:xlabel='group_id', ylabel='bud_count'>"
      ]
     },
     "execution_count": 3,
     "metadata": {},
     "output_type": "execute_result"
    },
    {
     "data": {
      "image/png": "[encoded data removed]",
      "text/plain": [
       "<Figure size 432x288 with 1 Axes>"
      ]
     },
     "metadata": {
      "needs_background": "light"
     },
     "output_type": "display_data"
    }
   ],
   "source": [
    "# quick visulization\n",
    "sns.swarmplot(df.group_id, df.bud_count)"
   ]
  },
  {
   "cell_type": "code",
   "execution_count": 4,
   "metadata": {},
   "outputs": [
    {
     "data": {
      "text/plain": [
       "<AxesSubplot:>"
      ]
     },
     "execution_count": 4,
     "metadata": {},
     "output_type": "execute_result"
    },
    {
     "data": {
      "image/png": "[encoded data removed]",
      "text/plain": [
       "<Figure size 432x288 with 1 Axes>"
      ]
     },
     "metadata": {
      "needs_background": "light"
     },
     "output_type": "display_data"
    }
   ],
   "source": [
    "# calculate bud count ratios\n",
    "ratio_d1to0 = df[df.time=='day1']['bud_count'].values / df[df.time=='day0']['bud_count'].values\n",
    "ratio_d2to1 = df[df.time=='day2']['bud_count'].values / df[df.time=='day1']['bud_count'].values\n",
    "\n",
    "# annoate ratios with group id\n",
    "ratios = ratio_d1to0.tolist() + ratio_d2to1.tolist()\n",
    "groups = ['ratio_d1to0']*len(ratio_d1to0) + ['ratio_d2to1']*len(ratio_d2to1)\n",
    "experiment_groups = ['control']*5 + ['BB-94']*5 + ['control']*5 + ['GM-6001']*5 + \\\n",
    "                    ['control']*5 + ['BB-94']*5 + ['control']*5 + ['GM-6001']*5\n",
    "group_id = [experiment_groups[i] + '_' + groups[i] for i in range(len(groups))]\n",
    "\n",
    "# quick visulization\n",
    "sns.swarmplot(group_id, ratios)\n"
   ]
  },
  {
   "cell_type": "code",
   "execution_count": 9,
   "metadata": {},
   "outputs": [
    {
     "data": {
      "text/plain": [
       "<AxesSubplot:>"
      ]
     },
     "execution_count": 9,
     "metadata": {},
     "output_type": "execute_result"
    },
    {
     "data": {
      "image/png": "[encoded data removed]",
      "text/plain": [
       "<Figure size 432x288 with 1 Axes>"
      ]
     },
     "metadata": {
      "needs_background": "light"
     },
     "output_type": "display_data"
    }
   ],
   "source": [
    "# Important to note that day 1 to day 0 ratio is very sensitive to the initial stage,\n",
    "# and thus has high variation between experiments\n",
    "#\n",
    "# To simplify the plot, only plot the day 2 to day 0, similar as in integrin blocking\n",
    "# \n",
    "ratios = df[df.time=='day2']['bud_count'].values / df[df.time=='day0']['bud_count'].values\n",
    "\n",
    "# annoate ratios with group id\n",
    "group_id = ['Control']*5 + ['BB-94']*5 + ['Control']*5 + ['GM-6001']*5\n",
    "\n",
    "# quick visulization\n",
    "sns.swarmplot(group_id, ratios)"
   ]
  },
  {
   "cell_type": "code",
   "execution_count": 10,
   "metadata": {},
   "outputs": [
    {
     "name": "stdout",
     "output_type": "stream",
     "text": [
      "Summary of test:\n",
      "  Multiple Comparison of Means - Tukey HSD, FWER=0.05  \n",
      "======================================================\n",
      " group1  group2 meandiff p-adj   lower   upper  reject\n",
      "------------------------------------------------------\n",
      "  BB-94 Control   5.5417  0.001  3.8882  7.1951   True\n",
      "  BB-94 GM-6001   1.6667 0.0929 -0.2426  3.5759  False\n",
      "Control GM-6001   -3.875  0.001 -5.5285 -2.2215   True\n",
      "------------------------------------------------------\n",
      "p values of all pair-wise tests:\n",
      " [0.001      0.09286592 0.001     ]\n"
     ]
    },
    {
     "data": {
      "text/plain": [
       "<statsmodels.sandbox.stats.multicomp.TukeyHSDResults at 0x7fad73175890>"
      ]
     },
     "execution_count": 10,
     "metadata": {},
     "output_type": "execute_result"
    }
   ],
   "source": [
    "tukeyTest(ratios, group_id)"
   ]
  },
  {
   "cell_type": "code",
   "execution_count": 13,
   "metadata": {},
   "outputs": [
    {
     "data": {
      "image/png": "[encoded data removed]",
      "text/plain": [
       "<Figure size 240x420 with 1 Axes>"
      ]
     },
     "metadata": {
      "needs_background": "light"
     },
     "output_type": "display_data"
    }
   ],
   "source": [
    "# Swarm and bar plot of different collagenase concentrations\n",
    "\n",
    "outputPrefix = 'SMG-BB94-GM6001-bud-ratios-day2-to-0'\n",
    "outputFigPath = \"../jupyter_figures/\" + outputPrefix + \".svg\"\n",
    "\n",
    "fig_width=0.8\n",
    "fig_height=1.4\n",
    "fig = plt.figure(figsize=(fig_width,fig_height), dpi=300)\n",
    "ax = fig.add_axes([0.1, 0.1, 0.8, 0.8])\n",
    "\n",
    "ax = sns.swarmplot(x=group_id, y=ratios,\n",
    "                   color=\"blue\",\n",
    "                   size=2.0,\n",
    "                   alpha=.4)\n",
    "\n",
    "ax = sns.barplot(x=group_id, y=ratios,\n",
    "                 color=\".7\", alpha=1.0,\n",
    "                 errwidth=.7, errcolor=\"k\", capsize=.2, ci=95)\n",
    "\n",
    "plt.ylim(0, 17)\n",
    "plt.yticks([0, 5, 10, 15])\n",
    "\n",
    "plt.xlabel(None)\n",
    "plt.ylabel(\"Bud ratio 48h / 2h\")\n",
    "\n",
    "# rotate x tick labels if necessary\n",
    "x_labels = ax.get_xticklabels()\n",
    "ax.set_xticklabels(labels=x_labels, rotation=60, ha=\"right\")\n",
    "\n",
    "# make the bar width narrower\n",
    "change_bar_width(ax, .6)\n",
    "\n",
    "for o in fig.findobj():\n",
    "    o.set_clip_on(False)\n",
    "for o in ax.findobj():\n",
    "    o.set_clip_on(False)\n",
    "\n",
    "if outputFigPath is not None:\n",
    "    plt.savefig(outputFigPath)\n"
   ]
  },
  {
   "cell_type": "code",
   "execution_count": null,
   "metadata": {},
   "outputs": [],
   "source": []
  }
 ],
 "metadata": {
  "kernelspec": {
   "display_name": "Python 3",
   "language": "python",
   "name": "python3"
  },
  "language_info": {
   "codemirror_mode": {
    "name": "ipython",
    "version": 3
   },
   "file_extension": ".py",
   "mimetype": "text/x-python",
   "name": "python",
   "nbconvert_exporter": "python",
   "pygments_lexer": "ipython3",
   "version": "3.7.10"
  }
 },
 "nbformat": 4,
 "nbformat_minor": 4
}
