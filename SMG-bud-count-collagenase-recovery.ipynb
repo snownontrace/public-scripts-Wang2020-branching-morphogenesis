{
 "cells": [
  {
   "cell_type": "code",
   "execution_count": 27,
   "metadata": {},
   "outputs": [
    {
     "name": "stdout",
     "output_type": "stream",
     "text": [
      "mkdir: ../jupyter_figures: File exists\n"
     ]
    }
   ],
   "source": [
    "import sys, os, glob, warnings, logging\n",
    "import numpy as np\n",
    "import pandas as pd\n",
    "import matplotlib\n",
    "import matplotlib.pyplot as plt\n",
    "import seaborn as sns\n",
    "from sw_plotting import change_bar_width\n",
    "from sw_utilities import tukeyTest, getCountDFbyPrefix\n",
    "\n",
    "# logging.basicConfig(stream=sys.stdout, format='%(asctime)s - %(levelname)s - %(message)s', level=logging.DEBUG)\n",
    "logging.basicConfig(stream=sys.stdout, format='%(asctime)s - %(levelname)s - %(message)s', level=logging.INFO)\n",
    "\n",
    "# ignore warnings\n",
    "warnings.filterwarnings('ignore')\n",
    "\n",
    "# plotting configuration\n",
    "font = {'family' : 'Arial',\n",
    "        'size'   : 7}\n",
    "matplotlib.rc('font', **font)\n",
    "plt.rcParams['svg.fonttype'] = 'none'\n",
    "\n",
    "# Make a folder if it is not already there to store exported figures\n",
    "!mkdir ../jupyter_figures"
   ]
  },
  {
   "cell_type": "code",
   "execution_count": 28,
   "metadata": {},
   "outputs": [
    {
     "data": {
      "text/plain": [
       "<AxesSubplot:xlabel='time', ylabel='counts'>"
      ]
     },
     "execution_count": 28,
     "metadata": {},
     "output_type": "execute_result"
    },
    {
     "data": {
      "image/png": "[encoded data removed]",
      "text/plain": [
       "<Figure size 432x288 with 1 Axes>"
      ]
     },
     "metadata": {
      "needs_background": "light"
     },
     "output_type": "display_data"
    }
   ],
   "source": [
    "# Read in the data and put into a data frame\n",
    "datasetPrefix = \"20200117-0119-collagenase-recovery-tifs\"\n",
    "df = getCountDFbyPrefix(datasetPrefix, datasetFolder='../data/SMG-bud-count-collagenase-recovery/')\n",
    "\n",
    "# Annotate the data set\n",
    "#\n",
    "# Group 1: time 0 of collagenase treatment and recovery group\n",
    "# Group 2: time 0 of control group\n",
    "# Group 3: time 24 h of collagenase treatment and recovery group\n",
    "# Group 4, time 24 h of control group\n",
    "# Group 5: time 48 h of collagenase treatment and recovery group\n",
    "# Group 6, time 48 h of control group\n",
    "groups = [\"1\"]*11 + [\"2\"]*11 + [\"3\"]*11 + [\"4\"]*11 + [\"5\"]*11 + [\"6\"]*11\n",
    "df[\"groups\"] = groups\n",
    "\n",
    "# Groups of treatment\n",
    "treatment = [\"collagenase\"]*11 + [\"control\"]*11 + [\"collagenase\"]*11 + [\"control\"]*11 + [\"collagenase\"]*11 + [\"control\"]*11\n",
    "df[\"treatment\"] = treatment\n",
    "\n",
    "# Time points:\n",
    "time = [0]*22 + [24]*22 + [48]*22\n",
    "df[\"time\"] = time\n",
    "\n",
    "df.shape\n",
    "df.head()\n",
    "\n",
    "# # Inspect raw data if curious about how they look\n",
    "# sns.swarmplot(df.groups, df.counts)\n",
    "# sns.swarmplot(x='time', y='counts', hue='treatment', data=df)\n",
    "sns.barplot(x='time', y='counts', hue='treatment', data=df)\n"
   ]
  },
  {
   "cell_type": "code",
   "execution_count": 29,
   "metadata": {},
   "outputs": [
    {
     "name": "stdout",
     "output_type": "stream",
     "text": [
      "[ 8  3  4  7 10  9  8  3  5 13  7  5  6  5  6  7  9  6  4  5  7  6]\n",
      "[ 3  2  2  4  3  4  2  2  2  4  3 24 24 12 21 25 22 21  6 22 23 13]\n"
     ]
    },
    {
     "data": {
      "text/html": [
       "<div>\n",
       "<style scoped>\n",
       "    .dataframe tbody tr th:only-of-type {\n",
       "        vertical-align: middle;\n",
       "    }\n",
       "\n",
       "    .dataframe tbody tr th {\n",
       "        vertical-align: top;\n",
       "    }\n",
       "\n",
       "    .dataframe thead th {\n",
       "        text-align: right;\n",
       "    }\n",
       "</style>\n",
       "<table border=\"1\" class=\"dataframe\">\n",
       "  <thead>\n",
       "    <tr style=\"text-align: right;\">\n",
       "      <th></th>\n",
       "      <th>file_name</th>\n",
       "      <th>scrambled_file_name</th>\n",
       "      <th>counts</th>\n",
       "      <th>groups</th>\n",
       "      <th>treatment</th>\n",
       "      <th>time</th>\n",
       "      <th>ratio_of_counts</th>\n",
       "      <th>log2ratio_of_counts</th>\n",
       "    </tr>\n",
       "  </thead>\n",
       "  <tbody>\n",
       "    <tr>\n",
       "      <th>0</th>\n",
       "      <td>2020-01-17-collagenase-recovery-collagenase20-...</td>\n",
       "      <td>fb7a7b561c6cc4050adf761be6e9a164.tif</td>\n",
       "      <td>8</td>\n",
       "      <td>1</td>\n",
       "      <td>collagenase</td>\n",
       "      <td>0</td>\n",
       "      <td>1.0</td>\n",
       "      <td>0.0</td>\n",
       "    </tr>\n",
       "    <tr>\n",
       "      <th>1</th>\n",
       "      <td>2020-01-17-collagenase-recovery-collagenase20-...</td>\n",
       "      <td>d3fda32d683844d50390208c78e1f225.tif</td>\n",
       "      <td>3</td>\n",
       "      <td>1</td>\n",
       "      <td>collagenase</td>\n",
       "      <td>0</td>\n",
       "      <td>1.0</td>\n",
       "      <td>0.0</td>\n",
       "    </tr>\n",
       "    <tr>\n",
       "      <th>2</th>\n",
       "      <td>2020-01-17-collagenase-recovery-collagenase20-...</td>\n",
       "      <td>1462cc3b204becb43eeaab1d4740d5e7.tif</td>\n",
       "      <td>4</td>\n",
       "      <td>1</td>\n",
       "      <td>collagenase</td>\n",
       "      <td>0</td>\n",
       "      <td>1.0</td>\n",
       "      <td>0.0</td>\n",
       "    </tr>\n",
       "    <tr>\n",
       "      <th>3</th>\n",
       "      <td>2020-01-17-collagenase-recovery-collagenase20-...</td>\n",
       "      <td>b21ba2f7e1b168a4f1b69f9fb89a542a.tif</td>\n",
       "      <td>7</td>\n",
       "      <td>1</td>\n",
       "      <td>collagenase</td>\n",
       "      <td>0</td>\n",
       "      <td>1.0</td>\n",
       "      <td>0.0</td>\n",
       "    </tr>\n",
       "    <tr>\n",
       "      <th>4</th>\n",
       "      <td>2020-01-17-collagenase-recovery-collagenase20-...</td>\n",
       "      <td>3a4709d440dcdf17f67ce645bf086547.tif</td>\n",
       "      <td>10</td>\n",
       "      <td>1</td>\n",
       "      <td>collagenase</td>\n",
       "      <td>0</td>\n",
       "      <td>1.0</td>\n",
       "      <td>0.0</td>\n",
       "    </tr>\n",
       "  </tbody>\n",
       "</table>\n",
       "</div>"
      ],
      "text/plain": [
       "                                           file_name  \\\n",
       "0  2020-01-17-collagenase-recovery-collagenase20-...   \n",
       "1  2020-01-17-collagenase-recovery-collagenase20-...   \n",
       "2  2020-01-17-collagenase-recovery-collagenase20-...   \n",
       "3  2020-01-17-collagenase-recovery-collagenase20-...   \n",
       "4  2020-01-17-collagenase-recovery-collagenase20-...   \n",
       "\n",
       "                    scrambled_file_name  counts groups    treatment  time  \\\n",
       "0  fb7a7b561c6cc4050adf761be6e9a164.tif       8      1  collagenase     0   \n",
       "1  d3fda32d683844d50390208c78e1f225.tif       3      1  collagenase     0   \n",
       "2  1462cc3b204becb43eeaab1d4740d5e7.tif       4      1  collagenase     0   \n",
       "3  b21ba2f7e1b168a4f1b69f9fb89a542a.tif       7      1  collagenase     0   \n",
       "4  3a4709d440dcdf17f67ce645bf086547.tif      10      1  collagenase     0   \n",
       "\n",
       "   ratio_of_counts  log2ratio_of_counts  \n",
       "0              1.0                  0.0  \n",
       "1              1.0                  0.0  \n",
       "2              1.0                  0.0  \n",
       "3              1.0                  0.0  \n",
       "4              1.0                  0.0  "
      ]
     },
     "execution_count": 29,
     "metadata": {},
     "output_type": "execute_result"
    }
   ],
   "source": [
    "# Normalize data by dividing the counts by the time 0 counts for plotting\n",
    "counts_t0 = df.counts.values[:22]\n",
    "print(counts_t0)\n",
    "counts_t24 = df.counts.values[22:44]\n",
    "print(counts_t24)\n",
    "df['ratio_of_counts'] = df.counts / np.concatenate([counts_t0, counts_t0, counts_t24])\n",
    "df['log2ratio_of_counts'] = np.log2(df.ratio_of_counts)\n",
    "\n",
    "df.head()\n"
   ]
  },
  {
   "cell_type": "code",
   "execution_count": 24,
   "metadata": {},
   "outputs": [
    {
     "data": {
      "image/png": "[encoded data removed]",
      "text/plain": [
       "<Figure size 510x420 with 1 Axes>"
      ]
     },
     "metadata": {
      "needs_background": "light"
     },
     "output_type": "display_data"
    }
   ],
   "source": [
    "# Make swarm plot with error bars for the raw counts\n",
    "\n",
    "fig_width, fig_height = 1.7, 1.4\n",
    "fig = plt.figure(figsize=(fig_width,fig_height), dpi=300)\n",
    "ax = fig.add_axes([0.1, 0.1, 0.8, 0.8])\n",
    "\n",
    "ax = sns.swarmplot(x='groups', y='counts', data=df,\n",
    "                   hue='treatment', palette={'control': 'black', 'collagenase': 'red'},\n",
    "                   size=2, order=['2', '1', '4', '3', '6', '5'])\n",
    "ax = sns.pointplot(x='groups', y='counts', data=df, order=['2', '1', '4', '3', '6', '5'],\n",
    "                   ci=95, capsize=.2, errwidth=.7,\n",
    "                   markers='_', scale=.5, join=False, color=\"Gray\")\n",
    "\n",
    "plt.ylim(0, 120)\n",
    "plt.yticks([0, 40, 80, 120])\n",
    "\n",
    "plt.xlabel(\"Groups\")\n",
    "plt.ylabel(\"Buds per gland\")\n",
    "\n",
    "for o in fig.findobj():\n",
    "    o.set_clip_on(False)\n",
    "for o in ax.findobj():\n",
    "    o.set_clip_on(False)\n",
    "\n",
    "outputFigPath = '../jupyter_figures/' + datasetPrefix + '-bud-count.svg'\n",
    "plt.savefig(outputFigPath)\n"
   ]
  },
  {
   "cell_type": "code",
   "execution_count": 26,
   "metadata": {},
   "outputs": [
    {
     "data": {
      "image/png": "[encoded data removed]",
      "text/plain": [
       "<Figure size 330x420 with 1 Axes>"
      ]
     },
     "metadata": {
      "needs_background": "light"
     },
     "output_type": "display_data"
    }
   ],
   "source": [
    "# Make swarm plot with error bars for the log2 ratio of counts\n",
    "\n",
    "fig_width, fig_height = 1.1, 1.4\n",
    "fig = plt.figure(figsize=(fig_width,fig_height), dpi=300)\n",
    "ax = fig.add_axes([0.1, 0.1, 0.8, 0.8])\n",
    "\n",
    "ax = sns.swarmplot(x='groups', y='log2ratio_of_counts', data=df,\n",
    "                   hue='treatment', palette={'control': 'black', 'collagenase': 'red'},\n",
    "                   size=2, order=['4', '3', '6', '5'])\n",
    "ax = sns.pointplot(x='groups', y='log2ratio_of_counts', data=df, order=['4', '3', '6', '5'],\n",
    "                   ci=95, capsize=.2, errwidth=.7,\n",
    "                   markers='_', scale=.5, join=False, color=\"Gray\")\n",
    "\n",
    "plt.xlabel(\"Groups\")\n",
    "plt.ylabel(\"$\\mathregular{Log_2}$(bud ratio)\")\n",
    "\n",
    "plt.ylim(-5, 8)\n",
    "plt.yticks([-4, 0, 4, 8])\n",
    "\n",
    "for o in fig.findobj():\n",
    "    o.set_clip_on(False)\n",
    "for o in ax.findobj():\n",
    "    o.set_clip_on(False)\n",
    "\n",
    "outputFigPath = '../jupyter_figures/' + datasetPrefix + '-log2-ratio-of-counts.svg'\n",
    "plt.savefig(outputFigPath)\n"
   ]
  },
  {
   "cell_type": "code",
   "execution_count": 30,
   "metadata": {},
   "outputs": [
    {
     "name": "stdout",
     "output_type": "stream",
     "text": [
      "Summary of test:\n",
      "  Multiple Comparison of Means - Tukey HSD, FWER=0.05 \n",
      "=====================================================\n",
      "group1 group2 meandiff p-adj   lower    upper  reject\n",
      "-----------------------------------------------------\n",
      "     1      2     -1.0    0.9  -11.637   9.637  False\n",
      "     1      3  -4.1818 0.8387 -14.8189  6.4552  False\n",
      "     1      4  12.3636 0.0137   1.7266 23.0007   True\n",
      "     1      5     41.0  0.001   30.363  51.637   True\n",
      "     1      6  62.5455  0.001  51.9084 73.1825   True\n",
      "     2      3  -3.1818    0.9 -13.8189  7.4552  False\n",
      "     2      4  13.3636  0.006   2.7266 24.0007   True\n",
      "     2      5     42.0  0.001   31.363  52.637   True\n",
      "     2      6  63.5455  0.001  52.9084 74.1825   True\n",
      "     3      4  16.5455  0.001   5.9084 27.1825   True\n",
      "     3      5  45.1818  0.001  34.5448 55.8189   True\n",
      "     3      6  66.7273  0.001  56.0902 77.3643   True\n",
      "     4      5  28.6364  0.001  17.9993 39.2734   True\n",
      "     4      6  50.1818  0.001  39.5448 60.8189   True\n",
      "     5      6  21.5455  0.001  10.9084 32.1825   True\n",
      "-----------------------------------------------------\n",
      "p values of all pair-wise tests:\n",
      " [0.9        0.83867427 0.01370476 0.001      0.001      0.9\n",
      " 0.00602139 0.001      0.001      0.001      0.001      0.001\n",
      " 0.001      0.001      0.001     ]\n"
     ]
    },
    {
     "data": {
      "text/plain": [
       "<statsmodels.sandbox.stats.multicomp.TukeyHSDResults at 0x7fea4a44a890>"
      ]
     },
     "execution_count": 30,
     "metadata": {},
     "output_type": "execute_result"
    }
   ],
   "source": [
    "# Group 1: time 0 of collagenase treatment and recovery group\n",
    "# Group 2: time 0 of control group\n",
    "# Group 3: time 24 h of collagenase treatment and recovery group\n",
    "# Group 4, time 24 h of control group\n",
    "# Group 5: time 48 h of collagenase treatment and recovery group\n",
    "# Group 6, time 48 h of control group\n",
    "\n",
    "tukeyTest(df.counts, df.groups)"
   ]
  },
  {
   "cell_type": "code",
   "execution_count": 31,
   "metadata": {},
   "outputs": [
    {
     "name": "stdout",
     "output_type": "stream",
     "text": [
      "Summary of test:\n",
      "  Multiple Comparison of Means - Tukey HSD, FWER=0.05  \n",
      "======================================================\n",
      "group1 group2 meandiff p-adj   lower    upper   reject\n",
      "------------------------------------------------------\n",
      "     1      2      0.0    0.9  -1.5392   1.5392  False\n",
      "     1      3  -0.5536 0.8943  -2.0928   0.9856  False\n",
      "     1      4   2.2335  0.001   0.6943   3.7727   True\n",
      "     1      5  16.4773  0.001   14.938  18.0165   True\n",
      "     1      6   2.8974  0.001   1.3582   4.4367   True\n",
      "     2      3  -0.5536 0.8943  -2.0928   0.9856  False\n",
      "     2      4   2.2335  0.001   0.6943   3.7727   True\n",
      "     2      5  16.4773  0.001   14.938  18.0165   True\n",
      "     2      6   2.8974  0.001   1.3582   4.4367   True\n",
      "     3      4   2.7871  0.001   1.2478   4.3263   True\n",
      "     3      5  17.0309  0.001  15.4916  18.5701   True\n",
      "     3      6    3.451  0.001   1.9118   4.9903   True\n",
      "     4      5  14.2438  0.001  12.7046   15.783   True\n",
      "     4      6    0.664 0.7752  -0.8753   2.2032  False\n",
      "     5      6 -13.5798  0.001 -15.1191 -12.0406   True\n",
      "------------------------------------------------------\n",
      "p values of all pair-wise tests:\n",
      " [0.9        0.89431434 0.001      0.001      0.001      0.89431434\n",
      " 0.001      0.001      0.001      0.001      0.001      0.001\n",
      " 0.001      0.77515587 0.001     ]\n"
     ]
    },
    {
     "data": {
      "text/plain": [
       "<statsmodels.sandbox.stats.multicomp.TukeyHSDResults at 0x7fea49ed2490>"
      ]
     },
     "execution_count": 31,
     "metadata": {},
     "output_type": "execute_result"
    }
   ],
   "source": [
    "# Group 1: time 0 of collagenase treatment and recovery group\n",
    "# Group 2: time 0 of control group\n",
    "# Group 3: time 24 h of collagenase treatment and recovery group\n",
    "# Group 4, time 24 h of control group\n",
    "# Group 5: time 48 h of collagenase treatment and recovery group\n",
    "# Group 6, time 48 h of control group\n",
    "\n",
    "tukeyTest(df.ratio_of_counts, df.groups)"
   ]
  },
  {
   "cell_type": "code",
   "execution_count": 11,
   "metadata": {},
   "outputs": [
    {
     "name": "stdout",
     "output_type": "stream",
     "text": [
      "Summary of test:\n",
      " Multiple Comparison of Means - Tukey HSD, FWER=0.05 \n",
      "====================================================\n",
      "group1 group2 meandiff p-adj   lower   upper  reject\n",
      "----------------------------------------------------\n",
      "     1      2      0.0    0.9 -0.4179  0.4179  False\n",
      "     1      3  -1.2313  0.001 -1.6492 -0.8133   True\n",
      "     1      4   1.6201  0.001  1.2022   2.038   True\n",
      "     1      5   4.1134  0.001  3.6955  4.5313   True\n",
      "     1      6   1.9095  0.001  1.4916  2.3274   True\n",
      "     2      3  -1.2313  0.001 -1.6492 -0.8133   True\n",
      "     2      4   1.6201  0.001  1.2022   2.038   True\n",
      "     2      5   4.1134  0.001  3.6955  4.5313   True\n",
      "     2      6   1.9095  0.001  1.4916  2.3274   True\n",
      "     3      4   2.8514  0.001  2.4334  3.2693   True\n",
      "     3      5   5.3447  0.001  4.9267  5.7626   True\n",
      "     3      6   3.1408  0.001  2.7229  3.5587   True\n",
      "     4      5   2.4933  0.001  2.0754  2.9112   True\n",
      "     4      6   0.2894 0.3334 -0.1285  0.7074  False\n",
      "     5      6  -2.2039  0.001 -2.6218 -1.7859   True\n",
      "----------------------------------------------------\n",
      "p values of all pair-wise tests:\n",
      " [0.9        0.001      0.001      0.001      0.001      0.001\n",
      " 0.001      0.001      0.001      0.001      0.001      0.001\n",
      " 0.001      0.33338678 0.001     ]\n"
     ]
    },
    {
     "data": {
      "text/plain": [
       "<statsmodels.sandbox.stats.multicomp.TukeyHSDResults at 0x7fbd5e577390>"
      ]
     },
     "execution_count": 11,
     "metadata": {},
     "output_type": "execute_result"
    }
   ],
   "source": [
    "# Group 1: time 0 of collagenase treatment and recovery group\n",
    "# Group 2: time 0 of control group\n",
    "# Group 3: time 24 h of collagenase treatment and recovery group\n",
    "# Group 4, time 24 h of control group\n",
    "# Group 5: time 48 h of collagenase treatment and recovery group\n",
    "# Group 6, time 48 h of control group\n",
    "\n",
    "tukeyTest(df.log2ratio_of_counts, df.groups)"
   ]
  },
  {
   "cell_type": "code",
   "execution_count": 33,
   "metadata": {},
   "outputs": [],
   "source": [
    "# df.head()\n",
    "df['log10counts'] = np.log10(df.counts)"
   ]
  },
  {
   "cell_type": "code",
   "execution_count": 34,
   "metadata": {},
   "outputs": [
    {
     "name": "stdout",
     "output_type": "stream",
     "text": [
      "Summary of test:\n",
      " Multiple Comparison of Means - Tukey HSD, FWER=0.05 \n",
      "====================================================\n",
      "group1 group2 meandiff p-adj   lower   upper  reject\n",
      "----------------------------------------------------\n",
      "     1      2  -0.0331    0.9 -0.2181  0.1519  False\n",
      "     1      3  -0.3706  0.001 -0.5557 -0.1856   True\n",
      "     1      4   0.4546  0.001  0.2696  0.6396   True\n",
      "     1      5   0.8676  0.001  0.6826  1.0526   True\n",
      "     1      6   1.0294  0.001  0.8444  1.2144   True\n",
      "     2      3  -0.3376  0.001 -0.5226 -0.1526   True\n",
      "     2      4   0.4877  0.001  0.3027  0.6727   True\n",
      "     2      5   0.9007  0.001  0.7157  1.0857   True\n",
      "     2      6   1.0625  0.001  0.8775  1.2475   True\n",
      "     3      4   0.8253  0.001  0.6403  1.0103   True\n",
      "     3      5   1.2383  0.001  1.0532  1.4233   True\n",
      "     3      6   1.4001  0.001  1.2151  1.5851   True\n",
      "     4      5    0.413  0.001   0.228   0.598   True\n",
      "     4      6   0.5748  0.001  0.3898  0.7598   True\n",
      "     5      6   0.1618 0.1198 -0.0232  0.3468  False\n",
      "----------------------------------------------------\n",
      "p values of all pair-wise tests:\n",
      " [0.9        0.001      0.001      0.001      0.001      0.001\n",
      " 0.001      0.001      0.001      0.001      0.001      0.001\n",
      " 0.001      0.001      0.11978812]\n"
     ]
    },
    {
     "data": {
      "text/plain": [
       "<statsmodels.sandbox.stats.multicomp.TukeyHSDResults at 0x7fea4b6dec50>"
      ]
     },
     "execution_count": 34,
     "metadata": {},
     "output_type": "execute_result"
    }
   ],
   "source": [
    "tukeyTest(df.log10counts, df.groups)"
   ]
  },
  {
   "cell_type": "code",
   "execution_count": 35,
   "metadata": {},
   "outputs": [
    {
     "data": {
      "text/plain": [
       "<AxesSubplot:xlabel='groups', ylabel='log10counts'>"
      ]
     },
     "execution_count": 35,
     "metadata": {},
     "output_type": "execute_result"
    },
    {
     "data": {
      "image/png": "[encoded data removed]",
      "text/plain": [
       "<Figure size 432x288 with 1 Axes>"
      ]
     },
     "metadata": {
      "needs_background": "light"
     },
     "output_type": "display_data"
    }
   ],
   "source": [
    "sns.swarmplot(df.groups, df.log10counts)"
   ]
  },
  {
   "cell_type": "code",
   "execution_count": 39,
   "metadata": {},
   "outputs": [],
   "source": [
    "df_control_end = df[df.groups=='6']\n",
    "df_collagenase_end = df[df.groups=='5']"
   ]
  },
  {
   "cell_type": "code",
   "execution_count": 40,
   "metadata": {},
   "outputs": [
    {
     "data": {
      "text/plain": [
       "Ttest_indResult(statistic=3.57957711575716, pvalue=0.0018751955381959993)"
      ]
     },
     "execution_count": 40,
     "metadata": {},
     "output_type": "execute_result"
    }
   ],
   "source": [
    "from scipy.stats import ttest_ind\n",
    "ttest_ind(df_control_end.log10counts, df_collagenase_end.log10counts)"
   ]
  },
  {
   "cell_type": "code",
   "execution_count": 42,
   "metadata": {},
   "outputs": [
    {
     "data": {
      "text/plain": [
       "-0.30980392156862746"
      ]
     },
     "execution_count": 42,
     "metadata": {},
     "output_type": "execute_result"
    }
   ],
   "source": [
    "( df_collagenase_end.counts.mean()-df_control_end.counts.mean() ) / df_control_end.counts.mean()"
   ]
  },
  {
   "cell_type": "code",
   "execution_count": 45,
   "metadata": {},
   "outputs": [
    {
     "data": {
      "text/html": [
       "<div>\n",
       "<style scoped>\n",
       "    .dataframe tbody tr th:only-of-type {\n",
       "        vertical-align: middle;\n",
       "    }\n",
       "\n",
       "    .dataframe tbody tr th {\n",
       "        vertical-align: top;\n",
       "    }\n",
       "\n",
       "    .dataframe thead th {\n",
       "        text-align: right;\n",
       "    }\n",
       "</style>\n",
       "<table border=\"1\" class=\"dataframe\">\n",
       "  <thead>\n",
       "    <tr style=\"text-align: right;\">\n",
       "      <th></th>\n",
       "      <th>count</th>\n",
       "      <th>mean</th>\n",
       "      <th>std</th>\n",
       "      <th>min</th>\n",
       "      <th>25%</th>\n",
       "      <th>50%</th>\n",
       "      <th>75%</th>\n",
       "      <th>max</th>\n",
       "    </tr>\n",
       "    <tr>\n",
       "      <th>groups</th>\n",
       "      <th></th>\n",
       "      <th></th>\n",
       "      <th></th>\n",
       "      <th></th>\n",
       "      <th></th>\n",
       "      <th></th>\n",
       "      <th></th>\n",
       "      <th></th>\n",
       "    </tr>\n",
       "  </thead>\n",
       "  <tbody>\n",
       "    <tr>\n",
       "      <th>1</th>\n",
       "      <td>11.0</td>\n",
       "      <td>1.000000</td>\n",
       "      <td>0.000000</td>\n",
       "      <td>1.000000</td>\n",
       "      <td>1.000000</td>\n",
       "      <td>1.000000</td>\n",
       "      <td>1.000000</td>\n",
       "      <td>1.000000</td>\n",
       "    </tr>\n",
       "    <tr>\n",
       "      <th>2</th>\n",
       "      <td>11.0</td>\n",
       "      <td>1.000000</td>\n",
       "      <td>0.000000</td>\n",
       "      <td>1.000000</td>\n",
       "      <td>1.000000</td>\n",
       "      <td>1.000000</td>\n",
       "      <td>1.000000</td>\n",
       "      <td>1.000000</td>\n",
       "    </tr>\n",
       "    <tr>\n",
       "      <th>3</th>\n",
       "      <td>11.0</td>\n",
       "      <td>0.446406</td>\n",
       "      <td>0.142253</td>\n",
       "      <td>0.250000</td>\n",
       "      <td>0.341346</td>\n",
       "      <td>0.428571</td>\n",
       "      <td>0.535714</td>\n",
       "      <td>0.666667</td>\n",
       "    </tr>\n",
       "    <tr>\n",
       "      <th>4</th>\n",
       "      <td>11.0</td>\n",
       "      <td>3.233478</td>\n",
       "      <td>1.006063</td>\n",
       "      <td>1.500000</td>\n",
       "      <td>2.422222</td>\n",
       "      <td>3.500000</td>\n",
       "      <td>3.785714</td>\n",
       "      <td>4.800000</td>\n",
       "    </tr>\n",
       "    <tr>\n",
       "      <th>5</th>\n",
       "      <td>11.0</td>\n",
       "      <td>17.477273</td>\n",
       "      <td>2.536153</td>\n",
       "      <td>12.750000</td>\n",
       "      <td>16.375000</td>\n",
       "      <td>17.250000</td>\n",
       "      <td>18.250000</td>\n",
       "      <td>22.000000</td>\n",
       "    </tr>\n",
       "    <tr>\n",
       "      <th>6</th>\n",
       "      <td>11.0</td>\n",
       "      <td>3.897437</td>\n",
       "      <td>1.248251</td>\n",
       "      <td>2.666667</td>\n",
       "      <td>3.327652</td>\n",
       "      <td>3.400000</td>\n",
       "      <td>3.914336</td>\n",
       "      <td>7.166667</td>\n",
       "    </tr>\n",
       "  </tbody>\n",
       "</table>\n",
       "</div>"
      ],
      "text/plain": [
       "        count       mean       std        min        25%        50%  \\\n",
       "groups                                                                \n",
       "1        11.0   1.000000  0.000000   1.000000   1.000000   1.000000   \n",
       "2        11.0   1.000000  0.000000   1.000000   1.000000   1.000000   \n",
       "3        11.0   0.446406  0.142253   0.250000   0.341346   0.428571   \n",
       "4        11.0   3.233478  1.006063   1.500000   2.422222   3.500000   \n",
       "5        11.0  17.477273  2.536153  12.750000  16.375000  17.250000   \n",
       "6        11.0   3.897437  1.248251   2.666667   3.327652   3.400000   \n",
       "\n",
       "              75%        max  \n",
       "groups                        \n",
       "1        1.000000   1.000000  \n",
       "2        1.000000   1.000000  \n",
       "3        0.535714   0.666667  \n",
       "4        3.785714   4.800000  \n",
       "5       18.250000  22.000000  \n",
       "6        3.914336   7.166667  "
      ]
     },
     "execution_count": 45,
     "metadata": {},
     "output_type": "execute_result"
    }
   ],
   "source": [
    "df.groupby('groups').describe()['ratio_of_counts']"
   ]
  },
  {
   "cell_type": "code",
   "execution_count": null,
   "metadata": {},
   "outputs": [],
   "source": []
  }
 ],
 "metadata": {
  "kernelspec": {
   "display_name": "Python 3",
   "language": "python",
   "name": "python3"
  },
  "language_info": {
   "codemirror_mode": {
    "name": "ipython",
    "version": 3
   },
   "file_extension": ".py",
   "mimetype": "text/x-python",
   "name": "python",
   "nbconvert_exporter": "python",
   "pygments_lexer": "ipython3",
   "version": "3.7.10"
  }
 },
 "nbformat": 4,
 "nbformat_minor": 4
}
