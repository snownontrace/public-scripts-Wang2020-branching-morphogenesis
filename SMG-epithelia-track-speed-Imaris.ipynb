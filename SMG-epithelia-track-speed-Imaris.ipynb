{
 "cells": [
  {
   "cell_type": "code",
   "execution_count": 1,
   "metadata": {},
   "outputs": [
    {
     "name": "stdout",
     "output_type": "stream",
     "text": [
      "mkdir: ../jupyter_figures: File exists\n"
     ]
    }
   ],
   "source": [
    "import sys, os, glob, warnings, logging\n",
    "import numpy as np\n",
    "import pandas as pd\n",
    "import matplotlib\n",
    "import matplotlib.pyplot as plt\n",
    "import seaborn as sns\n",
    "from scipy.interpolate import interp1d\n",
    "from scipy.stats import percentileofscore\n",
    "from sw_tracking import combine_speed_and_surf_dist\n",
    "# from sw_plotting import plot_cum_dist, plot_dist\n",
    "# from sw_plotting import plot_track_distance_to_surface\n",
    "\n",
    "# logging.basicConfig(stream=sys.stdout, format='%(asctime)s - %(levelname)s - %(message)s', level=logging.DEBUG)\n",
    "logging.basicConfig(stream=sys.stdout, format='%(asctime)s - %(levelname)s - %(message)s', level=logging.INFO)\n",
    "\n",
    "# ignore warnings\n",
    "warnings.filterwarnings('ignore')\n",
    "\n",
    "# plotting configuration\n",
    "font = {'family' : 'Arial',\n",
    "        'size'   : 7}\n",
    "matplotlib.rc('font', **font)\n",
    "plt.rcParams['svg.fonttype'] = 'none'\n",
    "\n",
    "# make a folder to store figures if not already there\n",
    "!mkdir ../jupyter_figures"
   ]
  },
  {
   "cell_type": "code",
   "execution_count": 2,
   "metadata": {},
   "outputs": [
    {
     "name": "stdout",
     "output_type": "stream",
     "text": [
      "2021-03-08 07:14:52,295 - INFO - NumExpr defaulting to 8 threads.\n"
     ]
    },
    {
     "data": {
      "text/html": [
       "<div>\n",
       "<style scoped>\n",
       "    .dataframe tbody tr th:only-of-type {\n",
       "        vertical-align: middle;\n",
       "    }\n",
       "\n",
       "    .dataframe tbody tr th {\n",
       "        vertical-align: top;\n",
       "    }\n",
       "\n",
       "    .dataframe thead th {\n",
       "        text-align: right;\n",
       "    }\n",
       "</style>\n",
       "<table border=\"1\" class=\"dataframe\">\n",
       "  <thead>\n",
       "    <tr style=\"text-align: right;\">\n",
       "      <th></th>\n",
       "      <th>Mean_Track_Speed</th>\n",
       "      <th>Unit</th>\n",
       "      <th>Category</th>\n",
       "      <th>ID</th>\n",
       "      <th>Unnamed: 4</th>\n",
       "      <th>mean_dist_surf</th>\n",
       "      <th>min_dist_surf</th>\n",
       "      <th>max_dist_surf</th>\n",
       "    </tr>\n",
       "  </thead>\n",
       "  <tbody>\n",
       "    <tr>\n",
       "      <th>0</th>\n",
       "      <td>12.6599</td>\n",
       "      <td>um/h</td>\n",
       "      <td>Track</td>\n",
       "      <td>1000000000</td>\n",
       "      <td>NaN</td>\n",
       "      <td>-1.472021</td>\n",
       "      <td>-5.77230</td>\n",
       "      <td>0.233456</td>\n",
       "    </tr>\n",
       "    <tr>\n",
       "      <th>1</th>\n",
       "      <td>20.0592</td>\n",
       "      <td>um/h</td>\n",
       "      <td>Track</td>\n",
       "      <td>1000000001</td>\n",
       "      <td>NaN</td>\n",
       "      <td>-9.853831</td>\n",
       "      <td>-21.47790</td>\n",
       "      <td>-5.524840</td>\n",
       "    </tr>\n",
       "    <tr>\n",
       "      <th>2</th>\n",
       "      <td>15.0846</td>\n",
       "      <td>um/h</td>\n",
       "      <td>Track</td>\n",
       "      <td>1000000002</td>\n",
       "      <td>NaN</td>\n",
       "      <td>-7.119135</td>\n",
       "      <td>-8.03049</td>\n",
       "      <td>-6.364630</td>\n",
       "    </tr>\n",
       "    <tr>\n",
       "      <th>3</th>\n",
       "      <td>23.7869</td>\n",
       "      <td>um/h</td>\n",
       "      <td>Track</td>\n",
       "      <td>1000000003</td>\n",
       "      <td>NaN</td>\n",
       "      <td>-10.085355</td>\n",
       "      <td>-12.88790</td>\n",
       "      <td>-7.463920</td>\n",
       "    </tr>\n",
       "    <tr>\n",
       "      <th>4</th>\n",
       "      <td>18.7699</td>\n",
       "      <td>um/h</td>\n",
       "      <td>Track</td>\n",
       "      <td>1000000004</td>\n",
       "      <td>NaN</td>\n",
       "      <td>-10.049233</td>\n",
       "      <td>-14.50180</td>\n",
       "      <td>-7.418020</td>\n",
       "    </tr>\n",
       "  </tbody>\n",
       "</table>\n",
       "</div>"
      ],
      "text/plain": [
       "   Mean_Track_Speed  Unit Category          ID  Unnamed: 4  mean_dist_surf  \\\n",
       "0           12.6599  um/h    Track  1000000000         NaN       -1.472021   \n",
       "1           20.0592  um/h    Track  1000000001         NaN       -9.853831   \n",
       "2           15.0846  um/h    Track  1000000002         NaN       -7.119135   \n",
       "3           23.7869  um/h    Track  1000000003         NaN      -10.085355   \n",
       "4           18.7699  um/h    Track  1000000004         NaN      -10.049233   \n",
       "\n",
       "   min_dist_surf  max_dist_surf  \n",
       "0       -5.77230       0.233456  \n",
       "1      -21.47790      -5.524840  \n",
       "2       -8.03049      -6.364630  \n",
       "3      -12.88790      -7.463920  \n",
       "4      -14.50180      -7.418020  "
      ]
     },
     "execution_count": 2,
     "metadata": {},
     "output_type": "execute_result"
    }
   ],
   "source": [
    "track_mean_speed_file = '../data/SMG-tracking-data-bud-ROIs/2020-01-25-K14R-HisG-2photon-25x-2-denoised_Statistics-within-bud-ROI/2020-01-25-K14R-HisG-2photon-25x-2-denoised_Track_Speed_Mean.csv'\n",
    "track_spot_surf_dist_file = '../data/SMG-tracking-data-bud-ROIs/2020-01-25-K14R-HisG-2photon-25x-2-denoised_Statistics-within-bud-ROI/2020-01-25-K14R-HisG-2photon-25x-2-denoised_Shortest_Distance_to_Surfaces_Surfaces=Surfaces_1.csv'\n",
    "df_merged = combine_speed_and_surf_dist(track_mean_speed_file, track_spot_surf_dist_file)\n",
    "df_merged.head()"
   ]
  },
  {
   "cell_type": "code",
   "execution_count": 9,
   "metadata": {},
   "outputs": [
    {
     "data": {
      "image/png": "[encoded data removed]",
      "text/plain": [
       "<Figure size 300x450 with 1 Axes>"
      ]
     },
     "metadata": {
      "needs_background": "light"
     },
     "output_type": "display_data"
    }
   ],
   "source": [
    "with matplotlib.rc_context({\"lines.linewidth\": .5}):\n",
    "\n",
    "    fig = plt.figure(figsize=(1.0, 1.5), dpi=300)\n",
    "    ax = fig.add_axes([0.1, 0.1, 0.8, 0.8])\n",
    "\n",
    "    sns.regplot(data=df_merged,\n",
    "                ax=ax,\n",
    "                x='max_dist_surf', y='Mean_Track_Speed',\n",
    "                color='blue',\n",
    "                scatter_kws={'s': 5},\n",
    "                line_kws={'lw': .7},\n",
    "                x_bins=list(range(-40, 0, 2)))\n",
    "    \n",
    "    # Customize labels\n",
    "    \n",
    "    ax.set_xlabel('µm to surface')\n",
    "    ax.set_ylabel('Mean track speed (µm/h)')\n",
    "    \n",
    "    ax.set_xlim([-45, 2])\n",
    "    ax.set_ylim([16, 25])\n",
    "\n",
    "    ax.set_xticks([-40, -20, 0])\n",
    "    ax.set_yticks([15, 20, 25])\n",
    "    \n",
    "    # Remove excessive clipping to easy editing of styles\n",
    "    \n",
    "#     for o in fig.findobj():\n",
    "#         o.set_clip_on(False)\n",
    "#     for o in ax.findobj():\n",
    "#         o.set_clip_on(False)\n",
    "    \n",
    "    # Save figure\n",
    "    output_prefix = 'SMG_epi_track_speed_over_distance'\n",
    "    outputFigPath = '../jupyter_figures/'+output_prefix+'.svg'\n",
    "    plt.savefig(outputFigPath)"
   ]
  },
  {
   "cell_type": "code",
   "execution_count": 4,
   "metadata": {},
   "outputs": [
    {
     "data": {
      "text/html": [
       "<div>\n",
       "<style scoped>\n",
       "    .dataframe tbody tr th:only-of-type {\n",
       "        vertical-align: middle;\n",
       "    }\n",
       "\n",
       "    .dataframe tbody tr th {\n",
       "        vertical-align: top;\n",
       "    }\n",
       "\n",
       "    .dataframe thead th {\n",
       "        text-align: right;\n",
       "    }\n",
       "</style>\n",
       "<table border=\"1\" class=\"dataframe\">\n",
       "  <thead>\n",
       "    <tr style=\"text-align: right;\">\n",
       "      <th></th>\n",
       "      <th>Mean_Track_Speed</th>\n",
       "      <th>Unit</th>\n",
       "      <th>Category</th>\n",
       "      <th>ID</th>\n",
       "      <th>Unnamed: 4</th>\n",
       "      <th>mean_dist_surf</th>\n",
       "      <th>min_dist_surf</th>\n",
       "      <th>max_dist_surf</th>\n",
       "    </tr>\n",
       "  </thead>\n",
       "  <tbody>\n",
       "    <tr>\n",
       "      <th>0</th>\n",
       "      <td>12.6599</td>\n",
       "      <td>um/h</td>\n",
       "      <td>Track</td>\n",
       "      <td>1000000000</td>\n",
       "      <td>NaN</td>\n",
       "      <td>-1.472021</td>\n",
       "      <td>-5.77230</td>\n",
       "      <td>0.233456</td>\n",
       "    </tr>\n",
       "    <tr>\n",
       "      <th>1</th>\n",
       "      <td>20.0592</td>\n",
       "      <td>um/h</td>\n",
       "      <td>Track</td>\n",
       "      <td>1000000001</td>\n",
       "      <td>NaN</td>\n",
       "      <td>-9.853831</td>\n",
       "      <td>-21.47790</td>\n",
       "      <td>-5.524840</td>\n",
       "    </tr>\n",
       "    <tr>\n",
       "      <th>2</th>\n",
       "      <td>15.0846</td>\n",
       "      <td>um/h</td>\n",
       "      <td>Track</td>\n",
       "      <td>1000000002</td>\n",
       "      <td>NaN</td>\n",
       "      <td>-7.119135</td>\n",
       "      <td>-8.03049</td>\n",
       "      <td>-6.364630</td>\n",
       "    </tr>\n",
       "    <tr>\n",
       "      <th>3</th>\n",
       "      <td>23.7869</td>\n",
       "      <td>um/h</td>\n",
       "      <td>Track</td>\n",
       "      <td>1000000003</td>\n",
       "      <td>NaN</td>\n",
       "      <td>-10.085355</td>\n",
       "      <td>-12.88790</td>\n",
       "      <td>-7.463920</td>\n",
       "    </tr>\n",
       "    <tr>\n",
       "      <th>4</th>\n",
       "      <td>18.7699</td>\n",
       "      <td>um/h</td>\n",
       "      <td>Track</td>\n",
       "      <td>1000000004</td>\n",
       "      <td>NaN</td>\n",
       "      <td>-10.049233</td>\n",
       "      <td>-14.50180</td>\n",
       "      <td>-7.418020</td>\n",
       "    </tr>\n",
       "  </tbody>\n",
       "</table>\n",
       "</div>"
      ],
      "text/plain": [
       "   Mean_Track_Speed  Unit Category          ID  Unnamed: 4  mean_dist_surf  \\\n",
       "0           12.6599  um/h    Track  1000000000         NaN       -1.472021   \n",
       "1           20.0592  um/h    Track  1000000001         NaN       -9.853831   \n",
       "2           15.0846  um/h    Track  1000000002         NaN       -7.119135   \n",
       "3           23.7869  um/h    Track  1000000003         NaN      -10.085355   \n",
       "4           18.7699  um/h    Track  1000000004         NaN      -10.049233   \n",
       "\n",
       "   min_dist_surf  max_dist_surf  \n",
       "0       -5.77230       0.233456  \n",
       "1      -21.47790      -5.524840  \n",
       "2       -8.03049      -6.364630  \n",
       "3      -12.88790      -7.463920  \n",
       "4      -14.50180      -7.418020  "
      ]
     },
     "execution_count": 4,
     "metadata": {},
     "output_type": "execute_result"
    }
   ],
   "source": [
    "df_merged.head()"
   ]
  },
  {
   "cell_type": "code",
   "execution_count": 5,
   "metadata": {},
   "outputs": [
    {
     "name": "stdout",
     "output_type": "stream",
     "text": [
      "Total number of tracks:  8904\n"
     ]
    }
   ],
   "source": [
    "print(\"Total number of tracks: \", df_merged.ID.nunique())"
   ]
  },
  {
   "cell_type": "code",
   "execution_count": 6,
   "metadata": {},
   "outputs": [
    {
     "data": {
      "image/png": "[encoded data removed]",
      "text/plain": [
       "<Figure size 300x300 with 1 Axes>"
      ]
     },
     "metadata": {
      "needs_background": "light"
     },
     "output_type": "display_data"
    }
   ],
   "source": [
    "with matplotlib.rc_context({\"lines.linewidth\": .5}):\n",
    "\n",
    "    fig = plt.figure(figsize=(1, 1), dpi=300)\n",
    "    ax = fig.add_axes([0.1, 0.1, 0.8, 0.8])\n",
    "\n",
    "    sns.regplot(data=df_merged,\n",
    "                ax=ax,\n",
    "                x='max_dist_surf', y='Mean_Track_Speed',\n",
    "                color='blue',\n",
    "                scatter_kws={'s': 5},\n",
    "                line_kws={'lw': .7},\n",
    "                x_bins=list(range(-40, 0, 2)))\n",
    "    \n",
    "    # Customize labels\n",
    "    \n",
    "    ax.set_xlabel('µm to surface')\n",
    "    ax.set_ylabel('Mean track\\nspeed (µm/h)')\n",
    "    \n",
    "    ax.set_xlim([-45, 2])\n",
    "    ax.set_ylim([16, 25])\n",
    "\n",
    "    ax.set_xticks([-40, -20, 0])\n",
    "    ax.set_yticks([15, 20, 25])\n",
    "    \n",
    "    # Remove excessive clipping to easy editing of styles\n",
    "    \n",
    "    for o in fig.findobj():\n",
    "        o.set_clip_on(False)\n",
    "    for o in ax.findobj():\n",
    "        o.set_clip_on(False)\n",
    "    \n",
    "    # Save figure\n",
    "    output_prefix = 'SMG_epi_track_speed_over_distance'\n",
    "    outputFigPath = '../jupyter_figures/'+output_prefix+'-no-clipping.svg'\n",
    "    plt.savefig(outputFigPath)"
   ]
  },
  {
   "cell_type": "code",
   "execution_count": null,
   "metadata": {},
   "outputs": [],
   "source": []
  }
 ],
 "metadata": {
  "kernelspec": {
   "display_name": "Python 3",
   "language": "python",
   "name": "python3"
  },
  "language_info": {
   "codemirror_mode": {
    "name": "ipython",
    "version": 3
   },
   "file_extension": ".py",
   "mimetype": "text/x-python",
   "name": "python",
   "nbconvert_exporter": "python",
   "pygments_lexer": "ipython3",
   "version": "3.7.10"
  }
 },
 "nbformat": 4,
 "nbformat_minor": 4
}
