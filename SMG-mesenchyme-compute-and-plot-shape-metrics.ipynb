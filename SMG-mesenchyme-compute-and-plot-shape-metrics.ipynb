{
 "cells": [
  {
   "cell_type": "code",
   "execution_count": 1,
   "metadata": {},
   "outputs": [
    {
     "name": "stdout",
     "output_type": "stream",
     "text": [
      "mkdir: ../jupyter_figures: File exists\n"
     ]
    }
   ],
   "source": [
    "import glob, os\n",
    "import numpy as np\n",
    "import pandas as pd\n",
    "import cv2 as cv\n",
    "import matplotlib.pyplot as plt\n",
    "import matplotlib\n",
    "import seaborn as sns\n",
    "from scipy.stats import ttest_ind\n",
    "\n",
    "%matplotlib inline\n",
    "font = {'family' : 'Arial',\n",
    "        'size'   : 7}\n",
    "matplotlib.rc('font', **font)\n",
    "plt.rcParams['svg.fonttype'] = 'none'\n",
    "\n",
    "# Make a folder if it is not already there to store exported figures\n",
    "!mkdir ../jupyter_figures"
   ]
  },
  {
   "cell_type": "code",
   "execution_count": 2,
   "metadata": {},
   "outputs": [],
   "source": [
    "def is_on_edge(cnt, width=1024, height=1024, tolerance=1, im=None):\n",
    "    '''\n",
    "    Determine whether a contour (cnt) is on the edge of image (im)\n",
    "    \n",
    "    Input Parameters:\n",
    "    -----------------\n",
    "    cnt:\n",
    "        contour of an object (outline)\n",
    "        \n",
    "    width, height:\n",
    "        image width and height in pixels\n",
    "        \n",
    "    tolerance:\n",
    "        distance from the edge to be called on_edge; in pixels\n",
    "        default: 1\n",
    "        \n",
    "    im: \n",
    "        numpy array of image read by opencv; if provided, calculate the width and height\n",
    "    \n",
    "    \n",
    "    Returns:\n",
    "    --------\n",
    "    res:\n",
    "        boolean value of whether cnt is on the edge of im\n",
    "    \n",
    "    '''\n",
    "    if im is not None:\n",
    "        height, width = im.shape\n",
    "    \n",
    "    # Get bounding rectangle of the coutour\n",
    "    x,y,w,h = cv.boundingRect(cnt)\n",
    "    if (x<=tolerance) or (y<=tolerance) or (x+w>=width-tolerance) or (y+h>=height-tolerance):\n",
    "        res = True\n",
    "    else:\n",
    "        res = False\n",
    "    \n",
    "    return res\n",
    "\n",
    "\n",
    "def get_shape_metrics(outlines_file, width=1024, height=1024, tolerance=1):\n",
    "    '''\n",
    "    Compute shape metrics from a txt file storing object outlines\n",
    "    \n",
    "    Input Parameters:\n",
    "    -----------------\n",
    "    outlines_file:\n",
    "        A txt file, each line of which has a series of numbers representing\n",
    "        the (x, y) coordinates\n",
    "        \n",
    "    width, height:\n",
    "        Original image width and height in pixels; used to determine whether\n",
    "        the object is on_edge\n",
    "        \n",
    "    tolerance:\n",
    "        distance from the edge to be called on_edge; in pixels\n",
    "        default: 1\n",
    "    \n",
    "    \n",
    "    Returns:\n",
    "    --------\n",
    "    df:\n",
    "        A pandas dataframe with the following columns:\n",
    "        'cell_id', 'centroid_x', 'centroid_y',\n",
    "        'area', 'perimeter', 'on_edge',\n",
    "        'circularity', 'aspect_ratio', 'solidity', 'file_name'\n",
    "        \n",
    "    '''\n",
    "    # Read in coordinates from the outlines text file\n",
    "    with open(outlines_file, 'r') as f:\n",
    "        lines = f.readlines()\n",
    "\n",
    "    shape_metrics = []\n",
    "    for i, line in enumerate(lines):\n",
    "        # parse numbers representing (x, y) coordinates\n",
    "        coordinates = [int(num) for num in line.strip().split(',')]\n",
    "\n",
    "        # Reshape 1D to 2D\n",
    "        cnt = np.reshape(coordinates, (-1, 2))\n",
    "\n",
    "        # compute image moments\n",
    "        M = cv.moments(cnt)\n",
    "\n",
    "        # compute centroids from moments\n",
    "        cx = int(M['m10']/M['m00'])\n",
    "        cy = int(M['m01']/M['m00'])\n",
    "\n",
    "        # compute area\n",
    "        area = cv.contourArea(cnt)\n",
    "\n",
    "        # compute perimeter\n",
    "        # second parameter is to specify whether contour is closed\n",
    "        perimeter = cv.arcLength(cnt,True)\n",
    "\n",
    "        # compute circularity defined as: 4pi*area/sqr(perimeter)\n",
    "        circularity = 4*np.pi*area/perimeter/perimeter\n",
    "\n",
    "        # fit ellipse to obtain major and min axis to \n",
    "        # compute apsect ratio and angle\n",
    "        (x,y),(ma,MA),angle = cv.fitEllipse(cnt)\n",
    "        aspect_ratio = MA/ma\n",
    "\n",
    "        # compute the convex hull to compute solidity\n",
    "        hull = cv.convexHull(cnt)\n",
    "        hull_area = cv.contourArea(hull)\n",
    "        solidity = float(area)/hull_area\n",
    "\n",
    "        # determine whether the object is on the image edge\n",
    "        on_edge = is_on_edge(cnt)\n",
    "\n",
    "        temp_metrics = [i+1, cx, cy, area, perimeter, on_edge,\n",
    "                        circularity, aspect_ratio, solidity]\n",
    "        shape_metrics.append(temp_metrics)\n",
    "\n",
    "    df = pd.DataFrame(shape_metrics, columns=['cell_id', 'centroid_x', 'centroid_y',\n",
    "                                              'area', 'perimeter', 'on_edge',\n",
    "                                              'circularity', 'aspect_ratio', 'solidity'])\n",
    " \n",
    "    base_file_name = os.path.basename(outlines_file)\n",
    "    df['file_name'] = [base_file_name]*len(df)\n",
    "    \n",
    "    return df"
   ]
  },
  {
   "cell_type": "code",
   "execution_count": 3,
   "metadata": {},
   "outputs": [
    {
     "data": {
      "text/plain": [
       "['../data/SMG-mesenchyme-images/210220-SMG-collagenase-F-actin-60x-001-mesenchyme_cp_outlines.txt',\n",
       " '../data/SMG-mesenchyme-images/210220-SMG-collagenase-F-actin-60x-002-mesenchyme_cp_outlines.txt',\n",
       " '../data/SMG-mesenchyme-images/210220-SMG-collagenase-F-actin-60x-003-mesenchyme_cp_outlines.txt',\n",
       " '../data/SMG-mesenchyme-images/210220-SMG-collagenase-F-actin-60x-004-mesenchyme_cp_outlines.txt',\n",
       " '../data/SMG-mesenchyme-images/210220-SMG-collagenase-F-actin-60x-005-mesenchyme_cp_outlines.txt',\n",
       " '../data/SMG-mesenchyme-images/210220-SMG-collagenase-F-actin-60x-006-mesenchyme_cp_outlines.txt']"
      ]
     },
     "execution_count": 3,
     "metadata": {},
     "output_type": "execute_result"
    }
   ],
   "source": [
    "collagenase_outline_files = glob.glob('../data/SMG-mesenchyme-images/*collagenase*outlines.txt')\n",
    "collagenase_outline_files.sort()\n",
    "collagenase_outline_files"
   ]
  },
  {
   "cell_type": "code",
   "execution_count": 4,
   "metadata": {},
   "outputs": [
    {
     "data": {
      "text/plain": [
       "['../data/SMG-mesenchyme-images/210220-SMG-control-F-actin-60x-001-mesenchyme_cp_outlines.txt',\n",
       " '../data/SMG-mesenchyme-images/210220-SMG-control-F-actin-60x-002-mesenchyme_cp_outlines.txt',\n",
       " '../data/SMG-mesenchyme-images/210220-SMG-control-F-actin-60x-003-mesenchyme_cp_outlines.txt',\n",
       " '../data/SMG-mesenchyme-images/210220-SMG-control-F-actin-60x-004-mesenchyme_cp_outlines.txt',\n",
       " '../data/SMG-mesenchyme-images/210220-SMG-control-F-actin-60x-005-mesenchyme_cp_outlines.txt',\n",
       " '../data/SMG-mesenchyme-images/210220-SMG-control-F-actin-60x-006-mesenchyme_cp_outlines.txt',\n",
       " '../data/SMG-mesenchyme-images/210220-SMG-control-F-actin-60x-007-mesenchyme_cp_outlines.txt']"
      ]
     },
     "execution_count": 4,
     "metadata": {},
     "output_type": "execute_result"
    }
   ],
   "source": [
    "control_outline_files = glob.glob('../data/SMG-mesenchyme-images/*control*outlines.txt')\n",
    "control_outline_files.sort()\n",
    "control_outline_files"
   ]
  },
  {
   "cell_type": "code",
   "execution_count": 5,
   "metadata": {},
   "outputs": [],
   "source": [
    "dfs_collagenase = [get_shape_metrics(f) for f in collagenase_outline_files]\n",
    "df_collagenase = pd.concat(dfs_collagenase)\n",
    "df_collagenase.reset_index(inplace=True, drop=True)\n",
    "df_collagenase['groups'] = ['collagenase']*len(df_collagenase)"
   ]
  },
  {
   "cell_type": "code",
   "execution_count": 6,
   "metadata": {},
   "outputs": [],
   "source": [
    "dfs_control = [get_shape_metrics(f) for f in control_outline_files]\n",
    "df_control = pd.concat(dfs_control)\n",
    "df_control.reset_index(inplace=True, drop=True)\n",
    "df_control['groups'] = ['control']*len(df_control)"
   ]
  },
  {
   "cell_type": "code",
   "execution_count": 7,
   "metadata": {},
   "outputs": [],
   "source": [
    "df = pd.concat([df_control, df_collagenase])\n",
    "df.reset_index(inplace=True, drop=True)"
   ]
  },
  {
   "cell_type": "code",
   "execution_count": 8,
   "metadata": {},
   "outputs": [],
   "source": [
    "# Convert area (cell size) unit from square pixels to 100 square microns\n",
    "# 4.8272 pixels per micron => Pixel size: 0.20716 microns/pixel\n",
    "\n",
    "pixel_size = 0.20716 # microns/pixel\n",
    "df['area_100_sq_microns'] = df.area*pixel_size*pixel_size/100"
   ]
  },
  {
   "cell_type": "code",
   "execution_count": 9,
   "metadata": {},
   "outputs": [
    {
     "data": {
      "image/png": "[encoded data removed]",
      "text/plain": [
       "<Figure size 150x240 with 1 Axes>"
      ]
     },
     "metadata": {
      "needs_background": "light"
     },
     "output_type": "display_data"
    }
   ],
   "source": [
    "output_prefix = '210220-SMG-collagenase-F-actin-60x'\n",
    "output_file_name = '../jupyter_figures/' + output_prefix + '-circularity.svg'\n",
    "\n",
    "fig = plt.figure(figsize=(0.5, 0.8), dpi=300)\n",
    "ax = fig.add_axes([0.1, 0.1, 0.8, 0.8])\n",
    "\n",
    "sns.violinplot(x='groups', y='circularity', data=df, inner='quartile',\n",
    "               scale= 'count', cut=0, linewidth=.8)\n",
    "\n",
    "# Remove excessive clipping\n",
    "for o in fig.findobj():\n",
    "    o.set_clip_on(False)\n",
    "for o in ax.findobj():\n",
    "    o.set_clip_on(False)\n",
    "\n",
    "# rotate x tick labels if necessary\n",
    "x_labels = ax.get_xticklabels()\n",
    "ax.set_xticklabels(labels=x_labels, rotation=30, ha=\"right\")\n",
    "    \n",
    "plt.xlabel(None)\n",
    "plt.ylabel('Circularity')\n",
    "plt.yticks([0, 0.5, 1])\n",
    "\n",
    "plt.savefig(output_file_name)\n"
   ]
  },
  {
   "cell_type": "code",
   "execution_count": 10,
   "metadata": {},
   "outputs": [
    {
     "data": {
      "image/png": "[encoded data removed]",
      "text/plain": [
       "<Figure size 150x240 with 1 Axes>"
      ]
     },
     "metadata": {
      "needs_background": "light"
     },
     "output_type": "display_data"
    }
   ],
   "source": [
    "output_prefix = '210220-SMG-collagenase-F-actin-60x'\n",
    "output_file_name = '../jupyter_figures/' + output_prefix + '-circularity.svg'\n",
    "\n",
    "fig = plt.figure(figsize=(0.5, 0.8), dpi=300)\n",
    "ax = fig.add_axes([0.1, 0.1, 0.8, 0.8])\n",
    "\n",
    "sns.violinplot(x='groups', y='circularity', data=df, inner='quartile',\n",
    "               scale= 'count', cut=0, linewidth=.8)\n",
    "\n",
    "# Remove excessive clipping\n",
    "for o in fig.findobj():\n",
    "    o.set_clip_on(False)\n",
    "for o in ax.findobj():\n",
    "    o.set_clip_on(False)\n",
    "\n",
    "# rotate x tick labels if necessary\n",
    "x_labels = ax.get_xticklabels()\n",
    "ax.set_xticklabels(labels=x_labels, rotation=30, ha=\"right\")\n",
    "    \n",
    "plt.xlabel(None)\n",
    "plt.ylabel('Circularity')\n",
    "plt.yticks([0, 0.5, 1])\n",
    "\n",
    "plt.savefig(output_file_name)\n"
   ]
  },
  {
   "cell_type": "code",
   "execution_count": 11,
   "metadata": {},
   "outputs": [
    {
     "data": {
      "image/png": "[encoded data removed]",
      "text/plain": [
       "<Figure size 150x240 with 1 Axes>"
      ]
     },
     "metadata": {
      "needs_background": "light"
     },
     "output_type": "display_data"
    }
   ],
   "source": [
    "output_prefix = '210220-SMG-collagenase-F-actin-60x'\n",
    "output_file_name = '../jupyter_figures/' + output_prefix + '-area.svg'\n",
    "\n",
    "fig = plt.figure(figsize=(0.5, 0.8), dpi=300)\n",
    "ax = fig.add_axes([0.1, 0.1, 0.8, 0.8])\n",
    "\n",
    "sns.violinplot(x='groups', y='area_100_sq_microns', data=df, inner='quartile',\n",
    "               scale= 'count', cut=0, linewidth=.8)\n",
    "\n",
    "# Remove excessive clipping\n",
    "for o in fig.findobj():\n",
    "    o.set_clip_on(False)\n",
    "for o in ax.findobj():\n",
    "    o.set_clip_on(False)\n",
    "\n",
    "# rotate x tick labels if necessary\n",
    "x_labels = ax.get_xticklabels()\n",
    "ax.set_xticklabels(labels=x_labels, rotation=30, ha=\"right\")\n",
    "    \n",
    "plt.xlabel(None)\n",
    "plt.ylabel('Area (×100 $\\mathregular{µm^2}$)')\n",
    "# plt.yticks([0, 0.5, 1])\n",
    "\n",
    "plt.savefig(output_file_name)\n"
   ]
  },
  {
   "cell_type": "code",
   "execution_count": 12,
   "metadata": {},
   "outputs": [
    {
     "data": {
      "image/png": "[encoded data removed]",
      "text/plain": [
       "<Figure size 150x240 with 1 Axes>"
      ]
     },
     "metadata": {
      "needs_background": "light"
     },
     "output_type": "display_data"
    }
   ],
   "source": [
    "output_prefix = '210220-SMG-collagenase-F-actin-60x'\n",
    "output_file_name = '../jupyter_figures/' + output_prefix + '-aspect_ratio.svg'\n",
    "\n",
    "fig = plt.figure(figsize=(0.5, 0.8), dpi=300)\n",
    "ax = fig.add_axes([0.1, 0.1, 0.8, 0.8])\n",
    "\n",
    "sns.violinplot(x='groups', y='aspect_ratio', data=df, inner='quartile',\n",
    "               scale= 'count', cut=0, linewidth=.8)\n",
    "\n",
    "# Remove excessive clipping\n",
    "for o in fig.findobj():\n",
    "    o.set_clip_on(False)\n",
    "for o in ax.findobj():\n",
    "    o.set_clip_on(False)\n",
    "\n",
    "# rotate x tick labels if necessary\n",
    "x_labels = ax.get_xticklabels()\n",
    "ax.set_xticklabels(labels=x_labels, rotation=30, ha=\"right\")\n",
    "    \n",
    "plt.xlabel(None)\n",
    "plt.ylabel('Aspect ratio')\n",
    "# plt.yticks([0, 0.5, 1])\n",
    "\n",
    "plt.savefig(output_file_name)\n"
   ]
  },
  {
   "cell_type": "code",
   "execution_count": 13,
   "metadata": {},
   "outputs": [
    {
     "data": {
      "image/png": "[encoded data removed]",
      "text/plain": [
       "<Figure size 150x240 with 1 Axes>"
      ]
     },
     "metadata": {
      "needs_background": "light"
     },
     "output_type": "display_data"
    }
   ],
   "source": [
    "output_prefix = '210220-SMG-collagenase-F-actin-60x'\n",
    "output_file_name = '../jupyter_figures/' + output_prefix + '-solidity.svg'\n",
    "\n",
    "fig = plt.figure(figsize=(0.5, 0.8), dpi=300)\n",
    "ax = fig.add_axes([0.1, 0.1, 0.8, 0.8])\n",
    "\n",
    "sns.violinplot(x='groups', y='solidity', data=df, inner='quartile',\n",
    "               scale= 'count', cut=0, linewidth=.8)\n",
    "\n",
    "# Remove excessive clipping\n",
    "for o in fig.findobj():\n",
    "    o.set_clip_on(False)\n",
    "for o in ax.findobj():\n",
    "    o.set_clip_on(False)\n",
    "\n",
    "# rotate x tick labels if necessary\n",
    "x_labels = ax.get_xticklabels()\n",
    "ax.set_xticklabels(labels=x_labels, rotation=30, ha=\"right\")\n",
    "    \n",
    "plt.xlabel(None)\n",
    "plt.ylabel('Solidity')\n",
    "# plt.yticks([0, 0.5, 1])\n",
    "\n",
    "plt.savefig(output_file_name)\n"
   ]
  },
  {
   "cell_type": "code",
   "execution_count": 14,
   "metadata": {},
   "outputs": [
    {
     "name": "stdout",
     "output_type": "stream",
     "text": [
      "For circularity the relative difference is: -0.05251239985390296\n"
     ]
    },
    {
     "data": {
      "text/plain": [
       "Ttest_indResult(statistic=12.846459408220223, pvalue=5.594790872618592e-37)"
      ]
     },
     "execution_count": 14,
     "metadata": {},
     "output_type": "execute_result"
    }
   ],
   "source": [
    "col = 'circularity'\n",
    "\n",
    "mean_control = df_control[col].mean()\n",
    "mean_collagenase = df_collagenase[col].mean()\n",
    "rel_diff = (mean_collagenase - mean_control) / mean_control\n",
    "print('For', col, 'the relative difference is:', rel_diff)\n",
    "\n",
    "ttest_ind(df_control[col], df_collagenase[col])"
   ]
  },
  {
   "cell_type": "code",
   "execution_count": 15,
   "metadata": {},
   "outputs": [
    {
     "name": "stdout",
     "output_type": "stream",
     "text": [
      "For area the relative difference is: 0.07518150108816758\n"
     ]
    },
    {
     "data": {
      "text/plain": [
       "Ttest_indResult(statistic=-4.960864789773602, pvalue=7.33698260377593e-07)"
      ]
     },
     "execution_count": 15,
     "metadata": {},
     "output_type": "execute_result"
    }
   ],
   "source": [
    "col = 'area'\n",
    "\n",
    "mean_control = df_control[col].mean()\n",
    "mean_collagenase = df_collagenase[col].mean()\n",
    "rel_diff = (mean_collagenase - mean_control) / mean_control\n",
    "print('For', col, 'the relative difference is:', rel_diff)\n",
    "\n",
    "ttest_ind(df_control[col], df_collagenase[col])"
   ]
  },
  {
   "cell_type": "code",
   "execution_count": 16,
   "metadata": {},
   "outputs": [
    {
     "name": "stdout",
     "output_type": "stream",
     "text": [
      "For aspect_ratio the relative difference is: 0.045237509351259426\n"
     ]
    },
    {
     "data": {
      "text/plain": [
       "Ttest_indResult(statistic=-4.268185249528357, pvalue=2.020603219410537e-05)"
      ]
     },
     "execution_count": 16,
     "metadata": {},
     "output_type": "execute_result"
    }
   ],
   "source": [
    "col = 'aspect_ratio'\n",
    "\n",
    "mean_control = df_control[col].mean()\n",
    "mean_collagenase = df_collagenase[col].mean()\n",
    "rel_diff = (mean_collagenase - mean_control) / mean_control\n",
    "print('For', col, 'the relative difference is:', rel_diff)\n",
    "\n",
    "ttest_ind(df_control[col], df_collagenase[col])"
   ]
  },
  {
   "cell_type": "code",
   "execution_count": 17,
   "metadata": {},
   "outputs": [
    {
     "name": "stdout",
     "output_type": "stream",
     "text": [
      "For solidity the relative difference is: -0.013358802520025997\n"
     ]
    },
    {
     "data": {
      "text/plain": [
       "Ttest_indResult(statistic=12.683653438326647, pvalue=4.141353480816283e-36)"
      ]
     },
     "execution_count": 17,
     "metadata": {},
     "output_type": "execute_result"
    }
   ],
   "source": [
    "col = 'solidity'\n",
    "\n",
    "mean_control = df_control[col].mean()\n",
    "mean_collagenase = df_collagenase[col].mean()\n",
    "rel_diff = (mean_collagenase - mean_control) / mean_control\n",
    "print('For', col, 'the relative difference is:', rel_diff)\n",
    "\n",
    "ttest_ind(df_control[col], df_collagenase[col])"
   ]
  },
  {
   "cell_type": "code",
   "execution_count": 18,
   "metadata": {},
   "outputs": [
    {
     "data": {
      "text/html": [
       "<div>\n",
       "<style scoped>\n",
       "    .dataframe tbody tr th:only-of-type {\n",
       "        vertical-align: middle;\n",
       "    }\n",
       "\n",
       "    .dataframe tbody tr th {\n",
       "        vertical-align: top;\n",
       "    }\n",
       "\n",
       "    .dataframe thead tr th {\n",
       "        text-align: left;\n",
       "    }\n",
       "\n",
       "    .dataframe thead tr:last-of-type th {\n",
       "        text-align: right;\n",
       "    }\n",
       "</style>\n",
       "<table border=\"1\" class=\"dataframe\">\n",
       "  <thead>\n",
       "    <tr>\n",
       "      <th></th>\n",
       "      <th colspan=\"8\" halign=\"left\">cell_id</th>\n",
       "      <th colspan=\"2\" halign=\"left\">centroid_x</th>\n",
       "      <th>...</th>\n",
       "      <th colspan=\"2\" halign=\"left\">solidity</th>\n",
       "      <th colspan=\"8\" halign=\"left\">area_100_sq_microns</th>\n",
       "    </tr>\n",
       "    <tr>\n",
       "      <th></th>\n",
       "      <th>count</th>\n",
       "      <th>mean</th>\n",
       "      <th>std</th>\n",
       "      <th>min</th>\n",
       "      <th>25%</th>\n",
       "      <th>50%</th>\n",
       "      <th>75%</th>\n",
       "      <th>max</th>\n",
       "      <th>count</th>\n",
       "      <th>mean</th>\n",
       "      <th>...</th>\n",
       "      <th>75%</th>\n",
       "      <th>max</th>\n",
       "      <th>count</th>\n",
       "      <th>mean</th>\n",
       "      <th>std</th>\n",
       "      <th>min</th>\n",
       "      <th>25%</th>\n",
       "      <th>50%</th>\n",
       "      <th>75%</th>\n",
       "      <th>max</th>\n",
       "    </tr>\n",
       "    <tr>\n",
       "      <th>groups</th>\n",
       "      <th></th>\n",
       "      <th></th>\n",
       "      <th></th>\n",
       "      <th></th>\n",
       "      <th></th>\n",
       "      <th></th>\n",
       "      <th></th>\n",
       "      <th></th>\n",
       "      <th></th>\n",
       "      <th></th>\n",
       "      <th></th>\n",
       "      <th></th>\n",
       "      <th></th>\n",
       "      <th></th>\n",
       "      <th></th>\n",
       "      <th></th>\n",
       "      <th></th>\n",
       "      <th></th>\n",
       "      <th></th>\n",
       "      <th></th>\n",
       "      <th></th>\n",
       "    </tr>\n",
       "  </thead>\n",
       "  <tbody>\n",
       "    <tr>\n",
       "      <th>collagenase</th>\n",
       "      <td>1950.0</td>\n",
       "      <td>167.475385</td>\n",
       "      <td>101.269663</td>\n",
       "      <td>1.0</td>\n",
       "      <td>82.0</td>\n",
       "      <td>163.0</td>\n",
       "      <td>244.0</td>\n",
       "      <td>394.0</td>\n",
       "      <td>1950.0</td>\n",
       "      <td>542.194872</td>\n",
       "      <td>...</td>\n",
       "      <td>0.941765</td>\n",
       "      <td>0.979344</td>\n",
       "      <td>1950.0</td>\n",
       "      <td>0.544711</td>\n",
       "      <td>0.250131</td>\n",
       "      <td>0.081324</td>\n",
       "      <td>0.374275</td>\n",
       "      <td>0.500714</td>\n",
       "      <td>0.659554</td>\n",
       "      <td>2.621479</td>\n",
       "    </tr>\n",
       "    <tr>\n",
       "      <th>control</th>\n",
       "      <td>1715.0</td>\n",
       "      <td>126.797085</td>\n",
       "      <td>77.287811</td>\n",
       "      <td>1.0</td>\n",
       "      <td>62.0</td>\n",
       "      <td>123.0</td>\n",
       "      <td>184.0</td>\n",
       "      <td>326.0</td>\n",
       "      <td>1715.0</td>\n",
       "      <td>437.237318</td>\n",
       "      <td>...</td>\n",
       "      <td>0.950487</td>\n",
       "      <td>0.980609</td>\n",
       "      <td>1715.0</td>\n",
       "      <td>0.506622</td>\n",
       "      <td>0.209310</td>\n",
       "      <td>0.076175</td>\n",
       "      <td>0.352871</td>\n",
       "      <td>0.485372</td>\n",
       "      <td>0.636541</td>\n",
       "      <td>1.371357</td>\n",
       "    </tr>\n",
       "  </tbody>\n",
       "</table>\n",
       "<p>2 rows × 72 columns</p>\n",
       "</div>"
      ],
      "text/plain": [
       "            cell_id                                                          \\\n",
       "              count        mean         std  min   25%    50%    75%    max   \n",
       "groups                                                                        \n",
       "collagenase  1950.0  167.475385  101.269663  1.0  82.0  163.0  244.0  394.0   \n",
       "control      1715.0  126.797085   77.287811  1.0  62.0  123.0  184.0  326.0   \n",
       "\n",
       "            centroid_x              ...  solidity            \\\n",
       "                 count        mean  ...       75%       max   \n",
       "groups                              ...                       \n",
       "collagenase     1950.0  542.194872  ...  0.941765  0.979344   \n",
       "control         1715.0  437.237318  ...  0.950487  0.980609   \n",
       "\n",
       "            area_100_sq_microns                                          \\\n",
       "                          count      mean       std       min       25%   \n",
       "groups                                                                    \n",
       "collagenase              1950.0  0.544711  0.250131  0.081324  0.374275   \n",
       "control                  1715.0  0.506622  0.209310  0.076175  0.352871   \n",
       "\n",
       "                                           \n",
       "                  50%       75%       max  \n",
       "groups                                     \n",
       "collagenase  0.500714  0.659554  2.621479  \n",
       "control      0.485372  0.636541  1.371357  \n",
       "\n",
       "[2 rows x 72 columns]"
      ]
     },
     "execution_count": 18,
     "metadata": {},
     "output_type": "execute_result"
    }
   ],
   "source": [
    "df.groupby('groups').describe()"
   ]
  },
  {
   "cell_type": "code",
   "execution_count": null,
   "metadata": {},
   "outputs": [],
   "source": []
  }
 ],
 "metadata": {
  "kernelspec": {
   "display_name": "Python 3",
   "language": "python",
   "name": "python3"
  },
  "language_info": {
   "codemirror_mode": {
    "name": "ipython",
    "version": 3
   },
   "file_extension": ".py",
   "mimetype": "text/x-python",
   "name": "python",
   "nbconvert_exporter": "python",
   "pygments_lexer": "ipython3",
   "version": "3.7.10"
  }
 },
 "nbformat": 4,
 "nbformat_minor": 4
}
