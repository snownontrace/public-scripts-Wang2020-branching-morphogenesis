{
 "cells": [
  {
   "cell_type": "code",
   "execution_count": 1,
   "metadata": {},
   "outputs": [
    {
     "name": "stdout",
     "output_type": "stream",
     "text": [
      "mkdir: ../jupyter_figures: File exists\n"
     ]
    }
   ],
   "source": [
    "import sys, os, glob\n",
    "import numpy as np\n",
    "import pandas as pd\n",
    "import matplotlib\n",
    "import matplotlib.pyplot as plt\n",
    "import seaborn as sns\n",
    "from sw_plotting import change_bar_width, plot_cum_dist, plot_dist\n",
    "from sw_utilities import tukeyTest\n",
    "\n",
    "# make a folder to store figures if not already there\n",
    "!mkdir ../jupyter_figures"
   ]
  },
  {
   "cell_type": "code",
   "execution_count": 2,
   "metadata": {},
   "outputs": [
    {
     "data": {
      "text/html": [
       "<div>\n",
       "<style scoped>\n",
       "    .dataframe tbody tr th:only-of-type {\n",
       "        vertical-align: middle;\n",
       "    }\n",
       "\n",
       "    .dataframe tbody tr th {\n",
       "        vertical-align: top;\n",
       "    }\n",
       "\n",
       "    .dataframe thead th {\n",
       "        text-align: right;\n",
       "    }\n",
       "</style>\n",
       "<table border=\"1\" class=\"dataframe\">\n",
       "  <thead>\n",
       "    <tr style=\"text-align: right;\">\n",
       "      <th></th>\n",
       "      <th>group_id</th>\n",
       "      <th>AO_to_SR_minutes</th>\n",
       "      <th>AO_to_SR_hours</th>\n",
       "    </tr>\n",
       "  </thead>\n",
       "  <tbody>\n",
       "    <tr>\n",
       "      <th>0</th>\n",
       "      <td>control</td>\n",
       "      <td>225.0</td>\n",
       "      <td>3.750000</td>\n",
       "    </tr>\n",
       "    <tr>\n",
       "      <th>1</th>\n",
       "      <td>control</td>\n",
       "      <td>50.0</td>\n",
       "      <td>0.833333</td>\n",
       "    </tr>\n",
       "    <tr>\n",
       "      <th>2</th>\n",
       "      <td>control</td>\n",
       "      <td>90.0</td>\n",
       "      <td>1.500000</td>\n",
       "    </tr>\n",
       "    <tr>\n",
       "      <th>3</th>\n",
       "      <td>control</td>\n",
       "      <td>85.0</td>\n",
       "      <td>1.416667</td>\n",
       "    </tr>\n",
       "    <tr>\n",
       "      <th>4</th>\n",
       "      <td>control</td>\n",
       "      <td>75.0</td>\n",
       "      <td>1.250000</td>\n",
       "    </tr>\n",
       "  </tbody>\n",
       "</table>\n",
       "</div>"
      ],
      "text/plain": [
       "  group_id  AO_to_SR_minutes  AO_to_SR_hours\n",
       "0  control             225.0        3.750000\n",
       "1  control              50.0        0.833333\n",
       "2  control              90.0        1.500000\n",
       "3  control              85.0        1.416667\n",
       "4  control              75.0        1.250000"
      ]
     },
     "execution_count": 2,
     "metadata": {},
     "output_type": "execute_result"
    }
   ],
   "source": [
    "# contorl\n",
    "df = pd.read_csv('../data/SMG-post-division-return-time/180218-mTmGHisG-2photon-cell-division-returning-time.csv')\n",
    "df.rename(columns={'anaphase_to_surface_return':'AO_to_SR_minutes'}, inplace=True)\n",
    "df['AO_to_SR_frames'] = df.AO_to_SR_minutes / 5\n",
    "df['AO_to_SR_hours'] = df.AO_to_SR_minutes / 60\n",
    "df['group_id'] = ['control']*len(df)\n",
    "df1 = df[['group_id', 'AO_to_SR_minutes', 'AO_to_SR_hours']]\n",
    "\n",
    "# collagenase\n",
    "df = pd.read_csv('../data/SMG-post-division-return-time/20210124-K14RhisG-2p-collagenase-post-division-return.csv')\n",
    "df['AO_to_SR_minutes'] = df.AO_to_SR_frames * 5\n",
    "df['AO_to_SR_hours'] = df.AO_to_SR_minutes / 60\n",
    "df['group_id'] = ['collagenase']*len(df)\n",
    "df2 = df[['group_id', 'AO_to_SR_minutes', 'AO_to_SR_hours']]\n",
    "\n",
    "df = pd.concat([df1, df2])\n",
    "df.head()\n"
   ]
  },
  {
   "cell_type": "code",
   "execution_count": 3,
   "metadata": {},
   "outputs": [
    {
     "data": {
      "text/plain": [
       "12.333333333333334"
      ]
     },
     "execution_count": 3,
     "metadata": {},
     "output_type": "execute_result"
    }
   ],
   "source": [
    "# slowest return time\n",
    "df1.AO_to_SR_hours.max()"
   ]
  },
  {
   "cell_type": "code",
   "execution_count": 4,
   "metadata": {},
   "outputs": [
    {
     "data": {
      "text/html": [
       "<div>\n",
       "<style scoped>\n",
       "    .dataframe tbody tr th:only-of-type {\n",
       "        vertical-align: middle;\n",
       "    }\n",
       "\n",
       "    .dataframe tbody tr th {\n",
       "        vertical-align: top;\n",
       "    }\n",
       "\n",
       "    .dataframe thead th {\n",
       "        text-align: right;\n",
       "    }\n",
       "</style>\n",
       "<table border=\"1\" class=\"dataframe\">\n",
       "  <thead>\n",
       "    <tr style=\"text-align: right;\">\n",
       "      <th></th>\n",
       "      <th>group_id</th>\n",
       "      <th>AO_to_SR_minutes</th>\n",
       "      <th>AO_to_SR_hours</th>\n",
       "    </tr>\n",
       "  </thead>\n",
       "  <tbody>\n",
       "    <tr>\n",
       "      <th>67</th>\n",
       "      <td>control</td>\n",
       "      <td>740</td>\n",
       "      <td>12.333333</td>\n",
       "    </tr>\n",
       "  </tbody>\n",
       "</table>\n",
       "</div>"
      ],
      "text/plain": [
       "   group_id  AO_to_SR_minutes  AO_to_SR_hours\n",
       "67  control               740       12.333333"
      ]
     },
     "execution_count": 4,
     "metadata": {},
     "output_type": "execute_result"
    }
   ],
   "source": [
    "# number of cells returned after >12 hours\n",
    "df1[df1.AO_to_SR_hours>12]"
   ]
  },
  {
   "cell_type": "code",
   "execution_count": 5,
   "metadata": {},
   "outputs": [
    {
     "data": {
      "text/plain": [
       "<matplotlib.axes._axes.Axes at 0x7fb315069450>"
      ]
     },
     "execution_count": 5,
     "metadata": {},
     "output_type": "execute_result"
    },
    {
     "data": {
      "image/png": "[encoded data removed]",
      "text/plain": [
       "<Figure size 300x300 with 1 Axes>"
      ]
     },
     "metadata": {
      "needs_background": "light"
     },
     "output_type": "display_data"
    }
   ],
   "source": [
    "dataset_prefix = '180218-post-division-return-time'\n",
    "output_fig_path = '../jupyter_figures/' + dataset_prefix + '-CDF.svg'\n",
    "plot_cum_dist(df1.AO_to_SR_hours, n_bins=15, output_fig_path=None, x_ticks=[0,4,8,12])\n",
    "\n",
    "# output_fig_path = '../jupyter_figures/' + dataset_prefix + '-distribution.svg'\n",
    "# plot_dist(df.anaphase_to_surface_return, n_bins=12, output_fig_path=output_fig_path, x_ticks=[0,400,800])\n",
    "# plot_dist(return_time_data, n_bins=12, x_ticks=[0,300,600,900])\n"
   ]
  },
  {
   "cell_type": "code",
   "execution_count": 6,
   "metadata": {},
   "outputs": [
    {
     "name": "stdout",
     "output_type": "stream",
     "text": [
      "Summary of test:\n",
      "      Multiple Comparison of Means - Tukey HSD, FWER=0.05     \n",
      "=============================================================\n",
      "   group1    group2 meandiff p-adj    lower    upper   reject\n",
      "-------------------------------------------------------------\n",
      "collagenase control -187.316 0.0014 -299.9276 -74.7044   True\n",
      "-------------------------------------------------------------\n",
      "p values of all pair-wise tests:\n",
      " [0.00135951]\n"
     ]
    },
    {
     "data": {
      "text/plain": [
       "<statsmodels.sandbox.stats.multicomp.TukeyHSDResults at 0x7fb3153987d0>"
      ]
     },
     "execution_count": 6,
     "metadata": {},
     "output_type": "execute_result"
    },
    {
     "data": {
      "image/png": "[encoded data removed]",
      "text/plain": [
       "<Figure size 432x288 with 1 Axes>"
      ]
     },
     "metadata": {
      "needs_background": "light"
     },
     "output_type": "display_data"
    }
   ],
   "source": [
    "# df.dropna(inplace=True)\n",
    "sns.swarmplot(data=df, x='group_id', y='AO_to_SR_minutes')\n",
    "sns.barplot(data=df, x='group_id', y='AO_to_SR_minutes')\n",
    "tukeyTest(df.dropna().AO_to_SR_minutes, df.dropna().group_id)"
   ]
  },
  {
   "cell_type": "code",
   "execution_count": 7,
   "metadata": {},
   "outputs": [
    {
     "data": {
      "text/plain": [
       "Ttest_indResult(statistic=-3.30314617081286, pvalue=0.001358002642491236)"
      ]
     },
     "execution_count": 7,
     "metadata": {},
     "output_type": "execute_result"
    }
   ],
   "source": [
    "from scipy.stats import ttest_ind\n",
    "ttest_ind(df1.AO_to_SR_hours, df2.dropna().AO_to_SR_hours)"
   ]
  },
  {
   "cell_type": "code",
   "execution_count": 8,
   "metadata": {},
   "outputs": [
    {
     "data": {
      "image/png": "[encoded data removed]",
      "text/plain": [
       "<Figure size 150x360 with 1 Axes>"
      ]
     },
     "metadata": {
      "needs_background": "light"
     },
     "output_type": "display_data"
    }
   ],
   "source": [
    "# Composite wwarm and bar plot of different collagenase concentrations\n",
    "\n",
    "outputPrefix = 'SMG-collagenase-post-division-return-time-bar'\n",
    "outputFigPath = \"../jupyter_figures/\" + outputPrefix + \".svg\"\n",
    "\n",
    "fig_width, fig_height = 0.5, 1.2\n",
    "fig = plt.figure(figsize=(fig_width,fig_height), dpi=300)\n",
    "ax = fig.add_axes([0.1, 0.1, 0.8, 0.8])\n",
    "\n",
    "xCol, yCol = 'group_id', 'AO_to_SR_hours'\n",
    "\n",
    "# ax = sns.swarmplot(x=xCol, y=yCol, data=df,\n",
    "#                    color=\"blue\",\n",
    "#                    size=1.0,\n",
    "#                    alpha=.4)\n",
    "\n",
    "ax = sns.barplot(x=xCol, y=yCol, data=df,\n",
    "                 color=\".7\", alpha=1.0,\n",
    "                 errwidth=.6, errcolor=\".4\", capsize=.2, ci=95)\n",
    "\n",
    "plt.ylim(0, 10.5)\n",
    "plt.yticks([0, 5, 10])\n",
    "\n",
    "plt.xlabel(\"\")\n",
    "plt.ylabel(\"Anaphase onset to\\nsurface return (h)\")\n",
    "\n",
    "# rotate x tick labels if necessary\n",
    "x_labels = [\"Control\", \"Collagenase\"]\n",
    "# x_labels = ax.get_xticklabels()\n",
    "ax.set_xticklabels(labels=x_labels, rotation=60, ha=\"right\")\n",
    "\n",
    "# make the bar width narrower\n",
    "change_bar_width(ax, .5)\n",
    "\n",
    "for o in fig.findobj():\n",
    "    o.set_clip_on(False)\n",
    "for o in ax.findobj():\n",
    "    o.set_clip_on(False)\n",
    "\n",
    "if outputFigPath is not None:\n",
    "    plt.savefig(outputFigPath)\n"
   ]
  },
  {
   "cell_type": "code",
   "execution_count": 9,
   "metadata": {},
   "outputs": [
    {
     "data": {
      "image/png": "[encoded data removed]",
      "text/plain": [
       "<Figure size 120x360 with 1 Axes>"
      ]
     },
     "metadata": {
      "needs_background": "light"
     },
     "output_type": "display_data"
    }
   ],
   "source": [
    "# Composite wwarm and bar plot of different collagenase concentrations\n",
    "\n",
    "outputPrefix = 'SMG-collagenase-post-division-return-time-swarm'\n",
    "outputFigPath = \"../jupyter_figures/\" + outputPrefix + \".svg\"\n",
    "\n",
    "fig_width, fig_height = 0.4, 1.2\n",
    "fig = plt.figure(figsize=(fig_width,fig_height), dpi=300)\n",
    "ax = fig.add_axes([0.1, 0.1, 0.8, 0.8])\n",
    "\n",
    "xCol, yCol = 'group_id', 'AO_to_SR_hours'\n",
    "\n",
    "# Customize color of each group\n",
    "paletteDict = {'control': 'black', 'collagenase': 'red'}\n",
    "\n",
    "ax = sns.swarmplot(x=xCol, y=yCol, data=df,\n",
    "                   hue='group_id', palette=paletteDict,\n",
    "#                    color='Gray',\n",
    "#                    color=\"blue\",\n",
    "                   alpha=.5,\n",
    "                   size=1.0)\n",
    "\n",
    "# ax = sns.barplot(x=xCol, y=yCol, data=df,\n",
    "#                  color=\".7\", alpha=1.0,\n",
    "#                  errwidth=.7, errcolor=\"k\", capsize=.2, ci=95)\n",
    "\n",
    "plt.ylim(0, 15.5)\n",
    "plt.yticks([0, 5, 10, 15])\n",
    "\n",
    "plt.xlabel(\"\")\n",
    "plt.ylabel(\"Anaphase onset to\\nsurface return (h)\")\n",
    "\n",
    "# rotate x tick labels if necessary\n",
    "x_labels = [\"Control\", \"Collagenase\"]\n",
    "# x_labels = ax.get_xticklabels()\n",
    "ax.set_xticklabels(labels=x_labels, rotation=60, ha=\"right\")\n",
    "\n",
    "# make the bar width narrower\n",
    "change_bar_width(ax, .6)\n",
    "\n",
    "for o in fig.findobj():\n",
    "    o.set_clip_on(False)\n",
    "for o in ax.findobj():\n",
    "    o.set_clip_on(False)\n",
    "\n",
    "if outputFigPath is not None:\n",
    "    plt.savefig(outputFigPath)\n"
   ]
  },
  {
   "cell_type": "code",
   "execution_count": 10,
   "metadata": {},
   "outputs": [
    {
     "data": {
      "image/png": "[encoded data removed]",
      "text/plain": [
       "<Figure size 90x360 with 1 Axes>"
      ]
     },
     "metadata": {
      "needs_background": "light"
     },
     "output_type": "display_data"
    }
   ],
   "source": [
    "# Composite wwarm and bar plot of different collagenase concentrations\n",
    "\n",
    "outputPrefix = 'SMG-collagenase-post-division-return-time-bar-swarm'\n",
    "outputFigPath = \"../jupyter_figures/\" + outputPrefix + \".svg\"\n",
    "\n",
    "fig_width, fig_height = 0.3, 1.2\n",
    "fig = plt.figure(figsize=(fig_width,fig_height), dpi=300)\n",
    "ax = fig.add_axes([0.1, 0.1, 0.8, 0.8])\n",
    "\n",
    "xCol, yCol = 'group_id', 'AO_to_SR_hours'\n",
    "\n",
    "# Customize color of each group\n",
    "paletteDict = {'control': 'black', 'collagenase': 'red'}\n",
    "\n",
    "ax = sns.swarmplot(x=xCol, y=yCol, data=df,\n",
    "                   hue='group_id', palette=paletteDict,\n",
    "#                    color='Gray',\n",
    "#                    color=\"blue\",\n",
    "                   alpha=.5,\n",
    "                   size=1.0)\n",
    "\n",
    "ax = sns.barplot(x=xCol, y=yCol, data=df,\n",
    "                 color=\".7\", alpha=1.0,\n",
    "                 errwidth=.7, errcolor=\"k\", capsize=.2, ci=95)\n",
    "\n",
    "plt.ylim(0, 15.5)\n",
    "plt.yticks([0, 5, 10, 15])\n",
    "\n",
    "plt.xlabel(\"\")\n",
    "plt.ylabel(\"Anaphase onset to\\nsurface return (h)\")\n",
    "\n",
    "# rotate x tick labels if necessary\n",
    "x_labels = [\"Control\", \"Collagenase\"]\n",
    "# x_labels = ax.get_xticklabels()\n",
    "ax.set_xticklabels(labels=x_labels, rotation=60, ha=\"right\")\n",
    "\n",
    "# make the bar width narrower\n",
    "change_bar_width(ax, .6)\n",
    "\n",
    "for o in fig.findobj():\n",
    "    o.set_clip_on(False)\n",
    "for o in ax.findobj():\n",
    "    o.set_clip_on(False)\n",
    "\n",
    "if outputFigPath is not None:\n",
    "    plt.savefig(outputFigPath)\n"
   ]
  },
  {
   "cell_type": "code",
   "execution_count": 11,
   "metadata": {},
   "outputs": [
    {
     "data": {
      "text/html": [
       "<div>\n",
       "<style scoped>\n",
       "    .dataframe tbody tr th:only-of-type {\n",
       "        vertical-align: middle;\n",
       "    }\n",
       "\n",
       "    .dataframe tbody tr th {\n",
       "        vertical-align: top;\n",
       "    }\n",
       "\n",
       "    .dataframe thead th {\n",
       "        text-align: right;\n",
       "    }\n",
       "</style>\n",
       "<table border=\"1\" class=\"dataframe\">\n",
       "  <thead>\n",
       "    <tr style=\"text-align: right;\">\n",
       "      <th></th>\n",
       "      <th>group_id</th>\n",
       "      <th>AO_to_SR_minutes</th>\n",
       "      <th>AO_to_SR_hours</th>\n",
       "    </tr>\n",
       "  </thead>\n",
       "  <tbody>\n",
       "    <tr>\n",
       "      <th>0</th>\n",
       "      <td>collagenase</td>\n",
       "      <td>120.0</td>\n",
       "      <td>2.000000</td>\n",
       "    </tr>\n",
       "    <tr>\n",
       "      <th>1</th>\n",
       "      <td>collagenase</td>\n",
       "      <td>215.0</td>\n",
       "      <td>3.583333</td>\n",
       "    </tr>\n",
       "    <tr>\n",
       "      <th>2</th>\n",
       "      <td>collagenase</td>\n",
       "      <td>75.0</td>\n",
       "      <td>1.250000</td>\n",
       "    </tr>\n",
       "    <tr>\n",
       "      <th>3</th>\n",
       "      <td>collagenase</td>\n",
       "      <td>610.0</td>\n",
       "      <td>10.166667</td>\n",
       "    </tr>\n",
       "    <tr>\n",
       "      <th>4</th>\n",
       "      <td>collagenase</td>\n",
       "      <td>NaN</td>\n",
       "      <td>NaN</td>\n",
       "    </tr>\n",
       "  </tbody>\n",
       "</table>\n",
       "</div>"
      ],
      "text/plain": [
       "      group_id  AO_to_SR_minutes  AO_to_SR_hours\n",
       "0  collagenase             120.0        2.000000\n",
       "1  collagenase             215.0        3.583333\n",
       "2  collagenase              75.0        1.250000\n",
       "3  collagenase             610.0       10.166667\n",
       "4  collagenase               NaN             NaN"
      ]
     },
     "execution_count": 11,
     "metadata": {},
     "output_type": "execute_result"
    }
   ],
   "source": [
    "df2.head()"
   ]
  },
  {
   "cell_type": "code",
   "execution_count": 12,
   "metadata": {},
   "outputs": [
    {
     "data": {
      "text/plain": [
       "group_id            0\n",
       "AO_to_SR_minutes    9\n",
       "AO_to_SR_hours      9\n",
       "dtype: int64"
      ]
     },
     "execution_count": 12,
     "metadata": {},
     "output_type": "execute_result"
    }
   ],
   "source": [
    "df2.isna().sum()"
   ]
  },
  {
   "cell_type": "code",
   "execution_count": 13,
   "metadata": {},
   "outputs": [
    {
     "data": {
      "text/plain": [
       "20"
      ]
     },
     "execution_count": 13,
     "metadata": {},
     "output_type": "execute_result"
    }
   ],
   "source": [
    "len(df2)"
   ]
  },
  {
   "cell_type": "code",
   "execution_count": 14,
   "metadata": {},
   "outputs": [
    {
     "data": {
      "text/html": [
       "<div>\n",
       "<style scoped>\n",
       "    .dataframe tbody tr th:only-of-type {\n",
       "        vertical-align: middle;\n",
       "    }\n",
       "\n",
       "    .dataframe tbody tr th {\n",
       "        vertical-align: top;\n",
       "    }\n",
       "\n",
       "    .dataframe thead th {\n",
       "        text-align: right;\n",
       "    }\n",
       "</style>\n",
       "<table border=\"1\" class=\"dataframe\">\n",
       "  <thead>\n",
       "    <tr style=\"text-align: right;\">\n",
       "      <th></th>\n",
       "      <th>cell_division_id</th>\n",
       "      <th>daughter_cell_id</th>\n",
       "      <th>track_id</th>\n",
       "      <th>track_start</th>\n",
       "      <th>track_end</th>\n",
       "      <th>start_on_surface</th>\n",
       "      <th>surface_return</th>\n",
       "      <th>AO_to_SR_frames</th>\n",
       "      <th>experimental_group</th>\n",
       "      <th>Unnamed: 9</th>\n",
       "      <th>Unnamed: 10</th>\n",
       "      <th>AO_to_SR_minutes</th>\n",
       "      <th>AO_to_SR_hours</th>\n",
       "      <th>group_id</th>\n",
       "    </tr>\n",
       "  </thead>\n",
       "  <tbody>\n",
       "    <tr>\n",
       "      <th>0</th>\n",
       "      <td>1</td>\n",
       "      <td>1A</td>\n",
       "      <td>0.0</td>\n",
       "      <td>12.0</td>\n",
       "      <td>36.0</td>\n",
       "      <td>no</td>\n",
       "      <td>yes</td>\n",
       "      <td>24.0</td>\n",
       "      <td>collagenase</td>\n",
       "      <td>NaN</td>\n",
       "      <td>NaN</td>\n",
       "      <td>120.0</td>\n",
       "      <td>2.000000</td>\n",
       "      <td>collagenase</td>\n",
       "    </tr>\n",
       "    <tr>\n",
       "      <th>1</th>\n",
       "      <td>1</td>\n",
       "      <td>1B</td>\n",
       "      <td>5.0</td>\n",
       "      <td>12.0</td>\n",
       "      <td>55.0</td>\n",
       "      <td>no</td>\n",
       "      <td>yes</td>\n",
       "      <td>43.0</td>\n",
       "      <td>collagenase</td>\n",
       "      <td>NaN</td>\n",
       "      <td>NaN</td>\n",
       "      <td>215.0</td>\n",
       "      <td>3.583333</td>\n",
       "      <td>collagenase</td>\n",
       "    </tr>\n",
       "    <tr>\n",
       "      <th>2</th>\n",
       "      <td>2</td>\n",
       "      <td>2A</td>\n",
       "      <td>6.0</td>\n",
       "      <td>133.0</td>\n",
       "      <td>148.0</td>\n",
       "      <td>no</td>\n",
       "      <td>yes</td>\n",
       "      <td>15.0</td>\n",
       "      <td>collagenase</td>\n",
       "      <td>NaN</td>\n",
       "      <td>NaN</td>\n",
       "      <td>75.0</td>\n",
       "      <td>1.250000</td>\n",
       "      <td>collagenase</td>\n",
       "    </tr>\n",
       "    <tr>\n",
       "      <th>3</th>\n",
       "      <td>2</td>\n",
       "      <td>2B</td>\n",
       "      <td>8.0</td>\n",
       "      <td>133.0</td>\n",
       "      <td>255.0</td>\n",
       "      <td>no</td>\n",
       "      <td>yes</td>\n",
       "      <td>122.0</td>\n",
       "      <td>collagenase</td>\n",
       "      <td>NaN</td>\n",
       "      <td>NaN</td>\n",
       "      <td>610.0</td>\n",
       "      <td>10.166667</td>\n",
       "      <td>collagenase</td>\n",
       "    </tr>\n",
       "    <tr>\n",
       "      <th>4</th>\n",
       "      <td>3</td>\n",
       "      <td>3A</td>\n",
       "      <td>NaN</td>\n",
       "      <td>NaN</td>\n",
       "      <td>NaN</td>\n",
       "      <td>yes</td>\n",
       "      <td>NaN</td>\n",
       "      <td>NaN</td>\n",
       "      <td>collagenase</td>\n",
       "      <td>NaN</td>\n",
       "      <td>NaN</td>\n",
       "      <td>NaN</td>\n",
       "      <td>NaN</td>\n",
       "      <td>collagenase</td>\n",
       "    </tr>\n",
       "  </tbody>\n",
       "</table>\n",
       "</div>"
      ],
      "text/plain": [
       "   cell_division_id daughter_cell_id  track_id  track_start  track_end  \\\n",
       "0                 1               1A       0.0         12.0       36.0   \n",
       "1                 1               1B       5.0         12.0       55.0   \n",
       "2                 2               2A       6.0        133.0      148.0   \n",
       "3                 2               2B       8.0        133.0      255.0   \n",
       "4                 3               3A       NaN          NaN        NaN   \n",
       "\n",
       "  start_on_surface surface_return  AO_to_SR_frames experimental_group  \\\n",
       "0               no            yes             24.0        collagenase   \n",
       "1               no            yes             43.0        collagenase   \n",
       "2               no            yes             15.0        collagenase   \n",
       "3               no            yes            122.0        collagenase   \n",
       "4              yes            NaN              NaN        collagenase   \n",
       "\n",
       "   Unnamed: 9  Unnamed: 10  AO_to_SR_minutes  AO_to_SR_hours     group_id  \n",
       "0         NaN          NaN             120.0        2.000000  collagenase  \n",
       "1         NaN          NaN             215.0        3.583333  collagenase  \n",
       "2         NaN          NaN              75.0        1.250000  collagenase  \n",
       "3         NaN          NaN             610.0       10.166667  collagenase  \n",
       "4         NaN          NaN               NaN             NaN  collagenase  "
      ]
     },
     "execution_count": 14,
     "metadata": {},
     "output_type": "execute_result"
    }
   ],
   "source": [
    "df = pd.read_csv('../data/SMG-post-division-return-time/20210124-K14RhisG-2p-collagenase-post-division-return.csv')\n",
    "df['AO_to_SR_minutes'] = df.AO_to_SR_frames * 5\n",
    "df['AO_to_SR_hours'] = df.AO_to_SR_minutes / 60\n",
    "df['group_id'] = ['collagenase']*len(df)\n",
    "df.head()"
   ]
  },
  {
   "cell_type": "code",
   "execution_count": 15,
   "metadata": {},
   "outputs": [
    {
     "data": {
      "text/plain": [
       "cell_division_id       0\n",
       "daughter_cell_id       0\n",
       "track_id               9\n",
       "track_start            8\n",
       "track_end              8\n",
       "start_on_surface       0\n",
       "surface_return         8\n",
       "AO_to_SR_frames        9\n",
       "experimental_group     0\n",
       "Unnamed: 9            20\n",
       "Unnamed: 10           20\n",
       "AO_to_SR_minutes       9\n",
       "AO_to_SR_hours         9\n",
       "group_id               0\n",
       "dtype: int64"
      ]
     },
     "execution_count": 15,
     "metadata": {},
     "output_type": "execute_result"
    }
   ],
   "source": [
    "df.isna().sum()"
   ]
  },
  {
   "cell_type": "code",
   "execution_count": 16,
   "metadata": {},
   "outputs": [
    {
     "data": {
      "text/html": [
       "<div>\n",
       "<style scoped>\n",
       "    .dataframe tbody tr th:only-of-type {\n",
       "        vertical-align: middle;\n",
       "    }\n",
       "\n",
       "    .dataframe tbody tr th {\n",
       "        vertical-align: top;\n",
       "    }\n",
       "\n",
       "    .dataframe thead tr th {\n",
       "        text-align: left;\n",
       "    }\n",
       "\n",
       "    .dataframe thead tr:last-of-type th {\n",
       "        text-align: right;\n",
       "    }\n",
       "</style>\n",
       "<table border=\"1\" class=\"dataframe\">\n",
       "  <thead>\n",
       "    <tr>\n",
       "      <th></th>\n",
       "      <th colspan=\"8\" halign=\"left\">cell_division_id</th>\n",
       "      <th colspan=\"2\" halign=\"left\">track_id</th>\n",
       "      <th>...</th>\n",
       "      <th colspan=\"2\" halign=\"left\">AO_to_SR_minutes</th>\n",
       "      <th colspan=\"8\" halign=\"left\">AO_to_SR_hours</th>\n",
       "    </tr>\n",
       "    <tr>\n",
       "      <th></th>\n",
       "      <th>count</th>\n",
       "      <th>mean</th>\n",
       "      <th>std</th>\n",
       "      <th>min</th>\n",
       "      <th>25%</th>\n",
       "      <th>50%</th>\n",
       "      <th>75%</th>\n",
       "      <th>max</th>\n",
       "      <th>count</th>\n",
       "      <th>mean</th>\n",
       "      <th>...</th>\n",
       "      <th>75%</th>\n",
       "      <th>max</th>\n",
       "      <th>count</th>\n",
       "      <th>mean</th>\n",
       "      <th>std</th>\n",
       "      <th>min</th>\n",
       "      <th>25%</th>\n",
       "      <th>50%</th>\n",
       "      <th>75%</th>\n",
       "      <th>max</th>\n",
       "    </tr>\n",
       "    <tr>\n",
       "      <th>start_on_surface</th>\n",
       "      <th></th>\n",
       "      <th></th>\n",
       "      <th></th>\n",
       "      <th></th>\n",
       "      <th></th>\n",
       "      <th></th>\n",
       "      <th></th>\n",
       "      <th></th>\n",
       "      <th></th>\n",
       "      <th></th>\n",
       "      <th></th>\n",
       "      <th></th>\n",
       "      <th></th>\n",
       "      <th></th>\n",
       "      <th></th>\n",
       "      <th></th>\n",
       "      <th></th>\n",
       "      <th></th>\n",
       "      <th></th>\n",
       "      <th></th>\n",
       "      <th></th>\n",
       "    </tr>\n",
       "  </thead>\n",
       "  <tbody>\n",
       "    <tr>\n",
       "      <th>no</th>\n",
       "      <td>12.0</td>\n",
       "      <td>4.5</td>\n",
       "      <td>2.876235</td>\n",
       "      <td>1.0</td>\n",
       "      <td>2.0</td>\n",
       "      <td>4.5</td>\n",
       "      <td>6.25</td>\n",
       "      <td>10.0</td>\n",
       "      <td>11.0</td>\n",
       "      <td>30.090909</td>\n",
       "      <td>...</td>\n",
       "      <td>537.5</td>\n",
       "      <td>865.0</td>\n",
       "      <td>11.0</td>\n",
       "      <td>6.189394</td>\n",
       "      <td>4.351419</td>\n",
       "      <td>1.083333</td>\n",
       "      <td>2.791667</td>\n",
       "      <td>5.833333</td>\n",
       "      <td>8.958333</td>\n",
       "      <td>14.416667</td>\n",
       "    </tr>\n",
       "    <tr>\n",
       "      <th>yes</th>\n",
       "      <td>8.0</td>\n",
       "      <td>7.0</td>\n",
       "      <td>2.507133</td>\n",
       "      <td>3.0</td>\n",
       "      <td>5.5</td>\n",
       "      <td>7.5</td>\n",
       "      <td>9.00</td>\n",
       "      <td>10.0</td>\n",
       "      <td>0.0</td>\n",
       "      <td>NaN</td>\n",
       "      <td>...</td>\n",
       "      <td>NaN</td>\n",
       "      <td>NaN</td>\n",
       "      <td>0.0</td>\n",
       "      <td>NaN</td>\n",
       "      <td>NaN</td>\n",
       "      <td>NaN</td>\n",
       "      <td>NaN</td>\n",
       "      <td>NaN</td>\n",
       "      <td>NaN</td>\n",
       "      <td>NaN</td>\n",
       "    </tr>\n",
       "  </tbody>\n",
       "</table>\n",
       "<p>2 rows × 72 columns</p>\n",
       "</div>"
      ],
      "text/plain": [
       "                 cell_division_id                                            \\\n",
       "                            count mean       std  min  25%  50%   75%   max   \n",
       "start_on_surface                                                              \n",
       "no                           12.0  4.5  2.876235  1.0  2.0  4.5  6.25  10.0   \n",
       "yes                           8.0  7.0  2.507133  3.0  5.5  7.5  9.00  10.0   \n",
       "\n",
       "                 track_id             ... AO_to_SR_minutes         \\\n",
       "                    count       mean  ...              75%    max   \n",
       "start_on_surface                      ...                           \n",
       "no                   11.0  30.090909  ...            537.5  865.0   \n",
       "yes                   0.0        NaN  ...              NaN    NaN   \n",
       "\n",
       "                 AO_to_SR_hours                                          \\\n",
       "                          count      mean       std       min       25%   \n",
       "start_on_surface                                                          \n",
       "no                         11.0  6.189394  4.351419  1.083333  2.791667   \n",
       "yes                         0.0       NaN       NaN       NaN       NaN   \n",
       "\n",
       "                                                 \n",
       "                       50%       75%        max  \n",
       "start_on_surface                                 \n",
       "no                5.833333  8.958333  14.416667  \n",
       "yes                    NaN       NaN        NaN  \n",
       "\n",
       "[2 rows x 72 columns]"
      ]
     },
     "execution_count": 16,
     "metadata": {},
     "output_type": "execute_result"
    }
   ],
   "source": [
    "df.groupby('start_on_surface').describe()"
   ]
  },
  {
   "cell_type": "code",
   "execution_count": 17,
   "metadata": {},
   "outputs": [],
   "source": [
    "# What if we do not consider the really fast returning cells in control?\n",
    "df1_filtered = df1[df1.AO_to_SR_hours<=0.5]"
   ]
  },
  {
   "cell_type": "code",
   "execution_count": 18,
   "metadata": {},
   "outputs": [
    {
     "data": {
      "text/plain": [
       "Ttest_indResult(statistic=-2.9341364294958345, pvalue=0.010882192827607811)"
      ]
     },
     "execution_count": 18,
     "metadata": {},
     "output_type": "execute_result"
    }
   ],
   "source": [
    "ttest_ind(df1_filtered.AO_to_SR_hours, df2.dropna().AO_to_SR_hours)"
   ]
  },
  {
   "cell_type": "code",
   "execution_count": null,
   "metadata": {},
   "outputs": [],
   "source": []
  }
 ],
 "metadata": {
  "kernelspec": {
   "display_name": "Python 3",
   "language": "python",
   "name": "python3"
  },
  "language_info": {
   "codemirror_mode": {
    "name": "ipython",
    "version": 3
   },
   "file_extension": ".py",
   "mimetype": "text/x-python",
   "name": "python",
   "nbconvert_exporter": "python",
   "pygments_lexer": "ipython3",
   "version": "3.7.10"
  }
 },
 "nbformat": 4,
 "nbformat_minor": 4
}
