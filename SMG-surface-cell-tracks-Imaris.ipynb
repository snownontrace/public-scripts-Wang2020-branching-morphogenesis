{
 "cells": [
  {
   "cell_type": "code",
   "execution_count": 1,
   "metadata": {},
   "outputs": [
    {
     "name": "stdout",
     "output_type": "stream",
     "text": [
      "mkdir: ../jupyter_figures: File exists\n"
     ]
    }
   ],
   "source": [
    "import sys, os, glob\n",
    "import numpy as np\n",
    "import pandas as pd\n",
    "import matplotlib\n",
    "import matplotlib.pyplot as plt\n",
    "import seaborn as sns\n",
    "from scipy.interpolate import interp1d\n",
    "from scipy.stats import percentileofscore\n",
    "from sw_plotting import plot_cum_dist, plot_dist\n",
    "from sw_plotting import plot_track_distance_to_surface\n",
    "\n",
    "# make a folder to store figures if not already there\n",
    "!mkdir ../jupyter_figures"
   ]
  },
  {
   "cell_type": "code",
   "execution_count": 2,
   "metadata": {},
   "outputs": [
    {
     "data": {
      "text/html": [
       "<div>\n",
       "<style scoped>\n",
       "    .dataframe tbody tr th:only-of-type {\n",
       "        vertical-align: middle;\n",
       "    }\n",
       "\n",
       "    .dataframe tbody tr th {\n",
       "        vertical-align: top;\n",
       "    }\n",
       "\n",
       "    .dataframe thead th {\n",
       "        text-align: right;\n",
       "    }\n",
       "</style>\n",
       "<table border=\"1\" class=\"dataframe\">\n",
       "  <thead>\n",
       "    <tr style=\"text-align: right;\">\n",
       "      <th></th>\n",
       "      <th>Distance</th>\n",
       "      <th>Unit</th>\n",
       "      <th>Category</th>\n",
       "      <th>Surfaces</th>\n",
       "      <th>Time</th>\n",
       "      <th>TrackID</th>\n",
       "      <th>ID</th>\n",
       "      <th>Unnamed: 7</th>\n",
       "    </tr>\n",
       "  </thead>\n",
       "  <tbody>\n",
       "    <tr>\n",
       "      <th>0</th>\n",
       "      <td>-3.79688</td>\n",
       "      <td>um</td>\n",
       "      <td>Spot</td>\n",
       "      <td>Surfaces 1</td>\n",
       "      <td>25</td>\n",
       "      <td>1000000000</td>\n",
       "      <td>0</td>\n",
       "      <td>NaN</td>\n",
       "    </tr>\n",
       "    <tr>\n",
       "      <th>1</th>\n",
       "      <td>-6.42798</td>\n",
       "      <td>um</td>\n",
       "      <td>Spot</td>\n",
       "      <td>Surfaces 1</td>\n",
       "      <td>25</td>\n",
       "      <td>1000000001</td>\n",
       "      <td>1</td>\n",
       "      <td>NaN</td>\n",
       "    </tr>\n",
       "    <tr>\n",
       "      <th>2</th>\n",
       "      <td>-6.48458</td>\n",
       "      <td>um</td>\n",
       "      <td>Spot</td>\n",
       "      <td>Surfaces 1</td>\n",
       "      <td>25</td>\n",
       "      <td>1000000002</td>\n",
       "      <td>2</td>\n",
       "      <td>NaN</td>\n",
       "    </tr>\n",
       "    <tr>\n",
       "      <th>3</th>\n",
       "      <td>-7.88086</td>\n",
       "      <td>um</td>\n",
       "      <td>Spot</td>\n",
       "      <td>Surfaces 1</td>\n",
       "      <td>25</td>\n",
       "      <td>1000000003</td>\n",
       "      <td>3</td>\n",
       "      <td>NaN</td>\n",
       "    </tr>\n",
       "    <tr>\n",
       "      <th>4</th>\n",
       "      <td>-7.83211</td>\n",
       "      <td>um</td>\n",
       "      <td>Spot</td>\n",
       "      <td>Surfaces 1</td>\n",
       "      <td>25</td>\n",
       "      <td>1000000004</td>\n",
       "      <td>4</td>\n",
       "      <td>NaN</td>\n",
       "    </tr>\n",
       "  </tbody>\n",
       "</table>\n",
       "</div>"
      ],
      "text/plain": [
       "   Distance Unit Category    Surfaces  Time     TrackID  ID  Unnamed: 7\n",
       "0  -3.79688   um     Spot  Surfaces 1    25  1000000000   0         NaN\n",
       "1  -6.42798   um     Spot  Surfaces 1    25  1000000001   1         NaN\n",
       "2  -6.48458   um     Spot  Surfaces 1    25  1000000002   2         NaN\n",
       "3  -7.88086   um     Spot  Surfaces 1    25  1000000003   3         NaN\n",
       "4  -7.83211   um     Spot  Surfaces 1    25  1000000004   4         NaN"
      ]
     },
     "execution_count": 2,
     "metadata": {},
     "output_type": "execute_result"
    }
   ],
   "source": [
    "data_folder = '../data/imaris-overall-tracking-data/Tracks-surface-proximal/'\n",
    "track_file = data_folder + '2020-01-25-K14R-HisG-2photon-25x-2-denoised_Shortest_Distance_to_Surfaces_Surfaces=Surfaces_1.csv'\n",
    "output_prefix = '2020-01-25-K14R-HisG-2photon-25x-2-denoised-surface-proximal-tracks'\n",
    "df = pd.read_csv(track_file, skiprows=3)\n",
    "df.rename(columns={'Shortest Distance to Surfaces':'Distance'}, inplace=True)\n",
    "df.head()\n"
   ]
  },
  {
   "cell_type": "code",
   "execution_count": 3,
   "metadata": {},
   "outputs": [],
   "source": [
    "filtered_file = data_folder + output_prefix + '-filtered.csv'\n",
    "\n",
    "if os.path.isfile(filtered_file):\n",
    "    df_filtered = pd.read_csv(filtered_file)\n",
    "\n",
    "else:\n",
    "    # Filter out tracks that go outside of the surface\n",
    "    # These tracks are mesenchyme tracks closely delineating the surface\n",
    "    # that got selected when the simple minimal distance criteria was used\n",
    "    # to filter tracks in Imaris\n",
    "\n",
    "    tracks_to_drop = []\n",
    "    for track in df.TrackID.unique():\n",
    "        df_temp = df[df.TrackID==track]\n",
    "        track_max_dist_temp = np.max(df_temp.Distance)\n",
    "        if track_max_dist_temp >= 0:\n",
    "            tracks_to_drop.append(track)\n",
    "    print(\"Total number of tracks to drop: \", len(tracks_to_drop))\n",
    "\n",
    "    df_filtered = df[~df.TrackID.isin(tracks_to_drop)]\n",
    "\n",
    "    # save the file to speed up future processing\n",
    "    df_filtered.to_csv(filtered_file, index=False)\n",
    "    "
   ]
  },
  {
   "cell_type": "code",
   "execution_count": 4,
   "metadata": {},
   "outputs": [
    {
     "name": "stdout",
     "output_type": "stream",
     "text": [
      "Total number of tracks before filtering:  14867\n",
      "Total number of spots before filtering:  392672\n",
      "Total number of tracks after filtering:  14808\n",
      "Total number of spots after filtering:  389899\n"
     ]
    }
   ],
   "source": [
    "print(\"Total number of tracks before filtering: \", df.TrackID.nunique())\n",
    "print(\"Total number of spots before filtering: \", len(df))\n",
    "print(\"Total number of tracks after filtering: \", df_filtered.TrackID.nunique())\n",
    "print(\"Total number of spots after filtering: \", len(df_filtered))"
   ]
  },
  {
   "cell_type": "code",
   "execution_count": 5,
   "metadata": {},
   "outputs": [],
   "source": [
    "# # output_file_name = '../jupyter_figures/' + output_prefix + '-CDF-spot-distance-to-surface.svg'\n",
    "# output_file_name = None\n",
    "# plot_cum_dist(df_filtered.Distance, output_fig_path=output_file_name, n_bins=20,\n",
    "#               x_max=0, x_ticks=[-45, -30, -15, 0], y_ticks=[0.0, 0.5, 1.0])\n"
   ]
  },
  {
   "cell_type": "code",
   "execution_count": 6,
   "metadata": {},
   "outputs": [
    {
     "data": {
      "text/plain": [
       "23.774233840045756"
      ]
     },
     "execution_count": 6,
     "metadata": {},
     "output_type": "execute_result"
    }
   ],
   "source": [
    "# Find the corresponding percentile of specified value\n",
    "percentileofscore(df_filtered.Distance, -15)\n"
   ]
  },
  {
   "cell_type": "code",
   "execution_count": 7,
   "metadata": {},
   "outputs": [
    {
     "data": {
      "text/html": [
       "<div>\n",
       "<style scoped>\n",
       "    .dataframe tbody tr th:only-of-type {\n",
       "        vertical-align: middle;\n",
       "    }\n",
       "\n",
       "    .dataframe tbody tr th {\n",
       "        vertical-align: top;\n",
       "    }\n",
       "\n",
       "    .dataframe thead th {\n",
       "        text-align: right;\n",
       "    }\n",
       "</style>\n",
       "<table border=\"1\" class=\"dataframe\">\n",
       "  <thead>\n",
       "    <tr style=\"text-align: right;\">\n",
       "      <th></th>\n",
       "      <th>Distance</th>\n",
       "      <th>Unit</th>\n",
       "      <th>Category</th>\n",
       "      <th>Surfaces</th>\n",
       "      <th>Time</th>\n",
       "      <th>TrackID</th>\n",
       "      <th>ID</th>\n",
       "      <th>Unnamed: 7</th>\n",
       "    </tr>\n",
       "  </thead>\n",
       "  <tbody>\n",
       "    <tr>\n",
       "      <th>0</th>\n",
       "      <td>-3.79688</td>\n",
       "      <td>um</td>\n",
       "      <td>Spot</td>\n",
       "      <td>Surfaces 1</td>\n",
       "      <td>25</td>\n",
       "      <td>1000000000</td>\n",
       "      <td>0</td>\n",
       "      <td>NaN</td>\n",
       "    </tr>\n",
       "    <tr>\n",
       "      <th>1</th>\n",
       "      <td>-6.42798</td>\n",
       "      <td>um</td>\n",
       "      <td>Spot</td>\n",
       "      <td>Surfaces 1</td>\n",
       "      <td>25</td>\n",
       "      <td>1000000001</td>\n",
       "      <td>1</td>\n",
       "      <td>NaN</td>\n",
       "    </tr>\n",
       "    <tr>\n",
       "      <th>2</th>\n",
       "      <td>-6.48458</td>\n",
       "      <td>um</td>\n",
       "      <td>Spot</td>\n",
       "      <td>Surfaces 1</td>\n",
       "      <td>25</td>\n",
       "      <td>1000000002</td>\n",
       "      <td>2</td>\n",
       "      <td>NaN</td>\n",
       "    </tr>\n",
       "    <tr>\n",
       "      <th>3</th>\n",
       "      <td>-7.88086</td>\n",
       "      <td>um</td>\n",
       "      <td>Spot</td>\n",
       "      <td>Surfaces 1</td>\n",
       "      <td>25</td>\n",
       "      <td>1000000003</td>\n",
       "      <td>3</td>\n",
       "      <td>NaN</td>\n",
       "    </tr>\n",
       "    <tr>\n",
       "      <th>4</th>\n",
       "      <td>-7.83211</td>\n",
       "      <td>um</td>\n",
       "      <td>Spot</td>\n",
       "      <td>Surfaces 1</td>\n",
       "      <td>25</td>\n",
       "      <td>1000000004</td>\n",
       "      <td>4</td>\n",
       "      <td>NaN</td>\n",
       "    </tr>\n",
       "  </tbody>\n",
       "</table>\n",
       "</div>"
      ],
      "text/plain": [
       "   Distance Unit Category    Surfaces  Time     TrackID  ID  Unnamed: 7\n",
       "0  -3.79688   um     Spot  Surfaces 1    25  1000000000   0         NaN\n",
       "1  -6.42798   um     Spot  Surfaces 1    25  1000000001   1         NaN\n",
       "2  -6.48458   um     Spot  Surfaces 1    25  1000000002   2         NaN\n",
       "3  -7.88086   um     Spot  Surfaces 1    25  1000000003   3         NaN\n",
       "4  -7.83211   um     Spot  Surfaces 1    25  1000000004   4         NaN"
      ]
     },
     "execution_count": 7,
     "metadata": {},
     "output_type": "execute_result"
    }
   ],
   "source": [
    "df_filtered.head()"
   ]
  },
  {
   "cell_type": "code",
   "execution_count": 8,
   "metadata": {},
   "outputs": [],
   "source": [
    "# Data wrangling to get an array of tracks for heatmap plotting\n",
    "\n",
    "tracks = df.TrackID.unique()\n",
    "\n",
    "N_tracks = 500 # Total number tracks to plot\n",
    "N_points = 100 # Normalize the umber of points per track by linear interpolation\n",
    "track_count = 0 # counter to stop when enough tracks retrieved\n",
    "\n",
    "# the random seed to choose tracks, use for reproducibile appearance of plot\n",
    "rand_seed = 2\n",
    "np.random.seed(rand_seed)\n",
    "\n",
    "# the \"*100\" is to make sure getting enough tracks with the selection criteria\n",
    "surface_track_distances = []\n",
    "for i in np.random.randint(0, len(tracks), N_tracks*100):\n",
    "    # Get the data frame subset of current track\n",
    "    df_temp = df[ df.TrackID==tracks[i] ]\n",
    "    # Filter out short tracks\n",
    "    if len(df_temp)<36:\n",
    "        continue\n",
    "    # Filter out very long tracks that tends to contain errors\n",
    "    if len(df_temp)>120:\n",
    "        continue\n",
    "\n",
    "    # Filter out tracks with positive distance,\n",
    "    # which are likely outside of the epithelial surface\n",
    "    if pd.Series(df_temp.Distance>-3).any():\n",
    "        continue\n",
    "    \n",
    "    # interpolate the x, y coordinates with defined number of values\n",
    "    yOld = df_temp.Distance.tolist()\n",
    "    xOld = np.arange(0, len(yOld))\n",
    "    xNew = np.linspace(0, len(yOld)-1, N_points)\n",
    "    f1 = interp1d(xOld, yOld)\n",
    "    yNew = f1(xNew)\n",
    "    surface_track_distances.append(yNew)\n",
    "    \n",
    "    track_count += 1\n",
    "    if track_count > N_tracks:\n",
    "        break\n",
    "\n",
    "# Check whether desired number of plot were obtained\n",
    "assert track_count == N_tracks + 1"
   ]
  },
  {
   "cell_type": "code",
   "execution_count": 9,
   "metadata": {},
   "outputs": [
    {
     "data": {
      "image/png": "[encoded data removed]",
      "text/plain": [
       "<Figure size 600x240 with 2 Axes>"
      ]
     },
     "metadata": {
      "needs_background": "light"
     },
     "output_type": "display_data"
    }
   ],
   "source": [
    "# make horizontal figure without sorting\n",
    "\n",
    "fig_width, fig_height = 2, .8\n",
    "fig = plt.figure(figsize=(fig_width,fig_height), dpi=300)\n",
    "ax = fig.add_axes([0.1, 0.1, 0.8, 0.8])\n",
    "\n",
    "sns.heatmap(list(reversed(surface_track_distances)),\n",
    "#             cmap=sns.light_palette(\"#5555ff\", n_colors=100),\n",
    "            cmap='coolwarm',\n",
    "            vmin=-50, vmax=-15)\n",
    "\n",
    "for o in fig.findobj():\n",
    "    o.set_clip_on(False)\n",
    "for o in ax.findobj():\n",
    "    o.set_clip_on(False)\n",
    "\n",
    "plt.axis(\"off\")\n",
    "\n",
    "outputFigPath = '../jupyter_figures/'+output_prefix+'-surface-track-heatmap-sorted-coolwarm-horizontal-no-sorting-seed'+str(rand_seed)+'.png'\n",
    "plt.savefig(outputFigPath)\n"
   ]
  },
  {
   "cell_type": "code",
   "execution_count": null,
   "metadata": {},
   "outputs": [],
   "source": []
  }
 ],
 "metadata": {
  "kernelspec": {
   "display_name": "Python 3",
   "language": "python",
   "name": "python3"
  },
  "language_info": {
   "codemirror_mode": {
    "name": "ipython",
    "version": 3
   },
   "file_extension": ".py",
   "mimetype": "text/x-python",
   "name": "python",
   "nbconvert_exporter": "python",
   "pygments_lexer": "ipython3",
   "version": "3.7.10"
  }
 },
 "nbformat": 4,
 "nbformat_minor": 4
}
