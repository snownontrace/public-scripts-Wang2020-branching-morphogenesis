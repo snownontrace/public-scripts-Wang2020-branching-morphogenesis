{
 "cells": [
  {
   "cell_type": "code",
   "execution_count": 1,
   "metadata": {},
   "outputs": [
    {
     "name": "stdout",
     "output_type": "stream",
     "text": [
      "mkdir: ../jupyter_figures: File exists\n"
     ]
    }
   ],
   "source": [
    "import sys, os, glob\n",
    "import numpy as np\n",
    "import pandas as pd\n",
    "import matplotlib\n",
    "import matplotlib.pyplot as plt\n",
    "import seaborn as sns\n",
    "from sw_plotting import change_bar_width\n",
    "from sw_utilities import tukeyTest\n",
    "\n",
    "# Make a folder if it is not already there to store exported figures\n",
    "!mkdir ../jupyter_figures"
   ]
  },
  {
   "cell_type": "code",
   "execution_count": 2,
   "metadata": {
    "scrolled": true
   },
   "outputs": [
    {
     "data": {
      "text/html": [
       "<div>\n",
       "<style scoped>\n",
       "    .dataframe tbody tr th:only-of-type {\n",
       "        vertical-align: middle;\n",
       "    }\n",
       "\n",
       "    .dataframe tbody tr th {\n",
       "        vertical-align: top;\n",
       "    }\n",
       "\n",
       "    .dataframe thead th {\n",
       "        text-align: right;\n",
       "    }\n",
       "</style>\n",
       "<table border=\"1\" class=\"dataframe\">\n",
       "  <thead>\n",
       "    <tr style=\"text-align: right;\">\n",
       "      <th></th>\n",
       "      <th>file_name_2h</th>\n",
       "      <th>bud_number_2h</th>\n",
       "      <th>file_name_24h</th>\n",
       "      <th>bud_number_24h</th>\n",
       "      <th>groups</th>\n",
       "      <th>bud_ratio</th>\n",
       "    </tr>\n",
       "  </thead>\n",
       "  <tbody>\n",
       "    <tr>\n",
       "      <th>0</th>\n",
       "      <td>20200911-E13-SMG-collagenase-1-0-001.nd2</td>\n",
       "      <td>3</td>\n",
       "      <td>20200912-E13-SMG-collagenase-1-0-001-t24.nd2</td>\n",
       "      <td>7</td>\n",
       "      <td>1</td>\n",
       "      <td>2.333333</td>\n",
       "    </tr>\n",
       "    <tr>\n",
       "      <th>1</th>\n",
       "      <td>20200911-E13-SMG-collagenase-1-0-002.nd2</td>\n",
       "      <td>3</td>\n",
       "      <td>20200912-E13-SMG-collagenase-1-0-002-t24.nd2</td>\n",
       "      <td>10</td>\n",
       "      <td>1</td>\n",
       "      <td>3.333333</td>\n",
       "    </tr>\n",
       "    <tr>\n",
       "      <th>2</th>\n",
       "      <td>20200911-E13-SMG-collagenase-1-0-003.nd2</td>\n",
       "      <td>5</td>\n",
       "      <td>20200912-E13-SMG-collagenase-1-0-003-t24.nd2</td>\n",
       "      <td>17</td>\n",
       "      <td>1</td>\n",
       "      <td>3.400000</td>\n",
       "    </tr>\n",
       "    <tr>\n",
       "      <th>3</th>\n",
       "      <td>20200917-E12-13-collagenase-1-0ugPmL-004.nd2</td>\n",
       "      <td>5</td>\n",
       "      <td>20200918-E12-13-collagenase-1-0ugPmL-004.nd2</td>\n",
       "      <td>10</td>\n",
       "      <td>1</td>\n",
       "      <td>2.000000</td>\n",
       "    </tr>\n",
       "    <tr>\n",
       "      <th>4</th>\n",
       "      <td>20200917-E12-13-collagenase-1-0ugPmL-005.nd2</td>\n",
       "      <td>5</td>\n",
       "      <td>20200918-E12-13-collagenase-1-0ugPmL-005.nd2</td>\n",
       "      <td>19</td>\n",
       "      <td>1</td>\n",
       "      <td>3.800000</td>\n",
       "    </tr>\n",
       "  </tbody>\n",
       "</table>\n",
       "</div>"
      ],
      "text/plain": [
       "                                   file_name_2h  bud_number_2h  \\\n",
       "0      20200911-E13-SMG-collagenase-1-0-001.nd2              3   \n",
       "1      20200911-E13-SMG-collagenase-1-0-002.nd2              3   \n",
       "2      20200911-E13-SMG-collagenase-1-0-003.nd2              5   \n",
       "3  20200917-E12-13-collagenase-1-0ugPmL-004.nd2              5   \n",
       "4  20200917-E12-13-collagenase-1-0ugPmL-005.nd2              5   \n",
       "\n",
       "                                  file_name_24h  bud_number_24h groups  \\\n",
       "0  20200912-E13-SMG-collagenase-1-0-001-t24.nd2               7      1   \n",
       "1  20200912-E13-SMG-collagenase-1-0-002-t24.nd2              10      1   \n",
       "2  20200912-E13-SMG-collagenase-1-0-003-t24.nd2              17      1   \n",
       "3  20200918-E12-13-collagenase-1-0ugPmL-004.nd2              10      1   \n",
       "4  20200918-E12-13-collagenase-1-0ugPmL-005.nd2              19      1   \n",
       "\n",
       "   bud_ratio  \n",
       "0   2.333333  \n",
       "1   3.333333  \n",
       "2   3.400000  \n",
       "3   2.000000  \n",
       "4   3.800000  "
      ]
     },
     "execution_count": 2,
     "metadata": {},
     "output_type": "execute_result"
    }
   ],
   "source": [
    "# Data wrangling to combine 3 data sets of collagenase titration\n",
    "#\n",
    "# Note that bud counting for 2 of them (20200911-12 and 20200917-18) were performed\n",
    "# after re-orgnization of the image data, so these two data sets are already combined\n",
    "\n",
    "\n",
    "# Time 2 h for 20200911-12 and 20200917-18 data sets\n",
    "df1 = pd.read_csv('../data/SMG-bud-count-collagenase-titration/20200911-17-E13-SMG-collagenase-titration-t2h-budCount.txt')\n",
    "df1.rename(columns={'file name': 'file_name',\n",
    "                    'number of buds':'bud_number'},\n",
    "           inplace=True)\n",
    "df1 = df1[:-3] # only plot up to 2 ug/mL\n",
    "\n",
    "# Time 2 h for 20210125-26 data set\n",
    "df2 = pd.read_csv('../data/SMG-bud-count-collagenase-titration/20210125-collagenase-dose-E13p5-0d-45921-budCount.txt')\n",
    "\n",
    "# Concatenate data for 2 h\n",
    "df_t1 = pd.concat([df1, df2])\n",
    "df_t1.reset_index(inplace=True, drop=True)\n",
    "df_t1.rename(columns={'file_name': 'file_name_2h',\n",
    "                      'bud_number': 'bud_number_2h'},\n",
    "             inplace=True)\n",
    "\n",
    "# Time 24 h for 20200911-12 and 20200917-18 data sets\n",
    "df1 = pd.read_csv('../data/SMG-bud-count-collagenase-titration/20200912-18-E13-SMG-collagenase-titration-t24-budCount.txt')\n",
    "df1.rename(columns={'file name': 'file_name', 'number of buds':'bud_number'},\n",
    "           inplace=True)\n",
    "df1 = df1[:-3] # only plot up to 2 ug/mL\n",
    "\n",
    "# Time 24 h for 20210125-26 data set\n",
    "df2 = pd.read_csv('../data/SMG-bud-count-collagenase-titration/20210126-collagenase-dose-E13p5-1d-264548-budCount.txt')\n",
    "\n",
    "# Concatenate data for 2 h\n",
    "df_t2 = pd.concat([df1, df2])\n",
    "df_t2.reset_index(inplace=True, drop=True)\n",
    "df_t2.rename(columns={'file_name': 'file_name_24h',\n",
    "                      'bud_number': 'bud_number_24h'},\n",
    "             inplace=True)\n",
    "\n",
    "# Concatenate data of 2 time points horizontally\n",
    "df = pd.concat([df_t1, df_t2], axis=1)\n",
    "\n",
    "# Annotate experimental groups\n",
    "# Groups 1-4: 0, 0.02, 0.2 and 2 µg/mL collagenase for 24 hours\n",
    "groups = ['1'] * 5 + ['2'] * 5 + ['3'] * 6 + ['4'] * 3 + \\\n",
    "         ['1'] * 5 + ['2'] * 5 + ['3'] * 5 + ['4'] * 5\n",
    "df['groups'] = groups\n",
    "\n",
    "# Calculate the bud count ratios\n",
    "df['bud_ratio'] = df['bud_number_24h'] / df['bud_number_2h']\n",
    "df.head()"
   ]
  },
  {
   "cell_type": "code",
   "execution_count": 3,
   "metadata": {},
   "outputs": [
    {
     "data": {
      "text/plain": [
       "<AxesSubplot:xlabel='groups', ylabel='bud_ratio'>"
      ]
     },
     "execution_count": 3,
     "metadata": {},
     "output_type": "execute_result"
    },
    {
     "data": {
      "image/png": "[encoded data removed]",
      "text/plain": [
       "<Figure size 432x288 with 1 Axes>"
      ]
     },
     "metadata": {
      "needs_background": "light"
     },
     "output_type": "display_data"
    }
   ],
   "source": [
    "# Quick overview of the raw data\n",
    "sns.swarmplot(data=df, x='groups', y='bud_ratio')"
   ]
  },
  {
   "cell_type": "code",
   "execution_count": 4,
   "metadata": {},
   "outputs": [
    {
     "name": "stdout",
     "output_type": "stream",
     "text": [
      "Summary of test:\n",
      " Multiple Comparison of Means - Tukey HSD, FWER=0.05 \n",
      "====================================================\n",
      "group1 group2 meandiff p-adj   lower   upper  reject\n",
      "----------------------------------------------------\n",
      "     1      2  -0.0752    0.9 -1.3578  1.2074  False\n",
      "     1      3   -1.624 0.0068 -2.8771 -0.3709   True\n",
      "     1      4  -2.7751  0.001 -4.1355 -1.4147   True\n",
      "     2      3  -1.5488 0.0105 -2.8019 -0.2957   True\n",
      "     2      4  -2.6999  0.001 -4.0603 -1.3395   True\n",
      "     3      4  -1.1511 0.1108 -2.4837  0.1815  False\n",
      "----------------------------------------------------\n",
      "p values of all pair-wise tests:\n",
      " [0.9        0.00683864 0.001      0.01048293 0.001      0.11079918]\n"
     ]
    },
    {
     "data": {
      "text/plain": [
       "<statsmodels.sandbox.stats.multicomp.TukeyHSDResults at 0x7f8bc0971d10>"
      ]
     },
     "execution_count": 4,
     "metadata": {},
     "output_type": "execute_result"
    }
   ],
   "source": [
    "# Stat test\n",
    "tukeyTest(df.bud_ratio, df.groups)"
   ]
  },
  {
   "cell_type": "code",
   "execution_count": 5,
   "metadata": {},
   "outputs": [
    {
     "data": {
      "image/png": "[encoded data removed]",
      "text/plain": [
       "<Figure size 240x480 with 1 Axes>"
      ]
     },
     "metadata": {
      "needs_background": "light"
     },
     "output_type": "display_data"
    }
   ],
   "source": [
    "# Composite wwarm and bar plot of different collagenase concentrations\n",
    "\n",
    "outputPrefix = 'SMG-collagenase-titration-swarm-bar'\n",
    "outputFigPath = \"../jupyter_figures/\" + outputPrefix + \".svg\"\n",
    "\n",
    "fig_width=0.8\n",
    "fig_height=1.6\n",
    "fig = plt.figure(figsize=(fig_width,fig_height), dpi=300)\n",
    "ax = fig.add_axes([0.1, 0.1, 0.8, 0.8])\n",
    "\n",
    "ax = sns.swarmplot(data=df, x='groups', y='bud_ratio',\n",
    "                   color=\"blue\",\n",
    "                   size=2.0,\n",
    "                   alpha=.4)\n",
    "\n",
    "ax = sns.barplot(data=df, x='groups', y='bud_ratio',\n",
    "                 color=\".7\", alpha=1.0,\n",
    "                 errwidth=.7, errcolor=\"k\", capsize=.2, ci=95)\n",
    "\n",
    "plt.ylim(0, 10)\n",
    "# plt.yticks([0, 10, 20])\n",
    "\n",
    "plt.xlabel(\"Collagenase (µg/mL)\")\n",
    "plt.ylabel(\"Bud ratio 24h / 2h\")\n",
    "\n",
    "# rotate x tick labels if necessary\n",
    "x_labels = ['0', '0.02', '0.2', '2']\n",
    "ax.set_xticklabels(labels=x_labels, rotation=60, ha=\"right\")\n",
    "\n",
    "# make the bar width narrower\n",
    "change_bar_width(ax, .6)\n",
    "\n",
    "for o in fig.findobj():\n",
    "    o.set_clip_on(False)\n",
    "for o in ax.findobj():\n",
    "    o.set_clip_on(False)\n",
    "\n",
    "if outputFigPath is not None:\n",
    "    plt.savefig(outputFigPath)\n"
   ]
  }
 ],
 "metadata": {
  "kernelspec": {
   "display_name": "Python 3",
   "language": "python",
   "name": "python3"
  },
  "language_info": {
   "codemirror_mode": {
    "name": "ipython",
    "version": 3
   },
   "file_extension": ".py",
   "mimetype": "text/x-python",
   "name": "python",
   "nbconvert_exporter": "python",
   "pygments_lexer": "ipython3",
   "version": "3.7.10"
  }
 },
 "nbformat": 4,
 "nbformat_minor": 4
}
