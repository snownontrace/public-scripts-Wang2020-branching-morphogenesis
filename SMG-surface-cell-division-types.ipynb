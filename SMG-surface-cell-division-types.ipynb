{
 "cells": [
  {
   "cell_type": "code",
   "execution_count": 1,
   "metadata": {},
   "outputs": [
    {
     "name": "stdout",
     "output_type": "stream",
     "text": [
      "mkdir: ../jupyter_figures: File exists\n"
     ]
    }
   ],
   "source": [
    "import sys, os, glob, warnings, logging\n",
    "import numpy as np\n",
    "import pandas as pd\n",
    "import matplotlib\n",
    "import matplotlib.pyplot as plt\n",
    "import seaborn as sns\n",
    "\n",
    "# logging.basicConfig(stream=sys.stdout, format='%(asctime)s - %(levelname)s - %(message)s', level=logging.DEBUG)\n",
    "logging.basicConfig(stream=sys.stdout, format='%(asctime)s - %(levelname)s - %(message)s', level=logging.INFO)\n",
    "\n",
    "# ignore warnings\n",
    "warnings.filterwarnings('ignore')\n",
    "\n",
    "# plotting configuration\n",
    "font = {'family' : 'Arial',\n",
    "        'size'   : 7}\n",
    "matplotlib.rc('font', **font)\n",
    "plt.rcParams['svg.fonttype'] = 'none'\n",
    "\n",
    "# make a folder to store figures if not already there\n",
    "!mkdir ../jupyter_figures"
   ]
  },
  {
   "cell_type": "code",
   "execution_count": 2,
   "metadata": {},
   "outputs": [],
   "source": [
    "# For contorl condition, combine 3 datasets of normal SMGs (e.g., not treated with collagenase)\n",
    "#\n",
    "# Each file is from one data set with a track_id column and an interior_number column,\n",
    "# which use number \"1\", \"2\" or \"0\" to indicate all three possible cell division outcomes\n",
    "\n",
    "df1 = pd.read_csv('../data/cell-division-tracking-data/180218-mTmGHisG-2photon-cell-division-outcome.csv')\n",
    "df1.track_id = ['180218_' + str(track_id) for track_id in df1.track_id]\n",
    "df2 = pd.read_csv('../data/cell-division-tracking-data/190227-mTmGHisG-2_E13-1_denoised-BCratio-cell-division-outcome.csv')\n",
    "df2.track_id = ['190227_' + str(track_id) for track_id in df2.track_id]\n",
    "df3 = pd.read_csv('../data/cell-division-tracking-data/190331-4_K14Rhet-HisG-1-1-denoised-BCratio-stacked-t1-120-cell-division-outcome.csv')\n",
    "df3.track_id = ['190331_' + str(track_id) for track_id in df3.track_id]\n",
    "\n",
    "df = pd.concat([df1, df2, df3])\n",
    "# df.head()"
   ]
  },
  {
   "cell_type": "code",
   "execution_count": 3,
   "metadata": {},
   "outputs": [],
   "source": [
    "# Annotate cell division types based on the number of interior daughter cells\n",
    "#\n",
    "# Type 1: 2 interior daughters\n",
    "# Type 2: 1 interior, 1 surface daughter\n",
    "# Type 3: 2 surface daughter\n",
    "# Type 4: 1 surface daughter, 1 extruded\n",
    "# Type 5: 2 extruded\n",
    "#\n",
    "# Note: we use negative numbers here to represent the number of daughters extruded\n",
    "# outward at anaphase onset. Only observed when basement membrane is disrupted.\n",
    "#\n",
    "division_type_dict = {'2': 'Type 1',\n",
    "                      '1': 'Type 2',\n",
    "                      '0': 'Type 3', \n",
    "                      '-1': 'Type 4',\n",
    "                      '-2': 'Type 5'}\n",
    "\n",
    "division_types = [ division_type_dict[str(df.number_interior.tolist()[i])]\n",
    "                      for i in range(len(df)) ]\n",
    "df['division_type'] = division_types"
   ]
  },
  {
   "cell_type": "code",
   "execution_count": 4,
   "metadata": {},
   "outputs": [
    {
     "name": "stdout",
     "output_type": "stream",
     "text": [
      "Total cell divisions: 289\n",
      "Ratio of 5 types: [0.92387543 0.07612457 0.         0.         0.        ]\n"
     ]
    }
   ],
   "source": [
    "# Get summary stats\n",
    "\n",
    "division_types = []\n",
    "n_division_types = []\n",
    "for key, value in division_type_dict.items():\n",
    "    division_types.append(value)\n",
    "    df_temp = df[df.division_type==value]\n",
    "    n_division_types.append(df_temp.track_id.nunique())\n",
    "\n",
    "N = np.sum(n_division_types)\n",
    "print('Total cell divisions:', N)\n",
    "\n",
    "ratio_division_types = n_division_types / N\n",
    "print('Ratio of 5 types:', ratio_division_types)"
   ]
  },
  {
   "cell_type": "code",
   "execution_count": 5,
   "metadata": {},
   "outputs": [
    {
     "data": {
      "image/png": "[encoded data removed]",
      "text/plain": [
       "<Figure size 300x300 with 1 Axes>"
      ]
     },
     "metadata": {},
     "output_type": "display_data"
    }
   ],
   "source": [
    "# Make pie chart to represent the proportion of the two cases (types)\n",
    "\n",
    "fig_width, fig_height = 1, 1\n",
    "fig_dpi = 300\n",
    "fig = plt.figure(figsize=(fig_width, fig_height), dpi=fig_dpi)\n",
    "ax = fig.add_axes([0.1, 0.1, 0.8, 0.8])\n",
    "\n",
    "# Pie chart, where the slices will be ordered and plotted counter-clockwise:\n",
    "labels = division_types[:2]\n",
    "sizes = ratio_division_types[:2]\n",
    "# explode = (0, 0.1)  # only \"explode\" the 2nd slice\n",
    "explode = [0.05]*len(labels)\n",
    "colors=['0.7', '0.5'] # gray values, the larger the lighter\n",
    "\n",
    "ax.pie(sizes, explode=explode, labels=labels,\n",
    "       autopct='%1.1f%%', colors=colors,\n",
    "       shadow=False, startangle=0)\n",
    "ax.axis('equal')  # Equal aspect ratio ensures that pie is drawn as a circle.\n",
    "\n",
    "# The following removes excessive clipping to facilitate detailing of line widths and colors etc in illustrator\n",
    "for o in fig.findobj():\n",
    "    o.set_clip_on(False)\n",
    "for o in ax.findobj():\n",
    "    o.set_clip_on(False)\n",
    "\n",
    "plt.savefig('../jupyter_figures/control-cell-division-outcome-pie-chart.svg')\n"
   ]
  },
  {
   "cell_type": "code",
   "execution_count": 6,
   "metadata": {},
   "outputs": [
    {
     "data": {
      "text/html": [
       "<div>\n",
       "<style scoped>\n",
       "    .dataframe tbody tr th:only-of-type {\n",
       "        vertical-align: middle;\n",
       "    }\n",
       "\n",
       "    .dataframe tbody tr th {\n",
       "        vertical-align: top;\n",
       "    }\n",
       "\n",
       "    .dataframe thead th {\n",
       "        text-align: right;\n",
       "    }\n",
       "</style>\n",
       "<table border=\"1\" class=\"dataframe\">\n",
       "  <thead>\n",
       "    <tr style=\"text-align: right;\">\n",
       "      <th></th>\n",
       "      <th>track_name</th>\n",
       "      <th>track_id</th>\n",
       "      <th>spot_id</th>\n",
       "      <th>x</th>\n",
       "      <th>y</th>\n",
       "      <th>z</th>\n",
       "      <th>t</th>\n",
       "    </tr>\n",
       "  </thead>\n",
       "  <tbody>\n",
       "    <tr>\n",
       "      <th>0</th>\n",
       "      <td>0in1ex</td>\n",
       "      <td>210124_SMG1_1</td>\n",
       "      <td>852</td>\n",
       "      <td>74.090010</td>\n",
       "      <td>149.936688</td>\n",
       "      <td>42.0</td>\n",
       "      <td>153</td>\n",
       "    </tr>\n",
       "    <tr>\n",
       "      <th>1</th>\n",
       "      <td>0in1ex</td>\n",
       "      <td>210124_SMG1_1</td>\n",
       "      <td>858</td>\n",
       "      <td>74.296677</td>\n",
       "      <td>153.036688</td>\n",
       "      <td>42.0</td>\n",
       "      <td>152</td>\n",
       "    </tr>\n",
       "    <tr>\n",
       "      <th>2</th>\n",
       "      <td>0in1ex</td>\n",
       "      <td>210124_SMG1_4</td>\n",
       "      <td>880</td>\n",
       "      <td>51.976674</td>\n",
       "      <td>214.623363</td>\n",
       "      <td>40.0</td>\n",
       "      <td>213</td>\n",
       "    </tr>\n",
       "    <tr>\n",
       "      <th>3</th>\n",
       "      <td>0in1ex</td>\n",
       "      <td>210124_SMG1_4</td>\n",
       "      <td>883</td>\n",
       "      <td>57.350008</td>\n",
       "      <td>215.243363</td>\n",
       "      <td>40.0</td>\n",
       "      <td>212</td>\n",
       "    </tr>\n",
       "    <tr>\n",
       "      <th>4</th>\n",
       "      <td>0in1ex</td>\n",
       "      <td>210124_SMG1_8</td>\n",
       "      <td>921</td>\n",
       "      <td>271.663371</td>\n",
       "      <td>161.303356</td>\n",
       "      <td>56.0</td>\n",
       "      <td>171</td>\n",
       "    </tr>\n",
       "  </tbody>\n",
       "</table>\n",
       "</div>"
      ],
      "text/plain": [
       "  track_name       track_id  spot_id           x           y     z    t\n",
       "0     0in1ex  210124_SMG1_1      852   74.090010  149.936688  42.0  153\n",
       "1     0in1ex  210124_SMG1_1      858   74.296677  153.036688  42.0  152\n",
       "2     0in1ex  210124_SMG1_4      880   51.976674  214.623363  40.0  213\n",
       "3     0in1ex  210124_SMG1_4      883   57.350008  215.243363  40.0  212\n",
       "4     0in1ex  210124_SMG1_8      921  271.663371  161.303356  56.0  171"
      ]
     },
     "execution_count": 6,
     "metadata": {},
     "output_type": "execute_result"
    }
   ],
   "source": [
    "# Combine 3 datasets of collagenase treated SMGs\n",
    "\n",
    "df1 = pd.read_csv('../data/cell-division-tracking-data/20210124-K14RhisG-2p-collagenase-SMG1-track-info.csv')\n",
    "df1.track_id = ['210124_SMG1_' + str(track_id) for track_id in df1.track_id]\n",
    "df2 = pd.read_csv('../data/cell-division-tracking-data/20210124-K14RhisG-2p-collagenase-SMG2-track-info.csv')\n",
    "df2.track_id = ['210124_SMG2_' + str(track_id) for track_id in df2.track_id]\n",
    "df3 = pd.read_csv('../data/cell-division-tracking-data/20210124-K14RhisG-2p-collagenase-SMG3-track-info.csv')\n",
    "df3.track_id = ['210124_SMG3_' + str(track_id) for track_id in df3.track_id]\n",
    "\n",
    "df = pd.concat([df1, df2, df3])\n",
    "df.head()"
   ]
  },
  {
   "cell_type": "code",
   "execution_count": 7,
   "metadata": {},
   "outputs": [
    {
     "data": {
      "text/plain": [
       "<AxesSubplot:xlabel='track_name', ylabel='t'>"
      ]
     },
     "execution_count": 7,
     "metadata": {},
     "output_type": "execute_result"
    },
    {
     "data": {
      "image/png": "[encoded data removed]",
      "text/plain": [
       "<Figure size 432x288 with 1 Axes>"
      ]
     },
     "metadata": {
      "needs_background": "light"
     },
     "output_type": "display_data"
    }
   ],
   "source": [
    "sns.swarmplot(df.track_name, df.t)"
   ]
  },
  {
   "cell_type": "code",
   "execution_count": 8,
   "metadata": {},
   "outputs": [
    {
     "data": {
      "text/plain": [
       "66"
      ]
     },
     "execution_count": 8,
     "metadata": {},
     "output_type": "execute_result"
    }
   ],
   "source": [
    "df.t.min()"
   ]
  },
  {
   "cell_type": "code",
   "execution_count": 9,
   "metadata": {},
   "outputs": [],
   "source": [
    "# The track_name column contains the scored information of cell division types\n",
    "# As the name indicates, '2in0ex' means 2 interior daughters,\n",
    "# '0in2ex' means 2 extruded daughters etc.\n",
    "\n",
    "division_type_dict = {'2in0ex': 'Type 1',\n",
    "                      '1in0ex': 'Type 2',\n",
    "                      '0in0ex': 'Type 3', \n",
    "                      '0in1ex': 'Type 4',\n",
    "                      '0in2ex': 'Type 5'}\n",
    "\n",
    "division_types = [ division_type_dict[df.track_name.tolist()[i]]\n",
    "                      for i in range(len(df)) ]\n",
    "df['division_type'] = division_types"
   ]
  },
  {
   "cell_type": "code",
   "execution_count": 10,
   "metadata": {},
   "outputs": [
    {
     "name": "stdout",
     "output_type": "stream",
     "text": [
      "Total cell divisions: 130\n",
      "Ratio of 5 types: [0.43846154 0.28461538 0.03846154 0.13846154 0.1       ]\n"
     ]
    }
   ],
   "source": [
    "# Get summary stats\n",
    "\n",
    "division_types = []\n",
    "n_division_types = []\n",
    "for key, value in division_type_dict.items():\n",
    "    division_types.append(value)\n",
    "    df_temp = df[df.division_type==value]\n",
    "    n_division_types.append(df_temp.track_id.nunique())\n",
    "\n",
    "N = np.sum(n_division_types)\n",
    "print('Total cell divisions:', N)\n",
    "\n",
    "ratio_division_types = n_division_types / N\n",
    "print('Ratio of 5 types:', ratio_division_types)"
   ]
  },
  {
   "cell_type": "code",
   "execution_count": 11,
   "metadata": {},
   "outputs": [
    {
     "data": {
      "image/png": "[encoded data removed]",
      "text/plain": [
       "<Figure size 300x300 with 1 Axes>"
      ]
     },
     "metadata": {},
     "output_type": "display_data"
    }
   ],
   "source": [
    "# Make pie chart to represent the proportion of the two cases (types)\n",
    "\n",
    "fig_width, fig_height = 1, 1\n",
    "fig_dpi = 300\n",
    "fig = plt.figure(figsize=(fig_width, fig_height), dpi=fig_dpi)\n",
    "ax = fig.add_axes([0.1, 0.1, 0.8, 0.8])\n",
    "\n",
    "# Pie chart, where the slices will be ordered and plotted counter-clockwise:\n",
    "labels = division_types\n",
    "sizes = ratio_division_types\n",
    "# explode = (0.1, 0.1, 0.1, 0.1, 0.1)\n",
    "explode = [0.03]*5\n",
    "colors=['0.8', '0.7', '0.6']\n",
    "\n",
    "ax.pie(sizes, explode=explode,\n",
    "       labels=labels, colors=colors,\n",
    "#        autopct='%1.1f%%',\n",
    "       shadow=False, startangle=0)\n",
    "ax.axis('equal')  # Equal aspect ratio ensures that pie is drawn as a circle.\n",
    "\n",
    "# The following removes excessive clipping to facilitate detailing of line widths and colors etc in illustrator\n",
    "for o in fig.findobj():\n",
    "    o.set_clip_on(False)\n",
    "for o in ax.findobj():\n",
    "    o.set_clip_on(False)\n",
    "\n",
    "plt.savefig('../jupyter_figures/collagenase-cell-division-outcome-pie-chart.svg')\n"
   ]
  },
  {
   "cell_type": "code",
   "execution_count": 12,
   "metadata": {},
   "outputs": [
    {
     "data": {
      "image/png": "[encoded data removed]",
      "text/plain": [
       "<Figure size 120x360 with 1 Axes>"
      ]
     },
     "metadata": {
      "needs_background": "light"
     },
     "output_type": "display_data"
    }
   ],
   "source": [
    "# stacked bar\n",
    "# [0.43846154 0.28461538 0.03846154 0.13846154 0.1       ]\n",
    "labels = ['control', 'collagenase']\n",
    "type1 = [92.4, 43.84]\n",
    "type2 = [7.6, 28.46]\n",
    "type3 = [0, 3.85]\n",
    "type4 = [0, 13.85]\n",
    "type5 = [0, 10]\n",
    "\n",
    "bottom1 = type1\n",
    "bottom2 = [type1[i]+type2[i] for i in range(len(type1))]\n",
    "bottom3 = [type1[i]+type2[i]+type3[i] for i in range(len(type1))]\n",
    "bottom4 = [type1[i]+type2[i]+type3[i]+type4[i] for i in range(len(type1))]\n",
    "\n",
    "fig_width, fig_height = .4, 1.2\n",
    "fig_dpi = 300\n",
    "fig = plt.figure(figsize=(fig_width, fig_height), dpi=fig_dpi)\n",
    "ax = fig.add_axes([0.1, 0.1, 0.8, 0.8])\n",
    "\n",
    "# change bar width\n",
    "width = 0.5\n",
    "\n",
    "ax.bar(labels, type1, width,\n",
    "       color = 'blue', alpha=1,\n",
    "       label='Type 1')\n",
    "\n",
    "ax.bar(labels, type2, width,\n",
    "#        color = '.7',\n",
    "       color = 'blue', alpha=.2,\n",
    "       bottom=bottom1, label='Type 2')\n",
    "\n",
    "ax.bar(labels, type3, width,\n",
    "       color = 'black',\n",
    "#        color = '.7',\n",
    "       bottom=bottom2, label='Type 3')\n",
    "\n",
    "ax.bar(labels, type4, width,\n",
    "#        color = '.7',\n",
    "       color = 'red', alpha=.2,\n",
    "       bottom=bottom3, label='Type 4')\n",
    "\n",
    "ax.bar(labels, type5, width,\n",
    "       color = 'red', alpha=1,\n",
    "       bottom=bottom4, label='Type 5')\n",
    "\n",
    "# rotate x tick labels if necessary\n",
    "# x_labels = ax.get_xticklabels()\n",
    "x_labels = ['control', 'collagenase']\n",
    "ax.set_xticklabels(labels=x_labels, rotation=30, ha=\"right\")\n",
    "\n",
    "# custome y label\n",
    "plt.ylabel(\"% Surface-derived\\ndivision types\")\n",
    "\n",
    "for o in fig.findobj():\n",
    "    o.set_clip_on(False)\n",
    "for o in ax.findobj():\n",
    "    o.set_clip_on(False)\n",
    "\n",
    "outputFigPath = '../jupyter_figures/surface-division-types-control-collagenase-stacked-bar.svg'\n",
    "plt.savefig(outputFigPath)\n"
   ]
  },
  {
   "cell_type": "code",
   "execution_count": 13,
   "metadata": {},
   "outputs": [],
   "source": [
    "# single-cell culture\n",
    "#\n",
    "# Each file is from one data set with a track_id column and an interior_number column,\n",
    "# which use number \"1\", \"2\" or \"0\" to indicate all three possible cell division outcomes\n",
    "\n",
    "df = pd.read_csv('../data/cell-division-tracking-data/210201-mT-2p-2_single-cell-1d-mT.csv')\n",
    "df.columns = ['track_id', 'number_interior']"
   ]
  },
  {
   "cell_type": "code",
   "execution_count": 14,
   "metadata": {},
   "outputs": [
    {
     "data": {
      "text/html": [
       "<div>\n",
       "<style scoped>\n",
       "    .dataframe tbody tr th:only-of-type {\n",
       "        vertical-align: middle;\n",
       "    }\n",
       "\n",
       "    .dataframe tbody tr th {\n",
       "        vertical-align: top;\n",
       "    }\n",
       "\n",
       "    .dataframe thead th {\n",
       "        text-align: right;\n",
       "    }\n",
       "</style>\n",
       "<table border=\"1\" class=\"dataframe\">\n",
       "  <thead>\n",
       "    <tr style=\"text-align: right;\">\n",
       "      <th></th>\n",
       "      <th>track_id</th>\n",
       "      <th>number_interior</th>\n",
       "    </tr>\n",
       "  </thead>\n",
       "  <tbody>\n",
       "    <tr>\n",
       "      <th>0</th>\n",
       "      <td>0</td>\n",
       "      <td>1</td>\n",
       "    </tr>\n",
       "    <tr>\n",
       "      <th>1</th>\n",
       "      <td>1</td>\n",
       "      <td>2</td>\n",
       "    </tr>\n",
       "    <tr>\n",
       "      <th>2</th>\n",
       "      <td>2</td>\n",
       "      <td>1</td>\n",
       "    </tr>\n",
       "    <tr>\n",
       "      <th>3</th>\n",
       "      <td>3</td>\n",
       "      <td>2</td>\n",
       "    </tr>\n",
       "    <tr>\n",
       "      <th>4</th>\n",
       "      <td>4</td>\n",
       "      <td>2</td>\n",
       "    </tr>\n",
       "  </tbody>\n",
       "</table>\n",
       "</div>"
      ],
      "text/plain": [
       "   track_id  number_interior\n",
       "0         0                1\n",
       "1         1                2\n",
       "2         2                1\n",
       "3         3                2\n",
       "4         4                2"
      ]
     },
     "execution_count": 14,
     "metadata": {},
     "output_type": "execute_result"
    }
   ],
   "source": [
    "df.head()"
   ]
  },
  {
   "cell_type": "code",
   "execution_count": 15,
   "metadata": {},
   "outputs": [],
   "source": [
    "# Annotate cell division types based on the number of interior daughter cells\n",
    "#\n",
    "# Type 1: 2 interior daughters\n",
    "# Type 2: 1 interior, 1 surface daughter\n",
    "# Type 3: 2 surface daughter\n",
    "# Type 4: 1 surface daughter, 1 extruded\n",
    "# Type 5: 2 extruded\n",
    "#\n",
    "# Note: we use negative numbers here to represent the number of daughters extruded\n",
    "# outward at anaphase onset. Only observed when basement membrane is disrupted.\n",
    "#\n",
    "division_type_dict = {'2': 'Type 1',\n",
    "                      '1': 'Type 2',\n",
    "                      '0': 'Type 3', \n",
    "                      '-1': 'Type 4',\n",
    "                      '-2': 'Type 5'}\n",
    "\n",
    "division_types = [ division_type_dict[str(df.number_interior.tolist()[i])]\n",
    "                      for i in range(len(df)) ]\n",
    "df['division_type'] = division_types"
   ]
  },
  {
   "cell_type": "code",
   "execution_count": 16,
   "metadata": {},
   "outputs": [
    {
     "name": "stdout",
     "output_type": "stream",
     "text": [
      "Total cell divisions: 23\n",
      "Ratio of 5 types: [0.56521739 0.43478261 0.         0.         0.        ]\n"
     ]
    }
   ],
   "source": [
    "# Get summary stats\n",
    "\n",
    "division_types = []\n",
    "n_division_types = []\n",
    "for key, value in division_type_dict.items():\n",
    "    division_types.append(value)\n",
    "    df_temp = df[df.division_type==value]\n",
    "    n_division_types.append(df_temp.track_id.nunique())\n",
    "\n",
    "N = np.sum(n_division_types)\n",
    "print('Total cell divisions:', N)\n",
    "\n",
    "ratio_division_types = n_division_types / N\n",
    "print('Ratio of 5 types:', ratio_division_types)\n"
   ]
  },
  {
   "cell_type": "code",
   "execution_count": 17,
   "metadata": {},
   "outputs": [],
   "source": [
    "# single-bud culture\n",
    "#\n",
    "# Each file is from one data set with a track_id column and an interior_number column,\n",
    "# which use number \"1\", \"2\" or \"0\" to indicate all three possible cell division outcomes\n",
    "\n",
    "df = pd.read_csv('../data/cell-division-tracking-data/210201-mT-2p-3_single-bud-0d-mT.csv')\n",
    "df.columns = ['track_id', 'number_interior']"
   ]
  },
  {
   "cell_type": "code",
   "execution_count": 18,
   "metadata": {},
   "outputs": [],
   "source": [
    "# Annotate cell division types based on the number of interior daughter cells\n",
    "#\n",
    "# Type 1: 2 interior daughters\n",
    "# Type 2: 1 interior, 1 surface daughter\n",
    "# Type 3: 2 surface daughter\n",
    "# Type 4: 1 surface daughter, 1 extruded\n",
    "# Type 5: 2 extruded\n",
    "#\n",
    "# Note: we use negative numbers here to represent the number of daughters extruded\n",
    "# outward at anaphase onset. Only observed when basement membrane is disrupted.\n",
    "#\n",
    "division_type_dict = {'2': 'Type 1',\n",
    "                      '1': 'Type 2',\n",
    "                      '0': 'Type 3', \n",
    "                      '-1': 'Type 4',\n",
    "                      '-2': 'Type 5'}\n",
    "\n",
    "division_types = [ division_type_dict[str(df.number_interior.tolist()[i])]\n",
    "                      for i in range(len(df)) ]\n",
    "df['division_type'] = division_types"
   ]
  },
  {
   "cell_type": "code",
   "execution_count": 19,
   "metadata": {},
   "outputs": [
    {
     "name": "stdout",
     "output_type": "stream",
     "text": [
      "Total cell divisions: 24\n",
      "Ratio of 5 types: [0.70833333 0.29166667 0.         0.         0.        ]\n"
     ]
    }
   ],
   "source": [
    "# Get summary stats\n",
    "\n",
    "division_types = []\n",
    "n_division_types = []\n",
    "for key, value in division_type_dict.items():\n",
    "    division_types.append(value)\n",
    "    df_temp = df[df.division_type==value]\n",
    "    n_division_types.append(df_temp.track_id.nunique())\n",
    "\n",
    "N = np.sum(n_division_types)\n",
    "print('Total cell divisions:', N)\n",
    "\n",
    "ratio_division_types = n_division_types / N\n",
    "print('Ratio of 5 types:', ratio_division_types)\n"
   ]
  },
  {
   "cell_type": "code",
   "execution_count": 24,
   "metadata": {},
   "outputs": [
    {
     "data": {
      "image/png": "[encoded data removed]",
      "text/plain": [
       "<Figure size 150x240 with 1 Axes>"
      ]
     },
     "metadata": {
      "needs_background": "light"
     },
     "output_type": "display_data"
    }
   ],
   "source": [
    "# stacked bar\n",
    "\n",
    "labels = ['intact culture', 'single bud', 'single cell']\n",
    "type1 = [92.4, 70.8, 56.5]\n",
    "type2 = [7.6, 29.2, 43.5]\n",
    "\n",
    "fig_width, fig_height = .5, .8\n",
    "fig_dpi = 300\n",
    "fig = plt.figure(figsize=(fig_width, fig_height), dpi=fig_dpi)\n",
    "ax = fig.add_axes([0.1, 0.1, 0.8, 0.8])\n",
    "\n",
    "# change bar width\n",
    "width = 0.5\n",
    "\n",
    "ax.bar(labels, type1, width,\n",
    "       color = 'blue', alpha=1,\n",
    "       label='Type 1')\n",
    "ax.bar(labels, type2, width,\n",
    "#        color = '.7',\n",
    "       color = 'blue', alpha=.2,\n",
    "       bottom=type1, label='Type 2')\n",
    "\n",
    "# rotate x tick labels if necessary\n",
    "# x_labels = ax.get_xticklabels()\n",
    "x_labels = ['Intact culture', 'Single bud', 'Single cell']\n",
    "ax.set_xticklabels(labels=x_labels, rotation=45, ha=\"right\")\n",
    "\n",
    "# custome y label\n",
    "plt.ylabel(\"% Surface-derived\\ncell division types\")\n",
    "\n",
    "for o in fig.findobj():\n",
    "    o.set_clip_on(False)\n",
    "for o in ax.findobj():\n",
    "    o.set_clip_on(False)\n",
    "\n",
    "outputFigPath = '../jupyter_figures/surface-division-types-intact-culture-single-bud-single-cell-stacked-bar.svg'\n",
    "plt.savefig(outputFigPath)\n"
   ]
  },
  {
   "cell_type": "code",
   "execution_count": null,
   "metadata": {},
   "outputs": [],
   "source": []
  }
 ],
 "metadata": {
  "kernelspec": {
   "display_name": "Python 3",
   "language": "python",
   "name": "python3"
  },
  "language_info": {
   "codemirror_mode": {
    "name": "ipython",
    "version": 3
   },
   "file_extension": ".py",
   "mimetype": "text/x-python",
   "name": "python",
   "nbconvert_exporter": "python",
   "pygments_lexer": "ipython3",
   "version": "3.7.10"
  }
 },
 "nbformat": 4,
 "nbformat_minor": 4
}
