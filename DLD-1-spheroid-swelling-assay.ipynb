{
 "cells": [
  {
   "cell_type": "code",
   "execution_count": 6,
   "metadata": {},
   "outputs": [
    {
     "name": "stdout",
     "output_type": "stream",
     "text": [
      "mkdir: ../jupyter_figures: File exists\n",
      "mkdir: ../data_cleaned: File exists\n"
     ]
    }
   ],
   "source": [
    "import sys, os, glob\n",
    "import numpy as np\n",
    "import pandas as pd\n",
    "import matplotlib\n",
    "import matplotlib.pyplot as plt\n",
    "import seaborn as sns\n",
    "import logging\n",
    "from scipy.interpolate import UnivariateSpline, interp1d\n",
    "from statsmodels.stats.multicomp import pairwise_tukeyhsd, MultiComparison\n",
    "from statsmodels.stats.libqsturng import psturng\n",
    "import scipy.stats as stats\n",
    "\n",
    "# logging.basicConfig(stream=sys.stdout, format='%(asctime)s - %(levelname)s - %(message)s', level=logging.DEBUG)\n",
    "logging.basicConfig(stream=sys.stdout, format='%(asctime)s - %(levelname)s - %(message)s', level=logging.INFO)\n",
    "\n",
    "%matplotlib inline\n",
    "font = {'family' : 'Arial',\n",
    "        'size'   : 7}\n",
    "matplotlib.rc('font', **font)\n",
    "plt.rcParams['svg.fonttype'] = 'none'\n",
    "\n",
    "# Make a folder if it is not already there to store exported figures\n",
    "!mkdir ../jupyter_figures\n",
    "\n",
    "# Make a folder to store cleaned up data frames for more advanced statistical analysis in R.\n",
    "# This is only necessary because exact p values were required by the journal, whereas the\n",
    "# psturng in statsmodels.stats.libqsturng was bound by 0.001 and 0.9.\n",
    "# Practically, nobody really cares about exact p values when p < 0.001 and p > 0.9, but got to get it when asked.\n",
    "!mkdir ../data_cleaned\n"
   ]
  },
  {
   "cell_type": "code",
   "execution_count": 2,
   "metadata": {},
   "outputs": [
    {
     "data": {
      "text/html": [
       "<div>\n",
       "<style scoped>\n",
       "    .dataframe tbody tr th:only-of-type {\n",
       "        vertical-align: middle;\n",
       "    }\n",
       "\n",
       "    .dataframe tbody tr th {\n",
       "        vertical-align: top;\n",
       "    }\n",
       "\n",
       "    .dataframe thead th {\n",
       "        text-align: right;\n",
       "    }\n",
       "</style>\n",
       "<table border=\"1\" class=\"dataframe\">\n",
       "  <thead>\n",
       "    <tr style=\"text-align: right;\">\n",
       "      <th></th>\n",
       "      <th>frame_number</th>\n",
       "      <th>area</th>\n",
       "    </tr>\n",
       "  </thead>\n",
       "  <tbody>\n",
       "    <tr>\n",
       "      <th>0</th>\n",
       "      <td>1</td>\n",
       "      <td>241516.228</td>\n",
       "    </tr>\n",
       "    <tr>\n",
       "      <th>1</th>\n",
       "      <td>2</td>\n",
       "      <td>242165.108</td>\n",
       "    </tr>\n",
       "    <tr>\n",
       "      <th>2</th>\n",
       "      <td>3</td>\n",
       "      <td>242653.313</td>\n",
       "    </tr>\n",
       "    <tr>\n",
       "      <th>3</th>\n",
       "      <td>4</td>\n",
       "      <td>242718.201</td>\n",
       "    </tr>\n",
       "    <tr>\n",
       "      <th>4</th>\n",
       "      <td>5</td>\n",
       "      <td>1240706.460</td>\n",
       "    </tr>\n",
       "    <tr>\n",
       "      <th>...</th>\n",
       "      <td>...</td>\n",
       "      <td>...</td>\n",
       "    </tr>\n",
       "    <tr>\n",
       "      <th>175</th>\n",
       "      <td>176</td>\n",
       "      <td>278880.901</td>\n",
       "    </tr>\n",
       "    <tr>\n",
       "      <th>176</th>\n",
       "      <td>177</td>\n",
       "      <td>278744.946</td>\n",
       "    </tr>\n",
       "    <tr>\n",
       "      <th>177</th>\n",
       "      <td>178</td>\n",
       "      <td>278659.973</td>\n",
       "    </tr>\n",
       "    <tr>\n",
       "      <th>178</th>\n",
       "      <td>179</td>\n",
       "      <td>279072.475</td>\n",
       "    </tr>\n",
       "    <tr>\n",
       "      <th>179</th>\n",
       "      <td>180</td>\n",
       "      <td>279174.442</td>\n",
       "    </tr>\n",
       "  </tbody>\n",
       "</table>\n",
       "<p>180 rows × 2 columns</p>\n",
       "</div>"
      ],
      "text/plain": [
       "     frame_number         area\n",
       "0               1   241516.228\n",
       "1               2   242165.108\n",
       "2               3   242653.313\n",
       "3               4   242718.201\n",
       "4               5  1240706.460\n",
       "..            ...          ...\n",
       "175           176   278880.901\n",
       "176           177   278744.946\n",
       "177           178   278659.973\n",
       "178           179   279072.475\n",
       "179           180   279174.442\n",
       "\n",
       "[180 rows x 2 columns]"
      ]
     },
     "execution_count": 2,
     "metadata": {},
     "output_type": "execute_result"
    }
   ],
   "source": [
    "df = pd.read_csv('../data/20200922-swelling-assay/20200922-swelling-assay-001-1_MG-area.txt')\n",
    "df = pd.read_csv('../data/20200922-swelling-assay/20200922-swelling-assay-001-6_LMN-area.txt')\n",
    "df"
   ]
  },
  {
   "cell_type": "code",
   "execution_count": 59,
   "metadata": {},
   "outputs": [
    {
     "data": {
      "text/plain": [
       "(0.8, 0.9)"
      ]
     },
     "execution_count": 59,
     "metadata": {},
     "output_type": "execute_result"
    },
    {
     "data": {
      "image/png": "[encoded data removed]",
      "text/plain": [
       "<Figure size 432x288 with 1 Axes>"
      ]
     },
     "metadata": {
      "needs_background": "light"
     },
     "output_type": "display_data"
    }
   ],
   "source": [
    "# df = pd.read_csv('../data/20200922-swelling-assay/20200922-swelling-assay-001-2_MG-area.txt')\n",
    "# df = pd.read_csv('../data/20200922-swelling-assay/20200922-swelling-assay-001-1_MG-area.txt')\n",
    "df = pd.read_csv('../data/20200922-swelling-assay/20200922-swelling-assay-001-6_LMN-area.txt')\n",
    "ax = sns.scatterplot(df.frame_number, (df.area/df.area[len(df)-1]))\n",
    "ax.set_xlim([0,25])\n",
    "ax.set_ylim([0.8,0.9])\n"
   ]
  },
  {
   "cell_type": "code",
   "execution_count": 50,
   "metadata": {},
   "outputs": [
    {
     "data": {
      "text/plain": [
       "(0.8, 0.9)"
      ]
     },
     "execution_count": 50,
     "metadata": {},
     "output_type": "execute_result"
    },
    {
     "data": {
      "image/png": "[encoded data removed]",
      "text/plain": [
       "<Figure size 432x288 with 1 Axes>"
      ]
     },
     "metadata": {
      "needs_background": "light"
     },
     "output_type": "display_data"
    }
   ],
   "source": [
    "df = pd.read_csv('../data/20200922-swelling-assay/20200922-swelling-assay-001-3_MG-area.txt')\n",
    "ax = sns.scatterplot(df.frame_number, (df.area/df.area[len(df)-1]))\n",
    "ax.set_xlim([0,25])\n",
    "ax.set_ylim([0.8,0.9])\n"
   ]
  },
  {
   "cell_type": "code",
   "execution_count": 49,
   "metadata": {},
   "outputs": [
    {
     "data": {
      "text/plain": [
       "(0.8, 0.9)"
      ]
     },
     "execution_count": 49,
     "metadata": {},
     "output_type": "execute_result"
    },
    {
     "data": {
      "image/png": "[encoded data removed]",
      "text/plain": [
       "<Figure size 432x288 with 1 Axes>"
      ]
     },
     "metadata": {
      "needs_background": "light"
     },
     "output_type": "display_data"
    }
   ],
   "source": [
    "df = pd.read_csv('../data/20200922-swelling-assay/20200922-swelling-assay-002-1_MG-area.txt')\n",
    "\n",
    "ax = sns.scatterplot(df.frame_number, (df.area/df.area[len(df)-1]))\n",
    "ax.set_xlim([0,25])\n",
    "ax.set_ylim([0.8,0.9])\n"
   ]
  },
  {
   "cell_type": "code",
   "execution_count": 48,
   "metadata": {},
   "outputs": [
    {
     "data": {
      "text/plain": [
       "(0.8, 0.9)"
      ]
     },
     "execution_count": 48,
     "metadata": {},
     "output_type": "execute_result"
    },
    {
     "data": {
      "image/png": "[encoded data removed]",
      "text/plain": [
       "<Figure size 432x288 with 1 Axes>"
      ]
     },
     "metadata": {
      "needs_background": "light"
     },
     "output_type": "display_data"
    }
   ],
   "source": [
    "df = pd.read_csv('../data/20200922-swelling-assay/20200922-swelling-assay-002-1_MG-area.txt')\n",
    "ax = sns.scatterplot(df.frame_number, (df.area/df.area[len(df)-1]))\n",
    "ax.set_xlim([0,25])\n",
    "ax.set_ylim([0.8,0.9])\n"
   ]
  },
  {
   "cell_type": "code",
   "execution_count": 47,
   "metadata": {},
   "outputs": [
    {
     "data": {
      "text/plain": [
       "(0.8, 0.9)"
      ]
     },
     "execution_count": 47,
     "metadata": {},
     "output_type": "execute_result"
    },
    {
     "data": {
      "image/png": "[encoded data removed]",
      "text/plain": [
       "<Figure size 432x288 with 1 Axes>"
      ]
     },
     "metadata": {
      "needs_background": "light"
     },
     "output_type": "display_data"
    }
   ],
   "source": [
    "df = pd.read_csv('../data/20200922-swelling-assay/20200922-swelling-assay-002-2_MG-area.txt')\n",
    "ax = sns.scatterplot(df.frame_number, (df.area/df.area[len(df)-1]))\n",
    "ax.set_xlim([0,25])\n",
    "ax.set_ylim([0.8,0.9])\n"
   ]
  },
  {
   "cell_type": "code",
   "execution_count": 61,
   "metadata": {},
   "outputs": [
    {
     "data": {
      "image/png": "[encoded data removed]",
      "text/plain": [
       "<Figure size 432x288 with 1 Axes>"
      ]
     },
     "metadata": {
      "needs_background": "light"
     },
     "output_type": "display_data"
    }
   ],
   "source": [
    "df = pd.read_csv('../data/20200922-swelling-assay/20200922-swelling-assay-002-3_MG-area.txt')\n",
    "ax = sns.scatterplot(df.frame_number, (df.area/df.area[len(df)-1]))\n",
    "# ax.set_xlim([0,25])\n",
    "# ax.set_ylim([0.8,0.9])\n"
   ]
  },
  {
   "cell_type": "code",
   "execution_count": 53,
   "metadata": {},
   "outputs": [
    {
     "data": {
      "text/plain": [
       "(0.8, 0.9)"
      ]
     },
     "execution_count": 53,
     "metadata": {},
     "output_type": "execute_result"
    },
    {
     "data": {
      "image/png": "[encoded data removed]",
      "text/plain": [
       "<Figure size 432x288 with 1 Axes>"
      ]
     },
     "metadata": {
      "needs_background": "light"
     },
     "output_type": "display_data"
    }
   ],
   "source": [
    "df = pd.read_csv('../data/20200922-swelling-assay/20200922-swelling-assay-002-6_LMN-area.txt')\n",
    "ax = sns.scatterplot(df.frame_number, (df.area/df.area[len(df)-1]))\n",
    "ax.set_xlim([0,25])\n",
    "ax.set_ylim([0.8,0.9])\n"
   ]
  },
  {
   "cell_type": "code",
   "execution_count": 60,
   "metadata": {},
   "outputs": [
    {
     "data": {
      "image/png": "[encoded data removed]",
      "text/plain": [
       "<Figure size 432x288 with 1 Axes>"
      ]
     },
     "metadata": {
      "needs_background": "light"
     },
     "output_type": "display_data"
    }
   ],
   "source": [
    "df = pd.read_csv('../data/20200922-swelling-assay/20200922-swelling-assay-002-5_LMN-area.txt')\n",
    "ax = sns.scatterplot(df.frame_number, (df.area/df.area[len(df)-1]))\n",
    "# ax.set_xlim([0,25])\n",
    "# ax.set_ylim([0.8,0.9])\n"
   ]
  },
  {
   "cell_type": "code",
   "execution_count": 55,
   "metadata": {},
   "outputs": [
    {
     "data": {
      "text/plain": [
       "(0.8, 0.9)"
      ]
     },
     "execution_count": 55,
     "metadata": {},
     "output_type": "execute_result"
    },
    {
     "data": {
      "image/png": "[encoded data removed]",
      "text/plain": [
       "<Figure size 432x288 with 1 Axes>"
      ]
     },
     "metadata": {
      "needs_background": "light"
     },
     "output_type": "display_data"
    }
   ],
   "source": [
    "df = pd.read_csv('../data/20200922-swelling-assay/20200922-swelling-assay-002-4_LMN-area.txt')\n",
    "ax = sns.scatterplot(df.frame_number, (df.area/df.area[len(df)-1]))\n",
    "ax.set_xlim([0,25])\n",
    "ax.set_ylim([0.8,0.9])\n"
   ]
  },
  {
   "cell_type": "code",
   "execution_count": 56,
   "metadata": {},
   "outputs": [
    {
     "data": {
      "text/plain": [
       "(0.8, 0.9)"
      ]
     },
     "execution_count": 56,
     "metadata": {},
     "output_type": "execute_result"
    },
    {
     "data": {
      "image/png": "[encoded data removed]",
      "text/plain": [
       "<Figure size 432x288 with 1 Axes>"
      ]
     },
     "metadata": {
      "needs_background": "light"
     },
     "output_type": "display_data"
    }
   ],
   "source": [
    "df = pd.read_csv('../data/20200922-swelling-assay/20200922-swelling-assay-001-5_LMN-area.txt')\n",
    "ax = sns.scatterplot(df.frame_number, (df.area/df.area[len(df)-1]))\n",
    "ax.set_xlim([0,25])\n",
    "ax.set_ylim([0.8,0.9])\n"
   ]
  },
  {
   "cell_type": "code",
   "execution_count": 57,
   "metadata": {},
   "outputs": [
    {
     "data": {
      "text/plain": [
       "(0.8, 0.9)"
      ]
     },
     "execution_count": 57,
     "metadata": {},
     "output_type": "execute_result"
    },
    {
     "data": {
      "image/png": "[encoded data removed]",
      "text/plain": [
       "<Figure size 432x288 with 1 Axes>"
      ]
     },
     "metadata": {
      "needs_background": "light"
     },
     "output_type": "display_data"
    }
   ],
   "source": [
    "df = pd.read_csv('../data/20200922-swelling-assay/20200922-swelling-assay-001-6_LMN-area.txt')\n",
    "ax = sns.scatterplot(df.frame_number, (df.area/df.area[len(df)-1]))\n",
    "ax.set_xlim([0,25])\n",
    "ax.set_ylim([0.8,0.9])\n"
   ]
  },
  {
   "cell_type": "code",
   "execution_count": 46,
   "metadata": {},
   "outputs": [
    {
     "data": {
      "text/plain": [
       "(0.8, 1.0)"
      ]
     },
     "execution_count": 46,
     "metadata": {},
     "output_type": "execute_result"
    },
    {
     "data": {
      "image/png": "[encoded data removed]",
      "text/plain": [
       "<Figure size 432x288 with 1 Axes>"
      ]
     },
     "metadata": {
      "needs_background": "light"
     },
     "output_type": "display_data"
    }
   ],
   "source": [
    "df = pd.read_csv('../data/20200922-swelling-assay/20200922-swelling-assay-003-1_2MG-1LMN-area.txt')\n",
    "ax = sns.scatterplot(df.frame_number, (df.area/df.area[len(df)-1]))\n",
    "ax.set_xlim([0,25])\n",
    "ax.set_ylim([0.8,1])\n"
   ]
  },
  {
   "cell_type": "code",
   "execution_count": 64,
   "metadata": {},
   "outputs": [
    {
     "data": {
      "text/plain": [
       "(0.0, 0.36)"
      ]
     },
     "execution_count": 64,
     "metadata": {},
     "output_type": "execute_result"
    },
    {
     "data": {
      "image/png": "[encoded data removed]",
      "text/plain": [
       "<Figure size 432x288 with 1 Axes>"
      ]
     },
     "metadata": {
      "needs_background": "light"
     },
     "output_type": "display_data"
    }
   ],
   "source": [
    "df = pd.read_csv('../data/20200922-swelling-assay/20200922-swelling-assay-003-3_2MG-1LMN-area.txt')\n",
    "ax = sns.scatterplot(df.frame_number, (df.area-df.area[0])/df.area[0])\n",
    "# ax = sns.scatterplot(df.frame_number, df5.area)\n",
    "# ax.set_xlim([0,50])\n",
    "ax.set_ylim([0,0.36])"
   ]
  },
  {
   "cell_type": "code",
   "execution_count": 65,
   "metadata": {},
   "outputs": [
    {
     "data": {
      "text/plain": [
       "(0.0, 0.36)"
      ]
     },
     "execution_count": 65,
     "metadata": {},
     "output_type": "execute_result"
    },
    {
     "data": {
      "image/png": "[encoded data removed]",
      "text/plain": [
       "<Figure size 432x288 with 1 Axes>"
      ]
     },
     "metadata": {
      "needs_background": "light"
     },
     "output_type": "display_data"
    }
   ],
   "source": [
    "df = pd.read_csv('../data/20200922-swelling-assay/20200922-swelling-assay-003-4_1MG-2LMN-area.txt')\n",
    "ax = sns.scatterplot(df.frame_number, (df.area-df.area[0])/df.area[0])\n",
    "# ax = sns.scatterplot(df.frame_number, df5.area)\n",
    "# ax.set_xlim([0,50])\n",
    "ax.set_ylim([0,0.36])"
   ]
  },
  {
   "cell_type": "code",
   "execution_count": 67,
   "metadata": {},
   "outputs": [
    {
     "data": {
      "text/plain": [
       "(0.0, 0.36)"
      ]
     },
     "execution_count": 67,
     "metadata": {},
     "output_type": "execute_result"
    },
    {
     "data": {
      "image/png": "[encoded data removed]",
      "text/plain": [
       "<Figure size 432x288 with 1 Axes>"
      ]
     },
     "metadata": {
      "needs_background": "light"
     },
     "output_type": "display_data"
    }
   ],
   "source": [
    "df = pd.read_csv('../data/20200922-swelling-assay/20200922-swelling-assay-003-6_1MG-2LMN-area.txt')\n",
    "ax = sns.scatterplot(df.frame_number, (df.area-df.area[0])/df.area[0])\n",
    "# ax = sns.scatterplot(df.frame_number, df5.area)\n",
    "# ax.set_xlim([0,50])\n",
    "ax.set_ylim([0,0.36])"
   ]
  },
  {
   "cell_type": "code",
   "execution_count": null,
   "metadata": {},
   "outputs": [],
   "source": []
  }
 ],
 "metadata": {
  "kernelspec": {
   "display_name": "Python 3",
   "language": "python",
   "name": "python3"
  },
  "language_info": {
   "codemirror_mode": {
    "name": "ipython",
    "version": 3
   },
   "file_extension": ".py",
   "mimetype": "text/x-python",
   "name": "python",
   "nbconvert_exporter": "python",
   "pygments_lexer": "ipython3",
   "version": "3.7.7"
  }
 },
 "nbformat": 4,
 "nbformat_minor": 4
}
